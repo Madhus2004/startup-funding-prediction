{
 "cells": [
  {
   "cell_type": "code",
   "execution_count": 2,
   "id": "e23689ce",
   "metadata": {},
   "outputs": [],
   "source": [
    "import pandas as pd\n",
    "import numpy as np\n",
    "import seaborn as sns\n",
    "import matplotlib.pyplot as plt\n",
    "%matplotlib inline"
   ]
  },
  {
   "cell_type": "code",
   "execution_count": 3,
   "id": "f75a9e62",
   "metadata": {},
   "outputs": [],
   "source": [
    "df=pd.read_csv(\"startup_funding.csv\")"
   ]
  },
  {
   "cell_type": "code",
   "execution_count": 4,
   "id": "2fb66dce",
   "metadata": {},
   "outputs": [
    {
     "data": {
      "text/html": [
       "<div>\n",
       "<style scoped>\n",
       "    .dataframe tbody tr th:only-of-type {\n",
       "        vertical-align: middle;\n",
       "    }\n",
       "\n",
       "    .dataframe tbody tr th {\n",
       "        vertical-align: top;\n",
       "    }\n",
       "\n",
       "    .dataframe thead th {\n",
       "        text-align: right;\n",
       "    }\n",
       "</style>\n",
       "<table border=\"1\" class=\"dataframe\">\n",
       "  <thead>\n",
       "    <tr style=\"text-align: right;\">\n",
       "      <th></th>\n",
       "      <th>Sr No</th>\n",
       "      <th>Date dd/mm/yyyy</th>\n",
       "      <th>Startup Name</th>\n",
       "      <th>Industry Vertical</th>\n",
       "      <th>SubVertical</th>\n",
       "      <th>City  Location</th>\n",
       "      <th>Investors Name</th>\n",
       "      <th>InvestmentnType</th>\n",
       "      <th>Amount in USD</th>\n",
       "      <th>Remarks</th>\n",
       "    </tr>\n",
       "  </thead>\n",
       "  <tbody>\n",
       "    <tr>\n",
       "      <th>0</th>\n",
       "      <td>1</td>\n",
       "      <td>09/01/2020</td>\n",
       "      <td>BYJU’S</td>\n",
       "      <td>E-Tech</td>\n",
       "      <td>E-learning</td>\n",
       "      <td>Bengaluru</td>\n",
       "      <td>Tiger Global Management</td>\n",
       "      <td>Private Equity Round</td>\n",
       "      <td>20,00,00,000</td>\n",
       "      <td>NaN</td>\n",
       "    </tr>\n",
       "    <tr>\n",
       "      <th>1</th>\n",
       "      <td>2</td>\n",
       "      <td>13/01/2020</td>\n",
       "      <td>Shuttl</td>\n",
       "      <td>Transportation</td>\n",
       "      <td>App based shuttle service</td>\n",
       "      <td>Gurgaon</td>\n",
       "      <td>Susquehanna Growth Equity</td>\n",
       "      <td>Series C</td>\n",
       "      <td>80,48,394</td>\n",
       "      <td>NaN</td>\n",
       "    </tr>\n",
       "    <tr>\n",
       "      <th>2</th>\n",
       "      <td>3</td>\n",
       "      <td>09/01/2020</td>\n",
       "      <td>Mamaearth</td>\n",
       "      <td>E-commerce</td>\n",
       "      <td>Retailer of baby and toddler products</td>\n",
       "      <td>Bengaluru</td>\n",
       "      <td>Sequoia Capital India</td>\n",
       "      <td>Series B</td>\n",
       "      <td>1,83,58,860</td>\n",
       "      <td>NaN</td>\n",
       "    </tr>\n",
       "    <tr>\n",
       "      <th>3</th>\n",
       "      <td>4</td>\n",
       "      <td>02/01/2020</td>\n",
       "      <td>https://www.wealthbucket.in/</td>\n",
       "      <td>FinTech</td>\n",
       "      <td>Online Investment</td>\n",
       "      <td>New Delhi</td>\n",
       "      <td>Vinod Khatumal</td>\n",
       "      <td>Pre-series A</td>\n",
       "      <td>30,00,000</td>\n",
       "      <td>NaN</td>\n",
       "    </tr>\n",
       "    <tr>\n",
       "      <th>4</th>\n",
       "      <td>5</td>\n",
       "      <td>02/01/2020</td>\n",
       "      <td>Fashor</td>\n",
       "      <td>Fashion and Apparel</td>\n",
       "      <td>Embroiled Clothes For Women</td>\n",
       "      <td>Mumbai</td>\n",
       "      <td>Sprout Venture Partners</td>\n",
       "      <td>Seed Round</td>\n",
       "      <td>18,00,000</td>\n",
       "      <td>NaN</td>\n",
       "    </tr>\n",
       "  </tbody>\n",
       "</table>\n",
       "</div>"
      ],
      "text/plain": [
       "   Sr No Date dd/mm/yyyy                  Startup Name    Industry Vertical  \\\n",
       "0      1      09/01/2020                        BYJU’S               E-Tech   \n",
       "1      2      13/01/2020                        Shuttl       Transportation   \n",
       "2      3      09/01/2020                     Mamaearth           E-commerce   \n",
       "3      4      02/01/2020  https://www.wealthbucket.in/              FinTech   \n",
       "4      5      02/01/2020                        Fashor  Fashion and Apparel   \n",
       "\n",
       "                             SubVertical City  Location  \\\n",
       "0                             E-learning      Bengaluru   \n",
       "1              App based shuttle service        Gurgaon   \n",
       "2  Retailer of baby and toddler products      Bengaluru   \n",
       "3                      Online Investment      New Delhi   \n",
       "4            Embroiled Clothes For Women         Mumbai   \n",
       "\n",
       "              Investors Name       InvestmentnType Amount in USD Remarks  \n",
       "0    Tiger Global Management  Private Equity Round  20,00,00,000     NaN  \n",
       "1  Susquehanna Growth Equity              Series C     80,48,394     NaN  \n",
       "2      Sequoia Capital India              Series B   1,83,58,860     NaN  \n",
       "3             Vinod Khatumal          Pre-series A     30,00,000     NaN  \n",
       "4    Sprout Venture Partners            Seed Round     18,00,000     NaN  "
      ]
     },
     "execution_count": 4,
     "metadata": {},
     "output_type": "execute_result"
    }
   ],
   "source": [
    "df.head()"
   ]
  },
  {
   "cell_type": "code",
   "execution_count": 5,
   "id": "5548dd2e",
   "metadata": {},
   "outputs": [
    {
     "name": "stdout",
     "output_type": "stream",
     "text": [
      "<class 'pandas.core.frame.DataFrame'>\n",
      "RangeIndex: 3044 entries, 0 to 3043\n",
      "Data columns (total 10 columns):\n",
      " #   Column             Non-Null Count  Dtype \n",
      "---  ------             --------------  ----- \n",
      " 0   Sr No              3044 non-null   int64 \n",
      " 1   Date dd/mm/yyyy    3044 non-null   object\n",
      " 2   Startup Name       3044 non-null   object\n",
      " 3   Industry Vertical  2873 non-null   object\n",
      " 4   SubVertical        2108 non-null   object\n",
      " 5   City  Location     2864 non-null   object\n",
      " 6   Investors Name     3020 non-null   object\n",
      " 7   InvestmentnType    3040 non-null   object\n",
      " 8   Amount in USD      2084 non-null   object\n",
      " 9   Remarks            419 non-null    object\n",
      "dtypes: int64(1), object(9)\n",
      "memory usage: 237.9+ KB\n"
     ]
    }
   ],
   "source": [
    "df.info()"
   ]
  },
  {
   "cell_type": "code",
   "execution_count": 6,
   "id": "e979b37e",
   "metadata": {},
   "outputs": [
    {
     "data": {
      "text/html": [
       "<div>\n",
       "<style scoped>\n",
       "    .dataframe tbody tr th:only-of-type {\n",
       "        vertical-align: middle;\n",
       "    }\n",
       "\n",
       "    .dataframe tbody tr th {\n",
       "        vertical-align: top;\n",
       "    }\n",
       "\n",
       "    .dataframe thead th {\n",
       "        text-align: right;\n",
       "    }\n",
       "</style>\n",
       "<table border=\"1\" class=\"dataframe\">\n",
       "  <thead>\n",
       "    <tr style=\"text-align: right;\">\n",
       "      <th></th>\n",
       "      <th>Sr No</th>\n",
       "    </tr>\n",
       "  </thead>\n",
       "  <tbody>\n",
       "    <tr>\n",
       "      <th>count</th>\n",
       "      <td>3044.000000</td>\n",
       "    </tr>\n",
       "    <tr>\n",
       "      <th>mean</th>\n",
       "      <td>1522.500000</td>\n",
       "    </tr>\n",
       "    <tr>\n",
       "      <th>std</th>\n",
       "      <td>878.871435</td>\n",
       "    </tr>\n",
       "    <tr>\n",
       "      <th>min</th>\n",
       "      <td>1.000000</td>\n",
       "    </tr>\n",
       "    <tr>\n",
       "      <th>25%</th>\n",
       "      <td>761.750000</td>\n",
       "    </tr>\n",
       "    <tr>\n",
       "      <th>50%</th>\n",
       "      <td>1522.500000</td>\n",
       "    </tr>\n",
       "    <tr>\n",
       "      <th>75%</th>\n",
       "      <td>2283.250000</td>\n",
       "    </tr>\n",
       "    <tr>\n",
       "      <th>max</th>\n",
       "      <td>3044.000000</td>\n",
       "    </tr>\n",
       "  </tbody>\n",
       "</table>\n",
       "</div>"
      ],
      "text/plain": [
       "             Sr No\n",
       "count  3044.000000\n",
       "mean   1522.500000\n",
       "std     878.871435\n",
       "min       1.000000\n",
       "25%     761.750000\n",
       "50%    1522.500000\n",
       "75%    2283.250000\n",
       "max    3044.000000"
      ]
     },
     "execution_count": 6,
     "metadata": {},
     "output_type": "execute_result"
    }
   ],
   "source": [
    "df.describe() #currently only Sr No is int"
   ]
  },
  {
   "cell_type": "code",
   "execution_count": 7,
   "id": "20436c64",
   "metadata": {},
   "outputs": [],
   "source": [
    "#Lets drop useless columns\n",
    "df.drop(columns=['Remarks','Sr No'],inplace=True)"
   ]
  },
  {
   "cell_type": "code",
   "execution_count": 8,
   "metadata": {},
   "outputs": [
    {
     "data": {
      "text/html": [
       "<div>\n",
       "<style scoped>\n",
       "    .dataframe tbody tr th:only-of-type {\n",
       "        vertical-align: middle;\n",
       "    }\n",
       "\n",
       "    .dataframe tbody tr th {\n",
       "        vertical-align: top;\n",
       "    }\n",
       "\n",
       "    .dataframe thead th {\n",
       "        text-align: right;\n",
       "    }\n",
       "</style>\n",
       "<table border=\"1\" class=\"dataframe\">\n",
       "  <thead>\n",
       "    <tr style=\"text-align: right;\">\n",
       "      <th></th>\n",
       "      <th>Date dd/mm/yyyy</th>\n",
       "      <th>Startup Name</th>\n",
       "      <th>Industry Vertical</th>\n",
       "      <th>SubVertical</th>\n",
       "      <th>City  Location</th>\n",
       "      <th>Investors Name</th>\n",
       "      <th>InvestmentnType</th>\n",
       "      <th>Amount in USD</th>\n",
       "    </tr>\n",
       "  </thead>\n",
       "  <tbody>\n",
       "    <tr>\n",
       "      <th>0</th>\n",
       "      <td>09/01/2020</td>\n",
       "      <td>BYJU’S</td>\n",
       "      <td>E-Tech</td>\n",
       "      <td>E-learning</td>\n",
       "      <td>Bengaluru</td>\n",
       "      <td>Tiger Global Management</td>\n",
       "      <td>Private Equity Round</td>\n",
       "      <td>20,00,00,000</td>\n",
       "    </tr>\n",
       "    <tr>\n",
       "      <th>1</th>\n",
       "      <td>13/01/2020</td>\n",
       "      <td>Shuttl</td>\n",
       "      <td>Transportation</td>\n",
       "      <td>App based shuttle service</td>\n",
       "      <td>Gurgaon</td>\n",
       "      <td>Susquehanna Growth Equity</td>\n",
       "      <td>Series C</td>\n",
       "      <td>80,48,394</td>\n",
       "    </tr>\n",
       "    <tr>\n",
       "      <th>2</th>\n",
       "      <td>09/01/2020</td>\n",
       "      <td>Mamaearth</td>\n",
       "      <td>E-commerce</td>\n",
       "      <td>Retailer of baby and toddler products</td>\n",
       "      <td>Bengaluru</td>\n",
       "      <td>Sequoia Capital India</td>\n",
       "      <td>Series B</td>\n",
       "      <td>1,83,58,860</td>\n",
       "    </tr>\n",
       "    <tr>\n",
       "      <th>3</th>\n",
       "      <td>02/01/2020</td>\n",
       "      <td>https://www.wealthbucket.in/</td>\n",
       "      <td>FinTech</td>\n",
       "      <td>Online Investment</td>\n",
       "      <td>New Delhi</td>\n",
       "      <td>Vinod Khatumal</td>\n",
       "      <td>Pre-series A</td>\n",
       "      <td>30,00,000</td>\n",
       "    </tr>\n",
       "    <tr>\n",
       "      <th>4</th>\n",
       "      <td>02/01/2020</td>\n",
       "      <td>Fashor</td>\n",
       "      <td>Fashion and Apparel</td>\n",
       "      <td>Embroiled Clothes For Women</td>\n",
       "      <td>Mumbai</td>\n",
       "      <td>Sprout Venture Partners</td>\n",
       "      <td>Seed Round</td>\n",
       "      <td>18,00,000</td>\n",
       "    </tr>\n",
       "  </tbody>\n",
       "</table>\n",
       "</div>"
      ],
      "text/plain": [
       "  Date dd/mm/yyyy                  Startup Name    Industry Vertical  \\\n",
       "0      09/01/2020                        BYJU’S               E-Tech   \n",
       "1      13/01/2020                        Shuttl       Transportation   \n",
       "2      09/01/2020                     Mamaearth           E-commerce   \n",
       "3      02/01/2020  https://www.wealthbucket.in/              FinTech   \n",
       "4      02/01/2020                        Fashor  Fashion and Apparel   \n",
       "\n",
       "                             SubVertical City  Location  \\\n",
       "0                             E-learning      Bengaluru   \n",
       "1              App based shuttle service        Gurgaon   \n",
       "2  Retailer of baby and toddler products      Bengaluru   \n",
       "3                      Online Investment      New Delhi   \n",
       "4            Embroiled Clothes For Women         Mumbai   \n",
       "\n",
       "              Investors Name       InvestmentnType Amount in USD  \n",
       "0    Tiger Global Management  Private Equity Round  20,00,00,000  \n",
       "1  Susquehanna Growth Equity              Series C     80,48,394  \n",
       "2      Sequoia Capital India              Series B   1,83,58,860  \n",
       "3             Vinod Khatumal          Pre-series A     30,00,000  \n",
       "4    Sprout Venture Partners            Seed Round     18,00,000  "
      ]
     },
     "execution_count": 8,
     "metadata": {},
     "output_type": "execute_result"
    }
   ],
   "source": [
    "df.head()"
   ]
  },
  {
   "cell_type": "code",
   "execution_count": 9,
   "id": "88ed3556",
   "metadata": {},
   "outputs": [],
   "source": [
    "#Rename columns\n",
    "df.rename(columns={\n",
    "    'Date dd/mm/yyyy':'Date',\n",
    "    'City  Location':'City',\n",
    "    'Investors Name':'Investors',\n",
    "    'InvestmentnType':'InvestmentType',\n",
    "    'Amount in USD':'Amount'\n",
    "},inplace=True)"
   ]
  },
  {
   "cell_type": "code",
   "execution_count": 10,
   "id": "5be64123",
   "metadata": {},
   "outputs": [
    {
     "data": {
      "text/html": [
       "<div>\n",
       "<style scoped>\n",
       "    .dataframe tbody tr th:only-of-type {\n",
       "        vertical-align: middle;\n",
       "    }\n",
       "\n",
       "    .dataframe tbody tr th {\n",
       "        vertical-align: top;\n",
       "    }\n",
       "\n",
       "    .dataframe thead th {\n",
       "        text-align: right;\n",
       "    }\n",
       "</style>\n",
       "<table border=\"1\" class=\"dataframe\">\n",
       "  <thead>\n",
       "    <tr style=\"text-align: right;\">\n",
       "      <th></th>\n",
       "      <th>Date</th>\n",
       "      <th>Startup Name</th>\n",
       "      <th>Industry Vertical</th>\n",
       "      <th>SubVertical</th>\n",
       "      <th>City</th>\n",
       "      <th>Investors</th>\n",
       "      <th>InvestmentType</th>\n",
       "      <th>Amount</th>\n",
       "    </tr>\n",
       "  </thead>\n",
       "  <tbody>\n",
       "    <tr>\n",
       "      <th>0</th>\n",
       "      <td>09/01/2020</td>\n",
       "      <td>BYJU’S</td>\n",
       "      <td>E-Tech</td>\n",
       "      <td>E-learning</td>\n",
       "      <td>Bengaluru</td>\n",
       "      <td>Tiger Global Management</td>\n",
       "      <td>Private Equity Round</td>\n",
       "      <td>20,00,00,000</td>\n",
       "    </tr>\n",
       "    <tr>\n",
       "      <th>1</th>\n",
       "      <td>13/01/2020</td>\n",
       "      <td>Shuttl</td>\n",
       "      <td>Transportation</td>\n",
       "      <td>App based shuttle service</td>\n",
       "      <td>Gurgaon</td>\n",
       "      <td>Susquehanna Growth Equity</td>\n",
       "      <td>Series C</td>\n",
       "      <td>80,48,394</td>\n",
       "    </tr>\n",
       "    <tr>\n",
       "      <th>2</th>\n",
       "      <td>09/01/2020</td>\n",
       "      <td>Mamaearth</td>\n",
       "      <td>E-commerce</td>\n",
       "      <td>Retailer of baby and toddler products</td>\n",
       "      <td>Bengaluru</td>\n",
       "      <td>Sequoia Capital India</td>\n",
       "      <td>Series B</td>\n",
       "      <td>1,83,58,860</td>\n",
       "    </tr>\n",
       "    <tr>\n",
       "      <th>3</th>\n",
       "      <td>02/01/2020</td>\n",
       "      <td>https://www.wealthbucket.in/</td>\n",
       "      <td>FinTech</td>\n",
       "      <td>Online Investment</td>\n",
       "      <td>New Delhi</td>\n",
       "      <td>Vinod Khatumal</td>\n",
       "      <td>Pre-series A</td>\n",
       "      <td>30,00,000</td>\n",
       "    </tr>\n",
       "    <tr>\n",
       "      <th>4</th>\n",
       "      <td>02/01/2020</td>\n",
       "      <td>Fashor</td>\n",
       "      <td>Fashion and Apparel</td>\n",
       "      <td>Embroiled Clothes For Women</td>\n",
       "      <td>Mumbai</td>\n",
       "      <td>Sprout Venture Partners</td>\n",
       "      <td>Seed Round</td>\n",
       "      <td>18,00,000</td>\n",
       "    </tr>\n",
       "  </tbody>\n",
       "</table>\n",
       "</div>"
      ],
      "text/plain": [
       "         Date                  Startup Name    Industry Vertical  \\\n",
       "0  09/01/2020                        BYJU’S               E-Tech   \n",
       "1  13/01/2020                        Shuttl       Transportation   \n",
       "2  09/01/2020                     Mamaearth           E-commerce   \n",
       "3  02/01/2020  https://www.wealthbucket.in/              FinTech   \n",
       "4  02/01/2020                        Fashor  Fashion and Apparel   \n",
       "\n",
       "                             SubVertical       City  \\\n",
       "0                             E-learning  Bengaluru   \n",
       "1              App based shuttle service    Gurgaon   \n",
       "2  Retailer of baby and toddler products  Bengaluru   \n",
       "3                      Online Investment  New Delhi   \n",
       "4            Embroiled Clothes For Women     Mumbai   \n",
       "\n",
       "                   Investors        InvestmentType        Amount  \n",
       "0    Tiger Global Management  Private Equity Round  20,00,00,000  \n",
       "1  Susquehanna Growth Equity              Series C     80,48,394  \n",
       "2      Sequoia Capital India              Series B   1,83,58,860  \n",
       "3             Vinod Khatumal          Pre-series A     30,00,000  \n",
       "4    Sprout Venture Partners            Seed Round     18,00,000  "
      ]
     },
     "execution_count": 10,
     "metadata": {},
     "output_type": "execute_result"
    }
   ],
   "source": [
    "df.head()"
   ]
  },
  {
   "cell_type": "code",
   "execution_count": 11,
   "id": "55e4c315",
   "metadata": {},
   "outputs": [],
   "source": [
    "#creating new column based whether an startup is funded or not\n",
    "df['is_funded']=df['Amount'].notnull().astype(int)"
   ]
  },
  {
   "cell_type": "code",
   "execution_count": 12,
   "id": "dd2d81d6",
   "metadata": {},
   "outputs": [
    {
     "data": {
      "text/html": [
       "<div>\n",
       "<style scoped>\n",
       "    .dataframe tbody tr th:only-of-type {\n",
       "        vertical-align: middle;\n",
       "    }\n",
       "\n",
       "    .dataframe tbody tr th {\n",
       "        vertical-align: top;\n",
       "    }\n",
       "\n",
       "    .dataframe thead th {\n",
       "        text-align: right;\n",
       "    }\n",
       "</style>\n",
       "<table border=\"1\" class=\"dataframe\">\n",
       "  <thead>\n",
       "    <tr style=\"text-align: right;\">\n",
       "      <th></th>\n",
       "      <th>Date</th>\n",
       "      <th>Startup Name</th>\n",
       "      <th>Industry Vertical</th>\n",
       "      <th>SubVertical</th>\n",
       "      <th>City</th>\n",
       "      <th>Investors</th>\n",
       "      <th>InvestmentType</th>\n",
       "      <th>Amount</th>\n",
       "      <th>is_funded</th>\n",
       "    </tr>\n",
       "  </thead>\n",
       "  <tbody>\n",
       "    <tr>\n",
       "      <th>0</th>\n",
       "      <td>09/01/2020</td>\n",
       "      <td>BYJU’S</td>\n",
       "      <td>E-Tech</td>\n",
       "      <td>E-learning</td>\n",
       "      <td>Bengaluru</td>\n",
       "      <td>Tiger Global Management</td>\n",
       "      <td>Private Equity Round</td>\n",
       "      <td>20,00,00,000</td>\n",
       "      <td>1</td>\n",
       "    </tr>\n",
       "    <tr>\n",
       "      <th>1</th>\n",
       "      <td>13/01/2020</td>\n",
       "      <td>Shuttl</td>\n",
       "      <td>Transportation</td>\n",
       "      <td>App based shuttle service</td>\n",
       "      <td>Gurgaon</td>\n",
       "      <td>Susquehanna Growth Equity</td>\n",
       "      <td>Series C</td>\n",
       "      <td>80,48,394</td>\n",
       "      <td>1</td>\n",
       "    </tr>\n",
       "    <tr>\n",
       "      <th>2</th>\n",
       "      <td>09/01/2020</td>\n",
       "      <td>Mamaearth</td>\n",
       "      <td>E-commerce</td>\n",
       "      <td>Retailer of baby and toddler products</td>\n",
       "      <td>Bengaluru</td>\n",
       "      <td>Sequoia Capital India</td>\n",
       "      <td>Series B</td>\n",
       "      <td>1,83,58,860</td>\n",
       "      <td>1</td>\n",
       "    </tr>\n",
       "    <tr>\n",
       "      <th>3</th>\n",
       "      <td>02/01/2020</td>\n",
       "      <td>https://www.wealthbucket.in/</td>\n",
       "      <td>FinTech</td>\n",
       "      <td>Online Investment</td>\n",
       "      <td>New Delhi</td>\n",
       "      <td>Vinod Khatumal</td>\n",
       "      <td>Pre-series A</td>\n",
       "      <td>30,00,000</td>\n",
       "      <td>1</td>\n",
       "    </tr>\n",
       "    <tr>\n",
       "      <th>4</th>\n",
       "      <td>02/01/2020</td>\n",
       "      <td>Fashor</td>\n",
       "      <td>Fashion and Apparel</td>\n",
       "      <td>Embroiled Clothes For Women</td>\n",
       "      <td>Mumbai</td>\n",
       "      <td>Sprout Venture Partners</td>\n",
       "      <td>Seed Round</td>\n",
       "      <td>18,00,000</td>\n",
       "      <td>1</td>\n",
       "    </tr>\n",
       "  </tbody>\n",
       "</table>\n",
       "</div>"
      ],
      "text/plain": [
       "         Date                  Startup Name    Industry Vertical  \\\n",
       "0  09/01/2020                        BYJU’S               E-Tech   \n",
       "1  13/01/2020                        Shuttl       Transportation   \n",
       "2  09/01/2020                     Mamaearth           E-commerce   \n",
       "3  02/01/2020  https://www.wealthbucket.in/              FinTech   \n",
       "4  02/01/2020                        Fashor  Fashion and Apparel   \n",
       "\n",
       "                             SubVertical       City  \\\n",
       "0                             E-learning  Bengaluru   \n",
       "1              App based shuttle service    Gurgaon   \n",
       "2  Retailer of baby and toddler products  Bengaluru   \n",
       "3                      Online Investment  New Delhi   \n",
       "4            Embroiled Clothes For Women     Mumbai   \n",
       "\n",
       "                   Investors        InvestmentType        Amount  is_funded  \n",
       "0    Tiger Global Management  Private Equity Round  20,00,00,000          1  \n",
       "1  Susquehanna Growth Equity              Series C     80,48,394          1  \n",
       "2      Sequoia Capital India              Series B   1,83,58,860          1  \n",
       "3             Vinod Khatumal          Pre-series A     30,00,000          1  \n",
       "4    Sprout Venture Partners            Seed Round     18,00,000          1  "
      ]
     },
     "execution_count": 12,
     "metadata": {},
     "output_type": "execute_result"
    }
   ],
   "source": [
    "df.head()"
   ]
  },
  {
   "cell_type": "code",
   "execution_count": 13,
   "id": "59ebe35d",
   "metadata": {},
   "outputs": [
    {
     "data": {
      "text/plain": [
       "Amount\n",
       "10,00,000      165\n",
       "5,00,000       108\n",
       "20,00,000       69\n",
       "30,00,000       66\n",
       "50,00,000       66\n",
       "              ... \n",
       "21,50,000        1\n",
       "41,50,000        1\n",
       "5,18,000         1\n",
       "1,15,000         1\n",
       "2,80,00,000      1\n",
       "Name: count, Length: 471, dtype: int64"
      ]
     },
     "execution_count": 13,
     "metadata": {},
     "output_type": "execute_result"
    }
   ],
   "source": [
    "df['Amount'].value_counts()"
   ]
  },
  {
   "cell_type": "code",
   "execution_count": 14,
   "id": "9e0e3e34",
   "metadata": {},
   "outputs": [
    {
     "data": {
      "text/plain": [
       "is_funded\n",
       "1    2084\n",
       "0     960\n",
       "Name: count, dtype: int64"
      ]
     },
     "execution_count": 14,
     "metadata": {},
     "output_type": "execute_result"
    }
   ],
   "source": [
    "df['is_funded'].value_counts()"
   ]
  },
  {
   "cell_type": "code",
   "execution_count": 15,
   "id": "af738b4e",
   "metadata": {},
   "outputs": [
    {
     "data": {
      "text/plain": [
       "is_funded\n",
       "1    2084\n",
       "0     960\n",
       "Name: count, dtype: int64"
      ]
     },
     "execution_count": 15,
     "metadata": {},
     "output_type": "execute_result"
    }
   ],
   "source": [
    "df['is_funded'].value_counts()"
   ]
  },
  {
   "cell_type": "code",
   "execution_count": 16,
   "id": "ea2ffe73",
   "metadata": {},
   "outputs": [
    {
     "data": {
      "text/plain": [
       "3044"
      ]
     },
     "execution_count": 16,
     "metadata": {},
     "output_type": "execute_result"
    }
   ],
   "source": [
    "2084+960"
   ]
  },
  {
   "cell_type": "code",
   "execution_count": 17,
   "id": "8b8337fa",
   "metadata": {},
   "outputs": [
    {
     "data": {
      "text/plain": [
       "City\n",
       "Bangalore                 700\n",
       "Mumbai                    567\n",
       "New Delhi                 421\n",
       "Gurgaon                   287\n",
       "Bengaluru                 141\n",
       "                         ... \n",
       "India / US                  1\n",
       "\\\\xc2\\\\xa0Bangalore         1\n",
       "\\\\xc2\\\\xa0Mumbai            1\n",
       "New Delhi / California      1\n",
       "Dallas / Hyderabad          1\n",
       "Name: count, Length: 112, dtype: int64"
      ]
     },
     "execution_count": 17,
     "metadata": {},
     "output_type": "execute_result"
    }
   ],
   "source": [
    "#calculate null values for city column\n",
    "df['City'].value_counts()"
   ]
  },
  {
   "cell_type": "code",
   "execution_count": 18,
   "id": "81851503",
   "metadata": {},
   "outputs": [
    {
     "data": {
      "text/plain": [
       "is_funded\n",
       "1    2084\n",
       "0     960\n",
       "Name: count, dtype: int64"
      ]
     },
     "execution_count": 18,
     "metadata": {},
     "output_type": "execute_result"
    }
   ],
   "source": [
    "df['is_funded'].value_counts()"
   ]
  },
  {
   "cell_type": "code",
   "execution_count": 19,
   "id": "e1f24739",
   "metadata": {},
   "outputs": [
    {
     "name": "stderr",
     "output_type": "stream",
     "text": [
      "C:\\Users\\Admin\\AppData\\Local\\Temp\\ipykernel_14536\\3028396032.py:1: FutureWarning: A value is trying to be set on a copy of a DataFrame or Series through chained assignment using an inplace method.\n",
      "The behavior will change in pandas 3.0. This inplace method will never work because the intermediate object on which we are setting values always behaves as a copy.\n",
      "\n",
      "For example, when doing 'df[col].method(value, inplace=True)', try using 'df.method({col: value}, inplace=True)' or df[col] = df[col].method(value) instead, to perform the operation inplace on the original object.\n",
      "\n",
      "\n",
      "  df['City'].fillna('Unknown',inplace=True)\n"
     ]
    }
   ],
   "source": [
    "df['City'].fillna('Unknown',inplace=True)"
   ]
  },
  {
   "cell_type": "code",
   "execution_count": 20,
   "id": "332b842b",
   "metadata": {},
   "outputs": [],
   "source": [
    "#for investors column\n",
    "df['Investors']=df['Investors'].fillna('Undisclosed')\n"
   ]
  },
  {
   "cell_type": "code",
   "execution_count": 21,
   "id": "04149574",
   "metadata": {},
   "outputs": [],
   "source": [
    "#for industry vertical column\n",
    "df['Industry Vertical']=df['Industry Vertical'].fillna('Unknown')\n"
   ]
  },
  {
   "cell_type": "code",
   "execution_count": 22,
   "id": "850e4b38",
   "metadata": {},
   "outputs": [
    {
     "data": {
      "text/plain": [
       "is_funded\n",
       "1    2084\n",
       "0     960\n",
       "Name: count, dtype: int64"
      ]
     },
     "execution_count": 22,
     "metadata": {},
     "output_type": "execute_result"
    }
   ],
   "source": [
    "df['is_funded'].value_counts()"
   ]
  },
  {
   "cell_type": "code",
   "execution_count": 23,
   "id": "e84b2bb4",
   "metadata": {},
   "outputs": [
    {
     "data": {
      "text/plain": [
       "Amount\n",
       "10,00,000      165\n",
       "5,00,000       108\n",
       "20,00,000       69\n",
       "30,00,000       66\n",
       "50,00,000       66\n",
       "              ... \n",
       "21,50,000        1\n",
       "41,50,000        1\n",
       "5,18,000         1\n",
       "1,15,000         1\n",
       "2,80,00,000      1\n",
       "Name: count, Length: 471, dtype: int64"
      ]
     },
     "execution_count": 23,
     "metadata": {},
     "output_type": "execute_result"
    }
   ],
   "source": [
    "df['Amount'].value_counts()"
   ]
  },
  {
   "cell_type": "code",
   "execution_count": 24,
   "id": "71e73be4",
   "metadata": {},
   "outputs": [
    {
     "data": {
      "text/html": [
       "<div>\n",
       "<style scoped>\n",
       "    .dataframe tbody tr th:only-of-type {\n",
       "        vertical-align: middle;\n",
       "    }\n",
       "\n",
       "    .dataframe tbody tr th {\n",
       "        vertical-align: top;\n",
       "    }\n",
       "\n",
       "    .dataframe thead th {\n",
       "        text-align: right;\n",
       "    }\n",
       "</style>\n",
       "<table border=\"1\" class=\"dataframe\">\n",
       "  <thead>\n",
       "    <tr style=\"text-align: right;\">\n",
       "      <th></th>\n",
       "      <th>Date</th>\n",
       "      <th>Startup Name</th>\n",
       "      <th>Industry Vertical</th>\n",
       "      <th>SubVertical</th>\n",
       "      <th>City</th>\n",
       "      <th>Investors</th>\n",
       "      <th>InvestmentType</th>\n",
       "      <th>Amount</th>\n",
       "      <th>is_funded</th>\n",
       "    </tr>\n",
       "  </thead>\n",
       "  <tbody>\n",
       "    <tr>\n",
       "      <th>0</th>\n",
       "      <td>09/01/2020</td>\n",
       "      <td>BYJU’S</td>\n",
       "      <td>E-Tech</td>\n",
       "      <td>E-learning</td>\n",
       "      <td>Bengaluru</td>\n",
       "      <td>Tiger Global Management</td>\n",
       "      <td>Private Equity Round</td>\n",
       "      <td>20,00,00,000</td>\n",
       "      <td>1</td>\n",
       "    </tr>\n",
       "    <tr>\n",
       "      <th>1</th>\n",
       "      <td>13/01/2020</td>\n",
       "      <td>Shuttl</td>\n",
       "      <td>Transportation</td>\n",
       "      <td>App based shuttle service</td>\n",
       "      <td>Gurgaon</td>\n",
       "      <td>Susquehanna Growth Equity</td>\n",
       "      <td>Series C</td>\n",
       "      <td>80,48,394</td>\n",
       "      <td>1</td>\n",
       "    </tr>\n",
       "    <tr>\n",
       "      <th>2</th>\n",
       "      <td>09/01/2020</td>\n",
       "      <td>Mamaearth</td>\n",
       "      <td>E-commerce</td>\n",
       "      <td>Retailer of baby and toddler products</td>\n",
       "      <td>Bengaluru</td>\n",
       "      <td>Sequoia Capital India</td>\n",
       "      <td>Series B</td>\n",
       "      <td>1,83,58,860</td>\n",
       "      <td>1</td>\n",
       "    </tr>\n",
       "    <tr>\n",
       "      <th>3</th>\n",
       "      <td>02/01/2020</td>\n",
       "      <td>https://www.wealthbucket.in/</td>\n",
       "      <td>FinTech</td>\n",
       "      <td>Online Investment</td>\n",
       "      <td>New Delhi</td>\n",
       "      <td>Vinod Khatumal</td>\n",
       "      <td>Pre-series A</td>\n",
       "      <td>30,00,000</td>\n",
       "      <td>1</td>\n",
       "    </tr>\n",
       "    <tr>\n",
       "      <th>4</th>\n",
       "      <td>02/01/2020</td>\n",
       "      <td>Fashor</td>\n",
       "      <td>Fashion and Apparel</td>\n",
       "      <td>Embroiled Clothes For Women</td>\n",
       "      <td>Mumbai</td>\n",
       "      <td>Sprout Venture Partners</td>\n",
       "      <td>Seed Round</td>\n",
       "      <td>18,00,000</td>\n",
       "      <td>1</td>\n",
       "    </tr>\n",
       "    <tr>\n",
       "      <th>...</th>\n",
       "      <td>...</td>\n",
       "      <td>...</td>\n",
       "      <td>...</td>\n",
       "      <td>...</td>\n",
       "      <td>...</td>\n",
       "      <td>...</td>\n",
       "      <td>...</td>\n",
       "      <td>...</td>\n",
       "      <td>...</td>\n",
       "    </tr>\n",
       "    <tr>\n",
       "      <th>3038</th>\n",
       "      <td>28/01/2015</td>\n",
       "      <td>Grabhouse.com</td>\n",
       "      <td>Unknown</td>\n",
       "      <td>NaN</td>\n",
       "      <td>Unknown</td>\n",
       "      <td>Kalaari Capital, Sequoia Capital</td>\n",
       "      <td>Private Equity</td>\n",
       "      <td>25,00,000</td>\n",
       "      <td>1</td>\n",
       "    </tr>\n",
       "    <tr>\n",
       "      <th>3039</th>\n",
       "      <td>29/01/2015</td>\n",
       "      <td>Printvenue</td>\n",
       "      <td>Unknown</td>\n",
       "      <td>NaN</td>\n",
       "      <td>Unknown</td>\n",
       "      <td>Asia Pacific Internet Group</td>\n",
       "      <td>Private Equity</td>\n",
       "      <td>45,00,000</td>\n",
       "      <td>1</td>\n",
       "    </tr>\n",
       "    <tr>\n",
       "      <th>3040</th>\n",
       "      <td>29/01/2015</td>\n",
       "      <td>Graphene</td>\n",
       "      <td>Unknown</td>\n",
       "      <td>NaN</td>\n",
       "      <td>Unknown</td>\n",
       "      <td>KARSEMVEN Fund</td>\n",
       "      <td>Private Equity</td>\n",
       "      <td>8,25,000</td>\n",
       "      <td>1</td>\n",
       "    </tr>\n",
       "    <tr>\n",
       "      <th>3041</th>\n",
       "      <td>30/01/2015</td>\n",
       "      <td>Mad Street Den</td>\n",
       "      <td>Unknown</td>\n",
       "      <td>NaN</td>\n",
       "      <td>Unknown</td>\n",
       "      <td>Exfinity Fund, GrowX Ventures.</td>\n",
       "      <td>Private Equity</td>\n",
       "      <td>15,00,000</td>\n",
       "      <td>1</td>\n",
       "    </tr>\n",
       "    <tr>\n",
       "      <th>3043</th>\n",
       "      <td>31/01/2015</td>\n",
       "      <td>couponmachine.in</td>\n",
       "      <td>Unknown</td>\n",
       "      <td>NaN</td>\n",
       "      <td>Unknown</td>\n",
       "      <td>UK based Group of Angel Investors</td>\n",
       "      <td>Seed Funding</td>\n",
       "      <td>1,40,000</td>\n",
       "      <td>1</td>\n",
       "    </tr>\n",
       "  </tbody>\n",
       "</table>\n",
       "<p>2084 rows × 9 columns</p>\n",
       "</div>"
      ],
      "text/plain": [
       "            Date                  Startup Name    Industry Vertical  \\\n",
       "0     09/01/2020                        BYJU’S               E-Tech   \n",
       "1     13/01/2020                        Shuttl       Transportation   \n",
       "2     09/01/2020                     Mamaearth           E-commerce   \n",
       "3     02/01/2020  https://www.wealthbucket.in/              FinTech   \n",
       "4     02/01/2020                        Fashor  Fashion and Apparel   \n",
       "...          ...                           ...                  ...   \n",
       "3038  28/01/2015                 Grabhouse.com              Unknown   \n",
       "3039  29/01/2015                    Printvenue              Unknown   \n",
       "3040  29/01/2015                      Graphene              Unknown   \n",
       "3041  30/01/2015                Mad Street Den              Unknown   \n",
       "3043  31/01/2015              couponmachine.in              Unknown   \n",
       "\n",
       "                                SubVertical       City  \\\n",
       "0                                E-learning  Bengaluru   \n",
       "1                 App based shuttle service    Gurgaon   \n",
       "2     Retailer of baby and toddler products  Bengaluru   \n",
       "3                         Online Investment  New Delhi   \n",
       "4               Embroiled Clothes For Women     Mumbai   \n",
       "...                                     ...        ...   \n",
       "3038                                    NaN    Unknown   \n",
       "3039                                    NaN    Unknown   \n",
       "3040                                    NaN    Unknown   \n",
       "3041                                    NaN    Unknown   \n",
       "3043                                    NaN    Unknown   \n",
       "\n",
       "                              Investors        InvestmentType        Amount  \\\n",
       "0               Tiger Global Management  Private Equity Round  20,00,00,000   \n",
       "1             Susquehanna Growth Equity              Series C     80,48,394   \n",
       "2                 Sequoia Capital India              Series B   1,83,58,860   \n",
       "3                        Vinod Khatumal          Pre-series A     30,00,000   \n",
       "4               Sprout Venture Partners            Seed Round     18,00,000   \n",
       "...                                 ...                   ...           ...   \n",
       "3038   Kalaari Capital, Sequoia Capital        Private Equity     25,00,000   \n",
       "3039        Asia Pacific Internet Group        Private Equity     45,00,000   \n",
       "3040                     KARSEMVEN Fund        Private Equity      8,25,000   \n",
       "3041     Exfinity Fund, GrowX Ventures.        Private Equity     15,00,000   \n",
       "3043  UK based Group of Angel Investors          Seed Funding      1,40,000   \n",
       "\n",
       "      is_funded  \n",
       "0             1  \n",
       "1             1  \n",
       "2             1  \n",
       "3             1  \n",
       "4             1  \n",
       "...         ...  \n",
       "3038          1  \n",
       "3039          1  \n",
       "3040          1  \n",
       "3041          1  \n",
       "3043          1  \n",
       "\n",
       "[2084 rows x 9 columns]"
      ]
     },
     "execution_count": 24,
     "metadata": {},
     "output_type": "execute_result"
    }
   ],
   "source": [
    "df[df['Amount'].apply(lambda x: isinstance(x,str))]\n",
    "#no string element"
   ]
  },
  {
   "cell_type": "code",
   "execution_count": 25,
   "id": "2ef57f85",
   "metadata": {},
   "outputs": [
    {
     "data": {
      "text/plain": [
       "np.int64(960)"
      ]
     },
     "execution_count": 25,
     "metadata": {},
     "output_type": "execute_result"
    }
   ],
   "source": [
    "df['Amount'].isna().sum()"
   ]
  },
  {
   "cell_type": "code",
   "execution_count": 26,
   "id": "7a29bd26",
   "metadata": {},
   "outputs": [
    {
     "data": {
      "text/plain": [
       "is_funded\n",
       "1    2084\n",
       "0     960\n",
       "Name: count, dtype: int64"
      ]
     },
     "execution_count": 26,
     "metadata": {},
     "output_type": "execute_result"
    }
   ],
   "source": [
    "df['is_funded'].value_counts()"
   ]
  },
  {
   "cell_type": "code",
   "execution_count": 27,
   "id": "26d665d5",
   "metadata": {},
   "outputs": [
    {
     "name": "stdout",
     "output_type": "stream",
     "text": [
      "<class 'pandas.core.frame.DataFrame'>\n",
      "RangeIndex: 3044 entries, 0 to 3043\n",
      "Data columns (total 9 columns):\n",
      " #   Column             Non-Null Count  Dtype \n",
      "---  ------             --------------  ----- \n",
      " 0   Date               3044 non-null   object\n",
      " 1   Startup Name       3044 non-null   object\n",
      " 2   Industry Vertical  3044 non-null   object\n",
      " 3   SubVertical        2108 non-null   object\n",
      " 4   City               3044 non-null   object\n",
      " 5   Investors          3044 non-null   object\n",
      " 6   InvestmentType     3040 non-null   object\n",
      " 7   Amount             2084 non-null   object\n",
      " 8   is_funded          3044 non-null   int64 \n",
      "dtypes: int64(1), object(8)\n",
      "memory usage: 214.2+ KB\n"
     ]
    }
   ],
   "source": [
    "df.info()"
   ]
  },
  {
   "cell_type": "code",
   "execution_count": 28,
   "id": "1a6b5f6a",
   "metadata": {},
   "outputs": [
    {
     "data": {
      "text/plain": [
       "is_funded\n",
       "1    2084\n",
       "0     960\n",
       "Name: count, dtype: int64"
      ]
     },
     "execution_count": 28,
     "metadata": {},
     "output_type": "execute_result"
    }
   ],
   "source": [
    "df['is_funded'].value_counts()"
   ]
  },
  {
   "cell_type": "code",
   "execution_count": 29,
   "id": "cdadfaa3",
   "metadata": {},
   "outputs": [],
   "source": [
    "def clean_amount(x):\n",
    "    if isinstance(x, str):\n",
    "        x = x.replace(',', '').strip().lower()\n",
    "        if x in ['undisclosed', 'unknown', 'n/a', 'nan', '']:\n",
    "            return None\n",
    "        try:\n",
    "            return float(x)\n",
    "        except:\n",
    "            return None\n",
    "    return x\n",
    "\n",
    "df['Amount'] = df['Amount'].apply(clean_amount)\n"
   ]
  },
  {
   "cell_type": "code",
   "execution_count": 30,
   "id": "508cc28d",
   "metadata": {},
   "outputs": [],
   "source": [
    "df['is_funded'] = df['Amount'].notnull().astype(int)\n"
   ]
  },
  {
   "cell_type": "code",
   "execution_count": 31,
   "id": "7dee5e60",
   "metadata": {},
   "outputs": [
    {
     "data": {
      "text/plain": [
       "is_funded\n",
       "1    2065\n",
       "0     979\n",
       "Name: count, dtype: int64"
      ]
     },
     "execution_count": 31,
     "metadata": {},
     "output_type": "execute_result"
    }
   ],
   "source": [
    "df['is_funded'].value_counts()"
   ]
  },
  {
   "cell_type": "code",
   "execution_count": 32,
   "id": "28fe1266",
   "metadata": {},
   "outputs": [
    {
     "data": {
      "text/html": [
       "<div>\n",
       "<style scoped>\n",
       "    .dataframe tbody tr th:only-of-type {\n",
       "        vertical-align: middle;\n",
       "    }\n",
       "\n",
       "    .dataframe tbody tr th {\n",
       "        vertical-align: top;\n",
       "    }\n",
       "\n",
       "    .dataframe thead th {\n",
       "        text-align: right;\n",
       "    }\n",
       "</style>\n",
       "<table border=\"1\" class=\"dataframe\">\n",
       "  <thead>\n",
       "    <tr style=\"text-align: right;\">\n",
       "      <th></th>\n",
       "      <th>Date</th>\n",
       "      <th>Startup Name</th>\n",
       "      <th>Industry Vertical</th>\n",
       "      <th>SubVertical</th>\n",
       "      <th>City</th>\n",
       "      <th>Investors</th>\n",
       "      <th>InvestmentType</th>\n",
       "      <th>Amount</th>\n",
       "      <th>is_funded</th>\n",
       "    </tr>\n",
       "  </thead>\n",
       "  <tbody>\n",
       "    <tr>\n",
       "      <th>0</th>\n",
       "      <td>09/01/2020</td>\n",
       "      <td>BYJU’S</td>\n",
       "      <td>E-Tech</td>\n",
       "      <td>E-learning</td>\n",
       "      <td>Bengaluru</td>\n",
       "      <td>Tiger Global Management</td>\n",
       "      <td>Private Equity Round</td>\n",
       "      <td>200000000.0</td>\n",
       "      <td>1</td>\n",
       "    </tr>\n",
       "    <tr>\n",
       "      <th>1</th>\n",
       "      <td>13/01/2020</td>\n",
       "      <td>Shuttl</td>\n",
       "      <td>Transportation</td>\n",
       "      <td>App based shuttle service</td>\n",
       "      <td>Gurgaon</td>\n",
       "      <td>Susquehanna Growth Equity</td>\n",
       "      <td>Series C</td>\n",
       "      <td>8048394.0</td>\n",
       "      <td>1</td>\n",
       "    </tr>\n",
       "    <tr>\n",
       "      <th>2</th>\n",
       "      <td>09/01/2020</td>\n",
       "      <td>Mamaearth</td>\n",
       "      <td>E-commerce</td>\n",
       "      <td>Retailer of baby and toddler products</td>\n",
       "      <td>Bengaluru</td>\n",
       "      <td>Sequoia Capital India</td>\n",
       "      <td>Series B</td>\n",
       "      <td>18358860.0</td>\n",
       "      <td>1</td>\n",
       "    </tr>\n",
       "    <tr>\n",
       "      <th>3</th>\n",
       "      <td>02/01/2020</td>\n",
       "      <td>https://www.wealthbucket.in/</td>\n",
       "      <td>FinTech</td>\n",
       "      <td>Online Investment</td>\n",
       "      <td>New Delhi</td>\n",
       "      <td>Vinod Khatumal</td>\n",
       "      <td>Pre-series A</td>\n",
       "      <td>3000000.0</td>\n",
       "      <td>1</td>\n",
       "    </tr>\n",
       "    <tr>\n",
       "      <th>4</th>\n",
       "      <td>02/01/2020</td>\n",
       "      <td>Fashor</td>\n",
       "      <td>Fashion and Apparel</td>\n",
       "      <td>Embroiled Clothes For Women</td>\n",
       "      <td>Mumbai</td>\n",
       "      <td>Sprout Venture Partners</td>\n",
       "      <td>Seed Round</td>\n",
       "      <td>1800000.0</td>\n",
       "      <td>1</td>\n",
       "    </tr>\n",
       "  </tbody>\n",
       "</table>\n",
       "</div>"
      ],
      "text/plain": [
       "         Date                  Startup Name    Industry Vertical  \\\n",
       "0  09/01/2020                        BYJU’S               E-Tech   \n",
       "1  13/01/2020                        Shuttl       Transportation   \n",
       "2  09/01/2020                     Mamaearth           E-commerce   \n",
       "3  02/01/2020  https://www.wealthbucket.in/              FinTech   \n",
       "4  02/01/2020                        Fashor  Fashion and Apparel   \n",
       "\n",
       "                             SubVertical       City  \\\n",
       "0                             E-learning  Bengaluru   \n",
       "1              App based shuttle service    Gurgaon   \n",
       "2  Retailer of baby and toddler products  Bengaluru   \n",
       "3                      Online Investment  New Delhi   \n",
       "4            Embroiled Clothes For Women     Mumbai   \n",
       "\n",
       "                   Investors        InvestmentType       Amount  is_funded  \n",
       "0    Tiger Global Management  Private Equity Round  200000000.0          1  \n",
       "1  Susquehanna Growth Equity              Series C    8048394.0          1  \n",
       "2      Sequoia Capital India              Series B   18358860.0          1  \n",
       "3             Vinod Khatumal          Pre-series A    3000000.0          1  \n",
       "4    Sprout Venture Partners            Seed Round    1800000.0          1  "
      ]
     },
     "execution_count": 32,
     "metadata": {},
     "output_type": "execute_result"
    }
   ],
   "source": [
    "df.head()"
   ]
  },
  {
   "cell_type": "code",
   "execution_count": 33,
   "id": "e6dc866b",
   "metadata": {},
   "outputs": [
    {
     "data": {
      "text/plain": [
       "<bound method IndexOpsMixin.value_counts of 0       200000000.0\n",
       "1         8048394.0\n",
       "2        18358860.0\n",
       "3         3000000.0\n",
       "4         1800000.0\n",
       "           ...     \n",
       "3039      4500000.0\n",
       "3040       825000.0\n",
       "3041      1500000.0\n",
       "3042            NaN\n",
       "3043       140000.0\n",
       "Name: Amount, Length: 3044, dtype: float64>"
      ]
     },
     "execution_count": 33,
     "metadata": {},
     "output_type": "execute_result"
    }
   ],
   "source": [
    "df['Amount'].value_counts"
   ]
  },
  {
   "cell_type": "code",
   "execution_count": 34,
   "id": "4b56afc7",
   "metadata": {},
   "outputs": [],
   "source": [
    "#getting month and year data from column date\n",
    "df['Date']=pd.to_datetime(df['Date'],format=\"%d/%m/%Y\",errors='coerce')\n",
    "df['Year']=df['Date'].dt.year.dropna().astype('Int64')\n",
    "df['Month']=df['Date'].dt.month.dropna().astype('Int64')"
   ]
  },
  {
   "cell_type": "code",
   "execution_count": 35,
   "metadata": {},
   "outputs": [
    {
     "data": {
      "text/html": [
       "<div>\n",
       "<style scoped>\n",
       "    .dataframe tbody tr th:only-of-type {\n",
       "        vertical-align: middle;\n",
       "    }\n",
       "\n",
       "    .dataframe tbody tr th {\n",
       "        vertical-align: top;\n",
       "    }\n",
       "\n",
       "    .dataframe thead th {\n",
       "        text-align: right;\n",
       "    }\n",
       "</style>\n",
       "<table border=\"1\" class=\"dataframe\">\n",
       "  <thead>\n",
       "    <tr style=\"text-align: right;\">\n",
       "      <th></th>\n",
       "      <th>Date</th>\n",
       "      <th>Startup Name</th>\n",
       "      <th>Industry Vertical</th>\n",
       "      <th>SubVertical</th>\n",
       "      <th>City</th>\n",
       "      <th>Investors</th>\n",
       "      <th>InvestmentType</th>\n",
       "      <th>Amount</th>\n",
       "      <th>is_funded</th>\n",
       "      <th>Year</th>\n",
       "      <th>Month</th>\n",
       "    </tr>\n",
       "  </thead>\n",
       "  <tbody>\n",
       "    <tr>\n",
       "      <th>0</th>\n",
       "      <td>2020-01-09</td>\n",
       "      <td>BYJU’S</td>\n",
       "      <td>E-Tech</td>\n",
       "      <td>E-learning</td>\n",
       "      <td>Bengaluru</td>\n",
       "      <td>Tiger Global Management</td>\n",
       "      <td>Private Equity Round</td>\n",
       "      <td>200000000.0</td>\n",
       "      <td>1</td>\n",
       "      <td>2020</td>\n",
       "      <td>1</td>\n",
       "    </tr>\n",
       "    <tr>\n",
       "      <th>1</th>\n",
       "      <td>2020-01-13</td>\n",
       "      <td>Shuttl</td>\n",
       "      <td>Transportation</td>\n",
       "      <td>App based shuttle service</td>\n",
       "      <td>Gurgaon</td>\n",
       "      <td>Susquehanna Growth Equity</td>\n",
       "      <td>Series C</td>\n",
       "      <td>8048394.0</td>\n",
       "      <td>1</td>\n",
       "      <td>2020</td>\n",
       "      <td>1</td>\n",
       "    </tr>\n",
       "    <tr>\n",
       "      <th>2</th>\n",
       "      <td>2020-01-09</td>\n",
       "      <td>Mamaearth</td>\n",
       "      <td>E-commerce</td>\n",
       "      <td>Retailer of baby and toddler products</td>\n",
       "      <td>Bengaluru</td>\n",
       "      <td>Sequoia Capital India</td>\n",
       "      <td>Series B</td>\n",
       "      <td>18358860.0</td>\n",
       "      <td>1</td>\n",
       "      <td>2020</td>\n",
       "      <td>1</td>\n",
       "    </tr>\n",
       "    <tr>\n",
       "      <th>3</th>\n",
       "      <td>2020-01-02</td>\n",
       "      <td>https://www.wealthbucket.in/</td>\n",
       "      <td>FinTech</td>\n",
       "      <td>Online Investment</td>\n",
       "      <td>New Delhi</td>\n",
       "      <td>Vinod Khatumal</td>\n",
       "      <td>Pre-series A</td>\n",
       "      <td>3000000.0</td>\n",
       "      <td>1</td>\n",
       "      <td>2020</td>\n",
       "      <td>1</td>\n",
       "    </tr>\n",
       "    <tr>\n",
       "      <th>4</th>\n",
       "      <td>2020-01-02</td>\n",
       "      <td>Fashor</td>\n",
       "      <td>Fashion and Apparel</td>\n",
       "      <td>Embroiled Clothes For Women</td>\n",
       "      <td>Mumbai</td>\n",
       "      <td>Sprout Venture Partners</td>\n",
       "      <td>Seed Round</td>\n",
       "      <td>1800000.0</td>\n",
       "      <td>1</td>\n",
       "      <td>2020</td>\n",
       "      <td>1</td>\n",
       "    </tr>\n",
       "  </tbody>\n",
       "</table>\n",
       "</div>"
      ],
      "text/plain": [
       "        Date                  Startup Name    Industry Vertical  \\\n",
       "0 2020-01-09                        BYJU’S               E-Tech   \n",
       "1 2020-01-13                        Shuttl       Transportation   \n",
       "2 2020-01-09                     Mamaearth           E-commerce   \n",
       "3 2020-01-02  https://www.wealthbucket.in/              FinTech   \n",
       "4 2020-01-02                        Fashor  Fashion and Apparel   \n",
       "\n",
       "                             SubVertical       City  \\\n",
       "0                             E-learning  Bengaluru   \n",
       "1              App based shuttle service    Gurgaon   \n",
       "2  Retailer of baby and toddler products  Bengaluru   \n",
       "3                      Online Investment  New Delhi   \n",
       "4            Embroiled Clothes For Women     Mumbai   \n",
       "\n",
       "                   Investors        InvestmentType       Amount  is_funded  \\\n",
       "0    Tiger Global Management  Private Equity Round  200000000.0          1   \n",
       "1  Susquehanna Growth Equity              Series C    8048394.0          1   \n",
       "2      Sequoia Capital India              Series B   18358860.0          1   \n",
       "3             Vinod Khatumal          Pre-series A    3000000.0          1   \n",
       "4    Sprout Venture Partners            Seed Round    1800000.0          1   \n",
       "\n",
       "   Year  Month  \n",
       "0  2020      1  \n",
       "1  2020      1  \n",
       "2  2020      1  \n",
       "3  2020      1  \n",
       "4  2020      1  "
      ]
     },
     "execution_count": 35,
     "metadata": {},
     "output_type": "execute_result"
    }
   ],
   "source": [
    "df.head()"
   ]
  },
  {
   "cell_type": "code",
   "execution_count": 36,
   "id": "8c9f786f",
   "metadata": {},
   "outputs": [
    {
     "name": "stdout",
     "output_type": "stream",
     "text": [
      "<class 'pandas.core.frame.DataFrame'>\n",
      "RangeIndex: 3044 entries, 0 to 3043\n",
      "Data columns (total 11 columns):\n",
      " #   Column             Non-Null Count  Dtype         \n",
      "---  ------             --------------  -----         \n",
      " 0   Date               3036 non-null   datetime64[ns]\n",
      " 1   Startup Name       3044 non-null   object        \n",
      " 2   Industry Vertical  3044 non-null   object        \n",
      " 3   SubVertical        2108 non-null   object        \n",
      " 4   City               3044 non-null   object        \n",
      " 5   Investors          3044 non-null   object        \n",
      " 6   InvestmentType     3040 non-null   object        \n",
      " 7   Amount             2065 non-null   float64       \n",
      " 8   is_funded          3044 non-null   int64         \n",
      " 9   Year               3036 non-null   Int64         \n",
      " 10  Month              3036 non-null   Int64         \n",
      "dtypes: Int64(2), datetime64[ns](1), float64(1), int64(1), object(6)\n",
      "memory usage: 267.7+ KB\n"
     ]
    }
   ],
   "source": [
    "df.info()"
   ]
  },
  {
   "cell_type": "code",
   "execution_count": 37,
   "metadata": {},
   "outputs": [
    {
     "data": {
      "text/plain": [
       "array(['Bengaluru', 'Gurgaon', 'New Delhi', 'Mumbai', 'Chennai', 'Pune',\n",
       "       'Noida', 'Faridabad', 'San Francisco', 'San Jose,', 'Amritsar',\n",
       "       'Delhi', 'Kormangala', 'Tulangan', 'Hyderabad', 'Burnsville',\n",
       "       'Menlo Park', 'Gurugram', 'Palo Alto', 'Santa Monica', 'Singapore',\n",
       "       'Taramani', 'Andheri', 'Chembur', 'Nairobi', 'Haryana', 'New York',\n",
       "       'Karnataka', 'Mumbai/Bengaluru', 'Bhopal',\n",
       "       'Bengaluru and Gurugram', 'India/Singapore', 'Jaipur', 'India/US',\n",
       "       'Nagpur', 'Indore', 'New York, Bengaluru', 'California', 'India',\n",
       "       'Ahemadabad', 'Rourkela', 'Srinagar', 'Bhubneswar', 'Chandigarh',\n",
       "       'Delhi & Cambridge', 'Kolkatta', 'Kolkata', 'Coimbatore',\n",
       "       'Bangalore', 'Udaipur', 'Unknown', 'Ahemdabad', 'Bhubaneswar',\n",
       "       'Ahmedabad', 'Surat', 'Goa', 'Uttar Pradesh', 'Nw Delhi', 'Gaya',\n",
       "       'Vadodara', 'Trivandrum', 'Missourie', 'Panaji', 'Gwalior',\n",
       "       'Karur', 'Udupi', 'Kochi', 'Agra', 'Bangalore/ Bangkok', 'Hubli',\n",
       "       'Kerala', 'Kozhikode', 'US', 'Siliguri', 'USA', 'Lucknow',\n",
       "       'Kanpur', 'SFO / Bangalore', 'London', 'Seattle / Bangalore',\n",
       "       'Pune/Seattle', 'Pune / Dubai', 'Bangalore / SFO', 'Varanasi',\n",
       "       'New Delhi / US', 'Mumbai / UK', 'Jodhpur', 'Hyderabad/USA',\n",
       "       'Boston', 'Bangalore / Palo Alto', 'Mumbai / NY', 'USA/India',\n",
       "       'Goa/Hyderabad', 'Noida / Singapore', 'Belgaum', 'Pune / US',\n",
       "       'Chennai/ Singapore', 'Pune / Singapore', 'Bangalore / San Mateo',\n",
       "       'New York/ India', 'US/India', 'Gurgaon / SFO', 'Bangalore / USA',\n",
       "       'New Delhi/ Houston', 'Mumbai / Global', 'India / US',\n",
       "       '\\\\\\\\xc2\\\\\\\\xa0Noida', '\\\\\\\\xc2\\\\\\\\xa0Bangalore',\n",
       "       '\\\\\\\\xc2\\\\\\\\xa0Gurgaon', '\\\\\\\\xc2\\\\\\\\xa0New Delhi',\n",
       "       '\\\\\\\\xc2\\\\\\\\xa0Mumbai', 'New Delhi / California',\n",
       "       'Dallas / Hyderabad'], dtype=object)"
      ]
     },
     "execution_count": 37,
     "metadata": {},
     "output_type": "execute_result"
    }
   ],
   "source": [
    "df['City'].unique()"
   ]
  },
  {
   "cell_type": "code",
   "execution_count": 38,
   "id": "29b1bda1",
   "metadata": {},
   "outputs": [],
   "source": [
    "#clean city\n",
    "df['City']=df['City'].str.strip().str.lower().replace({\n",
    "    'new delhi':'delhi',\n",
    "    'bangalore':'bengaluru'\n",
    "})"
   ]
  },
  {
   "cell_type": "code",
   "execution_count": 39,
   "id": "9b2c49cc",
   "metadata": {},
   "outputs": [
    {
     "data": {
      "text/plain": [
       "array(['bengaluru', 'gurgaon', 'delhi', 'mumbai', 'chennai', 'pune',\n",
       "       'noida', 'faridabad', 'san francisco', 'san jose,', 'amritsar',\n",
       "       'kormangala', 'tulangan', 'hyderabad', 'burnsville', 'menlo park',\n",
       "       'gurugram', 'palo alto', 'santa monica', 'singapore', 'taramani',\n",
       "       'andheri', 'chembur', 'nairobi', 'haryana', 'new york',\n",
       "       'karnataka', 'mumbai/bengaluru', 'bhopal',\n",
       "       'bengaluru and gurugram', 'india/singapore', 'jaipur', 'india/us',\n",
       "       'nagpur', 'indore', 'new york, bengaluru', 'california', 'india',\n",
       "       'ahemadabad', 'rourkela', 'srinagar', 'bhubneswar', 'chandigarh',\n",
       "       'delhi & cambridge', 'kolkatta', 'kolkata', 'coimbatore',\n",
       "       'udaipur', 'unknown', 'ahemdabad', 'bhubaneswar', 'ahmedabad',\n",
       "       'surat', 'goa', 'uttar pradesh', 'nw delhi', 'gaya', 'vadodara',\n",
       "       'trivandrum', 'missourie', 'panaji', 'gwalior', 'karur', 'udupi',\n",
       "       'kochi', 'agra', 'bangalore/ bangkok', 'hubli', 'kerala',\n",
       "       'kozhikode', 'us', 'siliguri', 'usa', 'lucknow', 'kanpur',\n",
       "       'sfo / bangalore', 'london', 'seattle / bangalore', 'pune/seattle',\n",
       "       'pune / dubai', 'bangalore / sfo', 'varanasi', 'new delhi / us',\n",
       "       'mumbai / uk', 'jodhpur', 'hyderabad/usa', 'boston',\n",
       "       'bangalore / palo alto', 'mumbai / ny', 'usa/india',\n",
       "       'goa/hyderabad', 'noida / singapore', 'belgaum', 'pune / us',\n",
       "       'chennai/ singapore', 'pune / singapore', 'bangalore / san mateo',\n",
       "       'new york/ india', 'us/india', 'gurgaon / sfo', 'bangalore / usa',\n",
       "       'new delhi/ houston', 'mumbai / global', 'india / us',\n",
       "       '\\\\\\\\xc2\\\\\\\\xa0noida', '\\\\\\\\xc2\\\\\\\\xa0bangalore',\n",
       "       '\\\\\\\\xc2\\\\\\\\xa0gurgaon', '\\\\\\\\xc2\\\\\\\\xa0new delhi',\n",
       "       '\\\\\\\\xc2\\\\\\\\xa0mumbai', 'new delhi / california',\n",
       "       'dallas / hyderabad'], dtype=object)"
      ]
     },
     "execution_count": 39,
     "metadata": {},
     "output_type": "execute_result"
    }
   ],
   "source": [
    "df['City'].unique()"
   ]
  },
  {
   "cell_type": "code",
   "execution_count": 40,
   "id": "a33a31ff",
   "metadata": {},
   "outputs": [
    {
     "data": {
      "text/plain": [
       "822"
      ]
     },
     "execution_count": 40,
     "metadata": {},
     "output_type": "execute_result"
    }
   ],
   "source": [
    "#clean industry vertical\n",
    "df['Industry Vertical'].nunique()"
   ]
  },
  {
   "cell_type": "code",
   "execution_count": 41,
   "id": "ae08f831",
   "metadata": {},
   "outputs": [
    {
     "data": {
      "text/plain": [
       "Industry Vertical\n",
       "Consumer Internet            941\n",
       "Technology                   478\n",
       "eCommerce                    186\n",
       "Unknown                      171\n",
       "Healthcare                    70\n",
       "Finance                       62\n",
       "ECommerce                     61\n",
       "Logistics                     32\n",
       "E-Commerce                    29\n",
       "Education                     24\n",
       "Food & Beverage               23\n",
       "Ed-Tech                       14\n",
       "E-commerce                    12\n",
       "FinTech                        9\n",
       "IT                             8\n",
       "Ecommerce                      8\n",
       "Food and Beverage              6\n",
       "Others                         6\n",
       "Fin-Tech                       6\n",
       "Real Estate                    6\n",
       "Health and Wellness            5\n",
       "Logistics Tech                 5\n",
       "Online Food Delivery           5\n",
       "Online Education Platform      5\n",
       "Transportation                 4\n",
       "Transport                      4\n",
       "EdTech                         3\n",
       "Services                       3\n",
       "Food Delivery Platform         3\n",
       "Food                           3\n",
       "Name: count, dtype: int64"
      ]
     },
     "execution_count": 41,
     "metadata": {},
     "output_type": "execute_result"
    }
   ],
   "source": [
    "df['Industry Vertical'].value_counts().head(30)"
   ]
  },
  {
   "cell_type": "code",
   "execution_count": 42,
   "id": "285e75b6",
   "metadata": {},
   "outputs": [],
   "source": [
    "df['Industry Vertical']=df['Industry Vertical'].str.strip().str.lower()"
   ]
  },
  {
   "cell_type": "code",
   "execution_count": 43,
   "id": "769791b4",
   "metadata": {},
   "outputs": [
    {
     "data": {
      "text/plain": [
       "Industry Vertical\n",
       "consumer internet                           942\n",
       "technology                                  478\n",
       "ecommerce                                   258\n",
       "unknown                                     171\n",
       "healthcare                                   71\n",
       "finance                                      62\n",
       "e-commerce                                   41\n",
       "logistics                                    32\n",
       "education                                    24\n",
       "food & beverage                              23\n",
       "ed-tech                                      15\n",
       "fintech                                      10\n",
       "it                                            8\n",
       "real estate                                   6\n",
       "food and beverage                             6\n",
       "fin-tech                                      6\n",
       "others                                        6\n",
       "health and wellness                           6\n",
       "logistics tech                                5\n",
       "online food delivery                          5\n",
       "edtech                                        5\n",
       "online education platform                     5\n",
       "transportation                                4\n",
       "transport                                     4\n",
       "saas                                          4\n",
       "food delivery platform                        4\n",
       "hyperlocal handyman services                  4\n",
       "food and beverages                            3\n",
       "information technology                        3\n",
       "food & beverages                              3\n",
       "services                                      3\n",
       "automobile                                    3\n",
       "social media                                  3\n",
       "fmcg                                          3\n",
       "food                                          3\n",
       "big data & analytics platform                 3\n",
       "health-tech platform                          2\n",
       "cab rental mobile app                         2\n",
       "mobile fitness app                            2\n",
       "tech                                          2\n",
       "health care                                   2\n",
       "waste management service                      2\n",
       "inspiration                                   2\n",
       "agriculture                                   2\n",
       "online food ordering & delivery service       2\n",
       "digital media                                 2\n",
       "financial tech                                2\n",
       "online food ordering & delivery platform      2\n",
       "hospitality                                   2\n",
       "logistics tech platform                       2\n",
       "Name: count, dtype: int64"
      ]
     },
     "execution_count": 43,
     "metadata": {},
     "output_type": "execute_result"
    }
   ],
   "source": [
    "df['Industry Vertical'].value_counts().head(50)"
   ]
  },
  {
   "cell_type": "code",
   "execution_count": 44,
   "id": "da7a0f20",
   "metadata": {},
   "outputs": [],
   "source": [
    "df['Industry Vertical']=df['Industry Vertical'].replace({\n",
    "    'ecommerce': 'e-commerce',\n",
    "    'ed-tech': 'education',\n",
    "    'edtech': 'education',\n",
    "    'online food delivery': 'food & beverage',\n",
    "    'food and beverage': 'food & beverage',\n",
    "    'fin-tech': 'finance',\n",
    "    'fintech': 'finance',\n",
    "    'it': 'technology',\n",
    "    'logistics tech': 'logistics',\n",
    "    'health and wellness': 'healthcare',\n",
    "    'consumer internet': 'consumer services',\n",
    "    'unknown': 'others',\n",
    "    'internet of things platform': 'technology',\n",
    "    'social media': 'media & entertainment',\n",
    "    'home services marketplace': 'consumer services',\n",
    "    'digital media': 'media & entertainment',\n",
    "    'online marketplace': 'e-commerce',\n",
    "    'saas': 'technology',\n",
    "    'hyperlocal handyman services': 'consumer services'\n",
    "\n",
    "})"
   ]
  },
  {
   "cell_type": "code",
   "execution_count": 45,
   "id": "d4da64d3",
   "metadata": {},
   "outputs": [
    {
     "data": {
      "text/plain": [
       "Industry Vertical\n",
       "consumer services                                     948\n",
       "technology                                            492\n",
       "e-commerce                                            301\n",
       "others                                                177\n",
       "finance                                                78\n",
       "                                                     ... \n",
       "online identity verification services platform          1\n",
       "corporate wellness app                                  1\n",
       "fashion search & review platform                        1\n",
       "hyperlocal maintenance, repair & cleaning services      1\n",
       "pre-owned luxury online apparel seller                  1\n",
       "Name: count, Length: 500, dtype: int64"
      ]
     },
     "execution_count": 45,
     "metadata": {},
     "output_type": "execute_result"
    }
   ],
   "source": [
    "df['Industry Vertical'].value_counts().head(500)"
   ]
  },
  {
   "cell_type": "code",
   "execution_count": 46,
   "id": "db4d7e13",
   "metadata": {},
   "outputs": [
    {
     "data": {
      "text/plain": [
       "783"
      ]
     },
     "execution_count": 46,
     "metadata": {},
     "output_type": "execute_result"
    }
   ],
   "source": [
    "df['Industry Vertical'].nunique()"
   ]
  },
  {
   "cell_type": "code",
   "execution_count": 47,
   "id": "dd001684",
   "metadata": {},
   "outputs": [],
   "source": [
    "def clean_and_group_industry(val):\n",
    "    val = str(val).lower().strip()\n",
    "\n",
    "    if 'e-commerce' in val or 'marketplace' in val:\n",
    "        return 'e-commerce'\n",
    "    elif 'fintech' in val or 'finance' in val or 'payments' in val:\n",
    "        return 'finance'\n",
    "    elif 'education' in val or 'edtech' in val:\n",
    "        return 'education'\n",
    "    elif 'health' in val or 'pharma' in val:\n",
    "        return 'healthcare'\n",
    "    elif 'food' in val or 'restaurant' in val or 'table reservation' in val:\n",
    "        return 'food & beverage'\n",
    "    elif 'logistics' in val or 'transport' in val:\n",
    "        return 'logistics'\n",
    "    elif 'media' in val or 'content' in val:\n",
    "        return 'media & entertainment'\n",
    "    elif 'tech' in val or 'platform' in val or 'saas' in val or 'software' in val or 'messaging' in val:\n",
    "        return 'technology'\n",
    "    elif 'service' in val or 'on-demand' in val or 'consumer' in val:\n",
    "        return 'consumer services'\n",
    "    elif 'real estate' in val:\n",
    "        return 'real estate'\n",
    "    else:\n",
    "        return 'others'\n",
    "\n",
    "df['Industry Vertical Cleaned'] = df['Industry Vertical'].apply(clean_and_group_industry)\n"
   ]
  },
  {
   "cell_type": "code",
   "execution_count": 48,
   "id": "72e5ea7d",
   "metadata": {},
   "outputs": [
    {
     "data": {
      "text/plain": [
       "11"
      ]
     },
     "execution_count": 48,
     "metadata": {},
     "output_type": "execute_result"
    }
   ],
   "source": [
    "df['Industry Vertical Cleaned'].nunique()"
   ]
  },
  {
   "cell_type": "code",
   "execution_count": 49,
   "id": "f3522ec7",
   "metadata": {},
   "outputs": [
    {
     "data": {
      "text/plain": [
       "array(['technology', 'logistics', 'e-commerce', 'finance', 'others',\n",
       "       'food & beverage', 'healthcare', 'education', 'consumer services',\n",
       "       'media & entertainment', 'real estate'], dtype=object)"
      ]
     },
     "execution_count": 49,
     "metadata": {},
     "output_type": "execute_result"
    }
   ],
   "source": [
    "df['Industry Vertical Cleaned'].unique()"
   ]
  },
  {
   "cell_type": "code",
   "execution_count": 50,
   "id": "7b298c32",
   "metadata": {},
   "outputs": [
    {
     "data": {
      "text/plain": [
       "is_funded\n",
       "1    2065\n",
       "0     979\n",
       "Name: count, dtype: int64"
      ]
     },
     "execution_count": 50,
     "metadata": {},
     "output_type": "execute_result"
    }
   ],
   "source": [
    "df['is_funded'].value_counts()"
   ]
  },
  {
   "cell_type": "code",
   "execution_count": 51,
   "id": "d7b44d2b",
   "metadata": {},
   "outputs": [
    {
     "name": "stdout",
     "output_type": "stream",
     "text": [
      "<class 'pandas.core.frame.DataFrame'>\n",
      "RangeIndex: 3044 entries, 0 to 3043\n",
      "Data columns (total 12 columns):\n",
      " #   Column                     Non-Null Count  Dtype         \n",
      "---  ------                     --------------  -----         \n",
      " 0   Date                       3036 non-null   datetime64[ns]\n",
      " 1   Startup Name               3044 non-null   object        \n",
      " 2   Industry Vertical          3044 non-null   object        \n",
      " 3   SubVertical                2108 non-null   object        \n",
      " 4   City                       3044 non-null   object        \n",
      " 5   Investors                  3044 non-null   object        \n",
      " 6   InvestmentType             3040 non-null   object        \n",
      " 7   Amount                     2065 non-null   float64       \n",
      " 8   is_funded                  3044 non-null   int64         \n",
      " 9   Year                       3036 non-null   Int64         \n",
      " 10  Month                      3036 non-null   Int64         \n",
      " 11  Industry Vertical Cleaned  3044 non-null   object        \n",
      "dtypes: Int64(2), datetime64[ns](1), float64(1), int64(1), object(7)\n",
      "memory usage: 291.4+ KB\n"
     ]
    }
   ],
   "source": [
    "df.info()"
   ]
  },
  {
   "cell_type": "code",
   "execution_count": 52,
   "id": "6eea923a",
   "metadata": {},
   "outputs": [
    {
     "data": {
      "text/plain": [
       "array(['Private Equity Round', 'Series C', 'Series B', 'Pre-series A',\n",
       "       'Seed Round', 'Series A', 'Series D', 'Seed', 'Series F',\n",
       "       'Series E', 'Debt Funding', 'Series G', 'Series H', 'Venture',\n",
       "       'Seed Funding', nan, 'Funding Round', 'Corporate Round',\n",
       "       'Maiden Round', 'pre-series A', 'Seed Funding Round',\n",
       "       'Single Venture', 'Venture Round', 'Pre-Series A', 'Angel',\n",
       "       'Series J', 'Angel Round', 'pre-Series A',\n",
       "       'Venture - Series Unknown', 'Bridge Round', 'Private Equity',\n",
       "       'Debt and Preference capital', 'Inhouse Funding',\n",
       "       'Seed/ Angel Funding', 'Debt', 'Pre Series A', 'Equity',\n",
       "       'Debt-Funding', 'Mezzanine', 'Series B (Extension)',\n",
       "       'Equity Based Funding', 'Private Funding', 'Seed / Angel Funding',\n",
       "       'Seed/Angel Funding', 'Seed funding', 'Seed / Angle Funding',\n",
       "       'Angel / Seed Funding', 'Private', 'Structured Debt', 'Term Loan',\n",
       "       'PrivateEquity', 'Angel Funding', 'Seed\\\\\\\\nFunding',\n",
       "       'Private\\\\\\\\nEquity', 'Crowd funding', 'Crowd Funding'],\n",
       "      dtype=object)"
      ]
     },
     "execution_count": 52,
     "metadata": {},
     "output_type": "execute_result"
    }
   ],
   "source": [
    "df['InvestmentType'].unique()"
   ]
  },
  {
   "cell_type": "code",
   "execution_count": 53,
   "id": "e16cc53d",
   "metadata": {},
   "outputs": [],
   "source": [
    "def clean_investment_type(x):\n",
    "    x = str(x).lower().replace('\\n', ' ').strip()\n",
    "    \n",
    "    if 'seed' in x:\n",
    "        return 'Seed'\n",
    "    elif 'angel' in x:\n",
    "        return 'Angel'\n",
    "    elif 'pre-series a' in x or 'preseries a' in x:\n",
    "        return 'Pre-Series A'\n",
    "    elif 'series a' in x:\n",
    "        return 'Series A'\n",
    "    elif 'series b' in x:\n",
    "        return 'Series B'\n",
    "    elif 'series c' in x:\n",
    "        return 'Series C'\n",
    "    elif any(k in x for k in ['series d', 'series e', 'series f', 'series g', 'series h', 'series j']):\n",
    "        return 'Series D+'\n",
    "    elif 'private equity' in x or 'privateequity' in x:\n",
    "        return 'Private Equity'\n",
    "    elif 'venture' in x:\n",
    "        return 'Venture'\n",
    "    elif 'debt' in x or 'term loan' in x or 'structured debt' in x:\n",
    "        return 'Debt'\n",
    "    elif 'equity' in x:\n",
    "        return 'Equity'\n",
    "    elif 'crowd' in x:\n",
    "        return 'Crowd Funding'\n",
    "    elif 'inhouse' in x or 'private funding' in x or 'maiden' in x or 'funding round' in x or 'mezzanine' in x:\n",
    "        return 'Other'\n",
    "    else:\n",
    "        return 'Other'\n",
    "\n",
    "df['InvestmentType_Cleaned'] = df['InvestmentType'].apply(clean_investment_type)\n"
   ]
  },
  {
   "cell_type": "code",
   "execution_count": 54,
   "id": "5a3ba153",
   "metadata": {},
   "outputs": [
    {
     "data": {
      "text/plain": [
       "array(['Private Equity', 'Series C', 'Series B', 'Pre-Series A', 'Seed',\n",
       "       'Series A', 'Series D+', 'Debt', 'Venture', 'Other', 'Angel',\n",
       "       'Equity', 'Crowd Funding'], dtype=object)"
      ]
     },
     "execution_count": 54,
     "metadata": {},
     "output_type": "execute_result"
    }
   ],
   "source": [
    "df['InvestmentType_Cleaned'].unique()"
   ]
  },
  {
   "cell_type": "code",
   "execution_count": 55,
   "id": "c72b3c0a",
   "metadata": {},
   "outputs": [
    {
     "data": {
      "text/plain": [
       "2412"
      ]
     },
     "execution_count": 55,
     "metadata": {},
     "output_type": "execute_result"
    }
   ],
   "source": [
    "df['Investors'].nunique()"
   ]
  },
  {
   "cell_type": "code",
   "execution_count": 56,
   "id": "3ec4946b",
   "metadata": {},
   "outputs": [],
   "source": [
    "def clean_investors(x):\n",
    "    x = str(x).lower().replace('\\n', ' ').strip()\n",
    "  \n",
    " \n",
    "    if 'undisclosed' in x:\n",
    "        return 'Undisclosed'\n",
    "    elif 'not disclosed' in x:\n",
    "        return 'Undisclosed'\n",
    "    else:\n",
    "        return x.title()\n",
    "    \n",
    "df['Investors_Cleaned'] = df['Investors'].apply(clean_investors)\n"
   ]
  },
  {
   "cell_type": "code",
   "execution_count": 57,
   "id": "37a84101",
   "metadata": {},
   "outputs": [
    {
     "data": {
      "text/plain": [
       "2356"
      ]
     },
     "execution_count": 57,
     "metadata": {},
     "output_type": "execute_result"
    }
   ],
   "source": [
    "df['Investors_Cleaned'].nunique()"
   ]
  },
  {
   "cell_type": "code",
   "execution_count": 58,
   "id": "05816d8d",
   "metadata": {},
   "outputs": [],
   "source": [
    "df=df.drop(columns=['Investors'])"
   ]
  },
  {
   "cell_type": "code",
   "execution_count": 59,
   "id": "66040223",
   "metadata": {},
   "outputs": [
    {
     "data": {
      "text/plain": [
       "is_funded\n",
       "1    2065\n",
       "0     979\n",
       "Name: count, dtype: int64"
      ]
     },
     "execution_count": 59,
     "metadata": {},
     "output_type": "execute_result"
    }
   ],
   "source": [
    "df['is_funded'].value_counts()"
   ]
  },
  {
   "cell_type": "code",
   "execution_count": 60,
   "id": "bd05bf8e",
   "metadata": {},
   "outputs": [
    {
     "name": "stdout",
     "output_type": "stream",
     "text": [
      "<class 'pandas.core.frame.DataFrame'>\n",
      "RangeIndex: 3044 entries, 0 to 3043\n",
      "Data columns (total 13 columns):\n",
      " #   Column                     Non-Null Count  Dtype         \n",
      "---  ------                     --------------  -----         \n",
      " 0   Date                       3036 non-null   datetime64[ns]\n",
      " 1   Startup Name               3044 non-null   object        \n",
      " 2   Industry Vertical          3044 non-null   object        \n",
      " 3   SubVertical                2108 non-null   object        \n",
      " 4   City                       3044 non-null   object        \n",
      " 5   InvestmentType             3040 non-null   object        \n",
      " 6   Amount                     2065 non-null   float64       \n",
      " 7   is_funded                  3044 non-null   int64         \n",
      " 8   Year                       3036 non-null   Int64         \n",
      " 9   Month                      3036 non-null   Int64         \n",
      " 10  Industry Vertical Cleaned  3044 non-null   object        \n",
      " 11  InvestmentType_Cleaned     3044 non-null   object        \n",
      " 12  Investors_Cleaned          3044 non-null   object        \n",
      "dtypes: Int64(2), datetime64[ns](1), float64(1), int64(1), object(8)\n",
      "memory usage: 315.2+ KB\n"
     ]
    }
   ],
   "source": [
    "df.info()"
   ]
  },
  {
   "cell_type": "code",
   "execution_count": 61,
   "id": "fe597633",
   "metadata": {},
   "outputs": [],
   "source": [
    "df.drop(columns=['Industry Vertical','InvestmentType'],inplace=True)"
   ]
  },
  {
   "cell_type": "code",
   "execution_count": 62,
   "id": "5f981247",
   "metadata": {},
   "outputs": [
    {
     "name": "stdout",
     "output_type": "stream",
     "text": [
      "<class 'pandas.core.frame.DataFrame'>\n",
      "RangeIndex: 3044 entries, 0 to 3043\n",
      "Data columns (total 11 columns):\n",
      " #   Column                     Non-Null Count  Dtype         \n",
      "---  ------                     --------------  -----         \n",
      " 0   Date                       3036 non-null   datetime64[ns]\n",
      " 1   Startup Name               3044 non-null   object        \n",
      " 2   SubVertical                2108 non-null   object        \n",
      " 3   City                       3044 non-null   object        \n",
      " 4   Amount                     2065 non-null   float64       \n",
      " 5   is_funded                  3044 non-null   int64         \n",
      " 6   Year                       3036 non-null   Int64         \n",
      " 7   Month                      3036 non-null   Int64         \n",
      " 8   Industry Vertical Cleaned  3044 non-null   object        \n",
      " 9   InvestmentType_Cleaned     3044 non-null   object        \n",
      " 10  Investors_Cleaned          3044 non-null   object        \n",
      "dtypes: Int64(2), datetime64[ns](1), float64(1), int64(1), object(6)\n",
      "memory usage: 267.7+ KB\n"
     ]
    }
   ],
   "source": [
    "df.info()"
   ]
  },
  {
   "cell_type": "code",
   "execution_count": 63,
   "id": "fd0bf499",
   "metadata": {},
   "outputs": [],
   "source": [
    "df['SubVertical'] = df['SubVertical'].fillna('Unknown')"
   ]
  },
  {
   "cell_type": "code",
   "execution_count": 64,
   "id": "97175e64",
   "metadata": {},
   "outputs": [
    {
     "name": "stdout",
     "output_type": "stream",
     "text": [
      "<class 'pandas.core.frame.DataFrame'>\n",
      "RangeIndex: 3044 entries, 0 to 3043\n",
      "Data columns (total 11 columns):\n",
      " #   Column                     Non-Null Count  Dtype         \n",
      "---  ------                     --------------  -----         \n",
      " 0   Date                       3036 non-null   datetime64[ns]\n",
      " 1   Startup Name               3044 non-null   object        \n",
      " 2   SubVertical                3044 non-null   object        \n",
      " 3   City                       3044 non-null   object        \n",
      " 4   Amount                     2065 non-null   float64       \n",
      " 5   is_funded                  3044 non-null   int64         \n",
      " 6   Year                       3036 non-null   Int64         \n",
      " 7   Month                      3036 non-null   Int64         \n",
      " 8   Industry Vertical Cleaned  3044 non-null   object        \n",
      " 9   InvestmentType_Cleaned     3044 non-null   object        \n",
      " 10  Investors_Cleaned          3044 non-null   object        \n",
      "dtypes: Int64(2), datetime64[ns](1), float64(1), int64(1), object(6)\n",
      "memory usage: 267.7+ KB\n"
     ]
    }
   ],
   "source": [
    "df.info()"
   ]
  },
  {
   "cell_type": "code",
   "execution_count": 65,
   "id": "164a495f",
   "metadata": {},
   "outputs": [
    {
     "name": "stdout",
     "output_type": "stream",
     "text": [
      "<class 'pandas.core.frame.DataFrame'>\n",
      "RangeIndex: 3044 entries, 0 to 3043\n",
      "Data columns (total 11 columns):\n",
      " #   Column                     Non-Null Count  Dtype         \n",
      "---  ------                     --------------  -----         \n",
      " 0   Date                       3036 non-null   datetime64[ns]\n",
      " 1   Startup Name               3044 non-null   object        \n",
      " 2   SubVertical                3044 non-null   object        \n",
      " 3   City                       3044 non-null   object        \n",
      " 4   Amount                     2065 non-null   float64       \n",
      " 5   is_funded                  3044 non-null   int64         \n",
      " 6   Year                       3036 non-null   Int64         \n",
      " 7   Month                      3036 non-null   Int64         \n",
      " 8   Industry Vertical Cleaned  3044 non-null   object        \n",
      " 9   InvestmentType_Cleaned     3044 non-null   object        \n",
      " 10  Investors_Cleaned          3044 non-null   object        \n",
      "dtypes: Int64(2), datetime64[ns](1), float64(1), int64(1), object(6)\n",
      "memory usage: 267.7+ KB\n"
     ]
    }
   ],
   "source": [
    "df.info()"
   ]
  },
  {
   "cell_type": "code",
   "execution_count": 66,
   "id": "f2989e2f",
   "metadata": {},
   "outputs": [
    {
     "data": {
      "text/plain": [
       "is_funded\n",
       "1    2065\n",
       "0     979\n",
       "Name: count, dtype: int64"
      ]
     },
     "execution_count": 66,
     "metadata": {},
     "output_type": "execute_result"
    }
   ],
   "source": [
    "df['is_funded'].value_counts()"
   ]
  },
  {
   "cell_type": "markdown",
   "id": "b1c9edda",
   "metadata": {},
   "source": [
    "EDA"
   ]
  },
  {
   "cell_type": "markdown",
   "id": "2a90f323",
   "metadata": {},
   "source": [
    "How does the funding ecosystem change with time?"
   ]
  },
  {
   "cell_type": "code",
   "execution_count": 67,
   "id": "75d3dfd3",
   "metadata": {},
   "outputs": [],
   "source": [
    "import matplotlib.ticker as mtick"
   ]
  },
  {
   "cell_type": "code",
   "execution_count": 68,
   "id": "483969c2",
   "metadata": {},
   "outputs": [
    {
     "data": {
      "text/plain": [
       "<Axes: xlabel='Year', ylabel='Amount'>"
      ]
     },
     "execution_count": 68,
     "metadata": {},
     "output_type": "execute_result"
    },
    {
     "data": {
      "image/png": "[encoded data removed]",
      "text/plain": [
       "<Figure size 640x480 with 1 Axes>"
      ]
     },
     "metadata": {},
     "output_type": "display_data"
    }
   ],
   "source": [
    "#average investment amount through the years\n",
    "sns.lineplot(data=df,x='Year',y='Amount')\n",
    "#plt.gca().yaxis.set_major_formatter(mtick.FuncFormatter(lambda x, _: f'{x/1e9:.0f}B'))\n"
   ]
  },
  {
   "cell_type": "code",
   "execution_count": 69,
   "id": "a7176ca9",
   "metadata": {},
   "outputs": [
    {
     "data": {
      "image/png": "[encoded data removed]",
      "text/plain": [
       "<Figure size 640x480 with 1 Axes>"
      ]
     },
     "metadata": {},
     "output_type": "display_data"
    }
   ],
   "source": [
    "#sum of investment amount per year\n",
    "yearly_funding=df.groupby('Year')['Amount'].sum().reset_index()\n",
    "sns.lineplot(data=yearly_funding,x='Year',y='Amount')\n",
    "#modify amount as 0.2,0.4 (1e10) to 2B,4B (readable format)\n",
    "plt.gca().yaxis.set_major_formatter(mtick.FuncFormatter(lambda x, _: f'{x/1e9:.0f}B'))\n",
    "\n",
    "#gca -> Get Current Axes  and to get y axis control using '.yaxis'\n",
    "#.set_major_formatter -> sets custom formatter for major ticks in yaxis\n",
    "#mtick.FuncFormatter -> creating own custom formatting function\n",
    "\n",
    "#10_000_000_000/1e9=10\n",
    "#x,_ -> x is input amount value in 1e10 format and _ is placeholder for tick position not used\n",
    "#but added since FuncFormatter passes both."
   ]
  },
  {
   "cell_type": "markdown",
   "id": "2ea2a6e7",
   "metadata": {},
   "source": [
    "How many startups funded on each year :-"
   ]
  },
  {
   "cell_type": "code",
   "execution_count": 70,
   "id": "86a7d4f4",
   "metadata": {},
   "outputs": [
    {
     "data": {
      "text/plain": [
       "<Axes: xlabel='Year'>"
      ]
     },
     "execution_count": 70,
     "metadata": {},
     "output_type": "execute_result"
    },
    {
     "data": {
      "image/png": "[encoded data removed]",
      "text/plain": [
       "<Figure size 1000x600 with 1 Axes>"
      ]
     },
     "metadata": {},
     "output_type": "display_data"
    }
   ],
   "source": [
    "funded_df=df[df['is_funded']==1]\n",
    "count_per_year=funded_df.groupby('Year').size()\n",
    "count_per_year.plot(kind='bar',figsize=(10,6))"
   ]
  },
  {
   "cell_type": "code",
   "execution_count": 71,
   "id": "6a715227",
   "metadata": {},
   "outputs": [
    {
     "data": {
      "text/plain": [
       "<Axes: xlabel='Year', ylabel='count'>"
      ]
     },
     "execution_count": 71,
     "metadata": {},
     "output_type": "execute_result"
    },
    {
     "data": {
      "image/png": "[encoded data removed]",
      "text/plain": [
       "<Figure size 640x480 with 1 Axes>"
      ]
     },
     "metadata": {},
     "output_type": "display_data"
    }
   ],
   "source": [
    "sns.countplot(data=funded_df, x='Year', order=sorted(funded_df['Year'].dropna().unique()))\n"
   ]
  },
  {
   "cell_type": "markdown",
   "id": "8534b42b",
   "metadata": {},
   "source": [
    "by considering both amount and count of startups getting investments based on year indicate \n",
    "that \n",
    "\n",
    "-over the years, fewer startups are getting funded, but with larger cheques \n",
    "\n",
    "-2015,2017,2019 the investment amount is higher but the investment's are getting reduced\n",
    "\n",
    "-EXTERNAL FACTORS like investments got reduced for startups maybe during the COVID period"
   ]
  },
  {
   "cell_type": "markdown",
   "id": "7a23249d",
   "metadata": {},
   "source": [
    "Do cities play a major role in funding ?"
   ]
  },
  {
   "cell_type": "code",
   "execution_count": 72,
   "id": "cda38e96",
   "metadata": {},
   "outputs": [
    {
     "data": {
      "text/plain": [
       "111"
      ]
     },
     "execution_count": 72,
     "metadata": {},
     "output_type": "execute_result"
    }
   ],
   "source": [
    "top_cities=df.groupby('City')['Amount'].sum().sort_values(ascending=False)\n",
    "top_cities.size"
   ]
  },
  {
   "cell_type": "code",
   "execution_count": 73,
   "id": "ab998632",
   "metadata": {},
   "outputs": [
    {
     "data": {
      "text/plain": [
       "10"
      ]
     },
     "execution_count": 73,
     "metadata": {},
     "output_type": "execute_result"
    }
   ],
   "source": [
    "top_cities=df.groupby('City')['Amount'].sum().sort_values(ascending=False).head(10)\n",
    "top_cities.size"
   ]
  },
  {
   "cell_type": "code",
   "execution_count": 74,
   "id": "468da4f0",
   "metadata": {},
   "outputs": [
    {
     "name": "stderr",
     "output_type": "stream",
     "text": [
      "C:\\Users\\Admin\\AppData\\Local\\Temp\\ipykernel_14536\\776004920.py:1: FutureWarning: \n",
      "\n",
      "Passing `palette` without assigning `hue` is deprecated and will be removed in v0.14.0. Assign the `y` variable to `hue` and set `legend=False` for the same effect.\n",
      "\n",
      "  sns.barplot(x=top_cities,y=top_cities.index,palette='viridis')\n"
     ]
    },
    {
     "data": {
      "image/png": "[encoded data removed]",
      "text/plain": [
       "<Figure size 640x480 with 1 Axes>"
      ]
     },
     "metadata": {},
     "output_type": "display_data"
    }
   ],
   "source": [
    "sns.barplot(x=top_cities,y=top_cities.index,palette='viridis')\n",
    "plt.gca().xaxis.set_major_formatter(mtick.FuncFormatter(lambda x, _: f'{x/1e9:.0f}B'))\n"
   ]
  },
  {
   "cell_type": "markdown",
   "id": "2a376e07",
   "metadata": {},
   "source": [
    "-Bengaluru has the highest investment rate and it crosses 18B\n",
    "\n",
    "-other other cities falls under 8B and lower\n",
    "\n",
    "-Next to Bengaluru comes mumbai and delhi.\n",
    "\n",
    "Investments are more around these areas"
   ]
  },
  {
   "cell_type": "code",
   "execution_count": 75,
   "id": "4de61344",
   "metadata": {},
   "outputs": [],
   "source": [
    "top_5_cities=top_cities.head(5)"
   ]
  },
  {
   "cell_type": "code",
   "execution_count": 76,
   "id": "c086325e",
   "metadata": {},
   "outputs": [
    {
     "data": {
      "text/plain": [
       "(np.float64(-1.099998615791698),\n",
       " np.float64(1.0999994728091456),\n",
       " np.float64(-1.099999801534675),\n",
       " np.float64(1.1000000133788166))"
      ]
     },
     "execution_count": 76,
     "metadata": {},
     "output_type": "execute_result"
    },
    {
     "data": {
      "image/png": "[encoded data removed]",
      "text/plain": [
       "<Figure size 640x480 with 1 Axes>"
      ]
     },
     "metadata": {},
     "output_type": "display_data"
    }
   ],
   "source": [
    "plt.pie(top_5_cities,labels=top_5_cities.index,autopct='%1.1f%%',startangle=140)\n",
    "plt.axis('equal')"
   ]
  },
  {
   "cell_type": "markdown",
   "id": "c3d02691",
   "metadata": {},
   "source": [
    "Which industries are favored by investors for funding :-"
   ]
  },
  {
   "cell_type": "code",
   "execution_count": 77,
   "id": "c717a720",
   "metadata": {},
   "outputs": [
    {
     "name": "stdout",
     "output_type": "stream",
     "text": [
      "<class 'pandas.core.frame.DataFrame'>\n",
      "RangeIndex: 3044 entries, 0 to 3043\n",
      "Data columns (total 11 columns):\n",
      " #   Column                     Non-Null Count  Dtype         \n",
      "---  ------                     --------------  -----         \n",
      " 0   Date                       3036 non-null   datetime64[ns]\n",
      " 1   Startup Name               3044 non-null   object        \n",
      " 2   SubVertical                3044 non-null   object        \n",
      " 3   City                       3044 non-null   object        \n",
      " 4   Amount                     2065 non-null   float64       \n",
      " 5   is_funded                  3044 non-null   int64         \n",
      " 6   Year                       3036 non-null   Int64         \n",
      " 7   Month                      3036 non-null   Int64         \n",
      " 8   Industry Vertical Cleaned  3044 non-null   object        \n",
      " 9   InvestmentType_Cleaned     3044 non-null   object        \n",
      " 10  Investors_Cleaned          3044 non-null   object        \n",
      "dtypes: Int64(2), datetime64[ns](1), float64(1), int64(1), object(6)\n",
      "memory usage: 267.7+ KB\n"
     ]
    }
   ],
   "source": [
    "df.info()"
   ]
  },
  {
   "cell_type": "markdown",
   "id": "af832894",
   "metadata": {},
   "source": [
    "Bar chart: Sector vs Total Funding\n",
    "\n",
    "Bubble chart: Sector vs No. of Funded Startups & Avg Amount\n",
    "\n",
    "Stacked column: Sector-wise funding per year"
   ]
  },
  {
   "cell_type": "code",
   "execution_count": 78,
   "id": "ddb9cd8e",
   "metadata": {},
   "outputs": [
    {
     "data": {
      "text/plain": [
       "Investors_Cleaned\n",
       "Undisclosed                 171\n",
       "Ratan Tata                   25\n",
       "Indian Angel Network         24\n",
       "Group Of Angel Investors     20\n",
       "Kalaari Capital              16\n",
       "Sequoia Capital              15\n",
       "Accel Partners               12\n",
       "Saif Partners                12\n",
       "Venture Catalysts            11\n",
       "Brand Capital                11\n",
       "Name: count, dtype: int64"
      ]
     },
     "execution_count": 78,
     "metadata": {},
     "output_type": "execute_result"
    }
   ],
   "source": [
    "top_investors=df['Investors_Cleaned'].value_counts().head(10)\n",
    "top_investors"
   ]
  },
  {
   "cell_type": "code",
   "execution_count": 79,
   "id": "58ec6f39",
   "metadata": {},
   "outputs": [
    {
     "data": {
      "text/plain": [
       "Investors_Cleaned\n",
       "Westbridge Capital                          3.952000e+09\n",
       "Softbank                                    2.500000e+09\n",
       "Softbank Group                              1.467000e+09\n",
       "Microsoft, Ebay, Tencent Holdings           1.400000e+09\n",
       "Undisclosed                                 1.024150e+09\n",
       "Vijay Shekhar Sharma                        1.000150e+09\n",
       "Steadview Capital And Existing Investors    7.000000e+08\n",
       "Alibaba Group, Ant Financial                6.800000e+08\n",
       "Softbank Vision Fund                        6.010000e+08\n",
       "Altimeter Capital, Dst Global               5.850000e+08\n",
       "Name: Amount, dtype: float64"
      ]
     },
     "execution_count": 79,
     "metadata": {},
     "output_type": "execute_result"
    }
   ],
   "source": [
    "top_investors_amount=df.groupby('Investors_Cleaned')['Amount'].sum().sort_values(ascending=False).head(10)\n",
    "top_investors_amount"
   ]
  },
  {
   "cell_type": "code",
   "execution_count": 80,
   "id": "d43203d6",
   "metadata": {},
   "outputs": [
    {
     "data": {
      "text/plain": [
       "is_funded\n",
       "1    2065\n",
       "0     979\n",
       "Name: count, dtype: int64"
      ]
     },
     "execution_count": 80,
     "metadata": {},
     "output_type": "execute_result"
    }
   ],
   "source": [
    "df['is_funded'].value_counts()"
   ]
  },
  {
   "cell_type": "code",
   "execution_count": 81,
   "id": "7f5087cc",
   "metadata": {},
   "outputs": [
    {
     "name": "stderr",
     "output_type": "stream",
     "text": [
      "C:\\Users\\Admin\\AppData\\Local\\Temp\\ipykernel_14536\\2371573504.py:1: FutureWarning: \n",
      "\n",
      "Passing `palette` without assigning `hue` is deprecated and will be removed in v0.14.0. Assign the `y` variable to `hue` and set `legend=False` for the same effect.\n",
      "\n",
      "  sns.barplot(x=top_investors_amount.values,y=top_investors_amount.index,palette='coolwarm')\n"
     ]
    },
    {
     "data": {
      "image/png": "[encoded data removed]",
      "text/plain": [
       "<Figure size 640x480 with 1 Axes>"
      ]
     },
     "metadata": {},
     "output_type": "display_data"
    }
   ],
   "source": [
    "sns.barplot(x=top_investors_amount.values,y=top_investors_amount.index,palette='coolwarm')\n",
    "plt.gca().xaxis.set_major_formatter(mtick.FuncFormatter(lambda x, _: f'{x/1e9:.1f}B'))\n"
   ]
  },
  {
   "cell_type": "markdown",
   "id": "975b4543",
   "metadata": {},
   "source": [
    "-Westbridge Capital is the highest investor ranging around 4B"
   ]
  },
  {
   "cell_type": "markdown",
   "id": "779efc2e",
   "metadata": {},
   "source": [
    "How much funds do startups generally get in India?"
   ]
  },
  {
   "cell_type": "code",
   "execution_count": 82,
   "id": "9f249daa",
   "metadata": {},
   "outputs": [
    {
     "data": {
      "image/png": "[encoded data removed]",
      "text/plain": [
       "<Figure size 640x480 with 1 Axes>"
      ]
     },
     "metadata": {},
     "output_type": "display_data"
    }
   ],
   "source": [
    "sns.histplot(df['Amount'].dropna(),bins=30,kde=True)\n",
    "plt.gca().xaxis.set_major_formatter(mtick.FuncFormatter(lambda x, _: f'{x/1e9:.1f}B'))\n"
   ]
  },
  {
   "cell_type": "code",
   "execution_count": 83,
   "id": "59aaad20",
   "metadata": {},
   "outputs": [
    {
     "data": {
      "image/png": "[encoded data removed]",
      "text/plain": [
       "<Figure size 640x480 with 1 Axes>"
      ]
     },
     "metadata": {},
     "output_type": "display_data"
    }
   ],
   "source": [
    "sns.boxplot(x=df['Amount'])\n",
    "plt.gca().xaxis.set_major_formatter(mtick.FuncFormatter(lambda x, _: f'{x/1e9:.1f}B'))\n"
   ]
  },
  {
   "cell_type": "markdown",
   "id": "d9381c57",
   "metadata": {},
   "source": [
    "-Extreme outliers over 1B\n",
    "\n",
    "-In India, most startups receive relatively small funding amounts, with a few receiving disproportionately large investments.\n",
    "\n",
    "-Majority operate with modest funding, while few has high concentration of capital"
   ]
  },
  {
   "cell_type": "markdown",
   "id": "443f2b98",
   "metadata": {},
   "source": [
    "-------------------------------------------------------------------------------------------"
   ]
  },
  {
   "cell_type": "markdown",
   "id": "9c35cd3c",
   "metadata": {},
   "source": [
    "Feature Engineering"
   ]
  },
  {
   "cell_type": "code",
   "execution_count": 84,
   "id": "a8e59e93",
   "metadata": {},
   "outputs": [
    {
     "name": "stdout",
     "output_type": "stream",
     "text": [
      "<class 'pandas.core.frame.DataFrame'>\n",
      "RangeIndex: 3044 entries, 0 to 3043\n",
      "Data columns (total 11 columns):\n",
      " #   Column                     Non-Null Count  Dtype         \n",
      "---  ------                     --------------  -----         \n",
      " 0   Date                       3036 non-null   datetime64[ns]\n",
      " 1   Startup Name               3044 non-null   object        \n",
      " 2   SubVertical                3044 non-null   object        \n",
      " 3   City                       3044 non-null   object        \n",
      " 4   Amount                     2065 non-null   float64       \n",
      " 5   is_funded                  3044 non-null   int64         \n",
      " 6   Year                       3036 non-null   Int64         \n",
      " 7   Month                      3036 non-null   Int64         \n",
      " 8   Industry Vertical Cleaned  3044 non-null   object        \n",
      " 9   InvestmentType_Cleaned     3044 non-null   object        \n",
      " 10  Investors_Cleaned          3044 non-null   object        \n",
      "dtypes: Int64(2), datetime64[ns](1), float64(1), int64(1), object(6)\n",
      "memory usage: 267.7+ KB\n"
     ]
    }
   ],
   "source": [
    "df.info()"
   ]
  },
  {
   "cell_type": "code",
   "execution_count": 85,
   "id": "b2506eec",
   "metadata": {},
   "outputs": [],
   "source": [
    "selected_features = [\n",
    "    'SubVertical',\n",
    "    'City',\n",
    "    'Industry Vertical Cleaned',\n",
    "    'InvestmentType_Cleaned',\n",
    "    'Year',\n",
    "    'Month'\n",
    "]\n"
   ]
  },
  {
   "cell_type": "code",
   "execution_count": 86,
   "id": "ed30a63d",
   "metadata": {},
   "outputs": [
    {
     "data": {
      "text/plain": [
       "is_funded\n",
       "1    2065\n",
       "0     979\n",
       "Name: count, dtype: int64"
      ]
     },
     "execution_count": 86,
     "metadata": {},
     "output_type": "execute_result"
    }
   ],
   "source": [
    "df['is_funded'].value_counts()"
   ]
  },
  {
   "cell_type": "code",
   "execution_count": 87,
   "id": "ee57e49e",
   "metadata": {},
   "outputs": [
    {
     "data": {
      "text/html": [
       "<div>\n",
       "<style scoped>\n",
       "    .dataframe tbody tr th:only-of-type {\n",
       "        vertical-align: middle;\n",
       "    }\n",
       "\n",
       "    .dataframe tbody tr th {\n",
       "        vertical-align: top;\n",
       "    }\n",
       "\n",
       "    .dataframe thead th {\n",
       "        text-align: right;\n",
       "    }\n",
       "</style>\n",
       "<table border=\"1\" class=\"dataframe\">\n",
       "  <thead>\n",
       "    <tr style=\"text-align: right;\">\n",
       "      <th></th>\n",
       "      <th>SubVertical</th>\n",
       "      <th>City</th>\n",
       "      <th>Industry Vertical Cleaned</th>\n",
       "      <th>InvestmentType_Cleaned</th>\n",
       "      <th>Year</th>\n",
       "      <th>Month</th>\n",
       "      <th>is_funded</th>\n",
       "    </tr>\n",
       "  </thead>\n",
       "  <tbody>\n",
       "    <tr>\n",
       "      <th>0</th>\n",
       "      <td>E-learning</td>\n",
       "      <td>bengaluru</td>\n",
       "      <td>technology</td>\n",
       "      <td>Private Equity</td>\n",
       "      <td>2020</td>\n",
       "      <td>1</td>\n",
       "      <td>1</td>\n",
       "    </tr>\n",
       "    <tr>\n",
       "      <th>1</th>\n",
       "      <td>App based shuttle service</td>\n",
       "      <td>gurgaon</td>\n",
       "      <td>logistics</td>\n",
       "      <td>Series C</td>\n",
       "      <td>2020</td>\n",
       "      <td>1</td>\n",
       "      <td>1</td>\n",
       "    </tr>\n",
       "    <tr>\n",
       "      <th>2</th>\n",
       "      <td>Retailer of baby and toddler products</td>\n",
       "      <td>bengaluru</td>\n",
       "      <td>e-commerce</td>\n",
       "      <td>Series B</td>\n",
       "      <td>2020</td>\n",
       "      <td>1</td>\n",
       "      <td>1</td>\n",
       "    </tr>\n",
       "    <tr>\n",
       "      <th>3</th>\n",
       "      <td>Online Investment</td>\n",
       "      <td>delhi</td>\n",
       "      <td>finance</td>\n",
       "      <td>Pre-Series A</td>\n",
       "      <td>2020</td>\n",
       "      <td>1</td>\n",
       "      <td>1</td>\n",
       "    </tr>\n",
       "    <tr>\n",
       "      <th>4</th>\n",
       "      <td>Embroiled Clothes For Women</td>\n",
       "      <td>mumbai</td>\n",
       "      <td>others</td>\n",
       "      <td>Seed</td>\n",
       "      <td>2020</td>\n",
       "      <td>1</td>\n",
       "      <td>1</td>\n",
       "    </tr>\n",
       "  </tbody>\n",
       "</table>\n",
       "</div>"
      ],
      "text/plain": [
       "                             SubVertical       City Industry Vertical Cleaned  \\\n",
       "0                             E-learning  bengaluru                technology   \n",
       "1              App based shuttle service    gurgaon                 logistics   \n",
       "2  Retailer of baby and toddler products  bengaluru                e-commerce   \n",
       "3                      Online Investment      delhi                   finance   \n",
       "4            Embroiled Clothes For Women     mumbai                    others   \n",
       "\n",
       "  InvestmentType_Cleaned  Year  Month  is_funded  \n",
       "0         Private Equity  2020      1          1  \n",
       "1               Series C  2020      1          1  \n",
       "2               Series B  2020      1          1  \n",
       "3           Pre-Series A  2020      1          1  \n",
       "4                   Seed  2020      1          1  "
      ]
     },
     "execution_count": 87,
     "metadata": {},
     "output_type": "execute_result"
    }
   ],
   "source": [
    "df_model=df[selected_features + ['is_funded']]\n",
    "df_model.head()"
   ]
  },
  {
   "cell_type": "code",
   "execution_count": 88,
   "id": "b173113f",
   "metadata": {},
   "outputs": [
    {
     "data": {
      "text/plain": [
       "is_funded\n",
       "1    2065\n",
       "0     979\n",
       "Name: count, dtype: int64"
      ]
     },
     "execution_count": 88,
     "metadata": {},
     "output_type": "execute_result"
    }
   ],
   "source": [
    "df_model['is_funded'].value_counts()"
   ]
  },
  {
   "cell_type": "code",
   "execution_count": 89,
   "id": "5836eb92",
   "metadata": {},
   "outputs": [
    {
     "data": {
      "text/plain": [
       "is_funded\n",
       "1    2065\n",
       "0     979\n",
       "Name: count, dtype: int64"
      ]
     },
     "execution_count": 89,
     "metadata": {},
     "output_type": "execute_result"
    }
   ],
   "source": [
    "df['is_funded'].value_counts()"
   ]
  },
  {
   "cell_type": "code",
   "execution_count": 90,
   "id": "b96b655a",
   "metadata": {},
   "outputs": [],
   "source": [
    "df_encoded=pd.get_dummies(df_model,columns=[ 'SubVertical',\n",
    "    'City',\n",
    "    'Industry Vertical Cleaned',\n",
    "    'InvestmentType_Cleaned'],drop_first=True)"
   ]
  },
  {
   "cell_type": "code",
   "execution_count": 91,
   "id": "09125954",
   "metadata": {},
   "outputs": [
    {
     "data": {
      "text/plain": [
       "['encoded_columns.pkl']"
      ]
     },
     "execution_count": 91,
     "metadata": {},
     "output_type": "execute_result"
    }
   ],
   "source": [
    "#used in streamlit\n",
    "import joblib\n",
    "joblib.dump(df_encoded.columns.tolist(),'encoded_columns.pkl')"
   ]
  },
  {
   "cell_type": "code",
   "execution_count": 92,
   "id": "b88bd4c4",
   "metadata": {},
   "outputs": [
    {
     "data": {
      "text/html": [
       "<div>\n",
       "<style scoped>\n",
       "    .dataframe tbody tr th:only-of-type {\n",
       "        vertical-align: middle;\n",
       "    }\n",
       "\n",
       "    .dataframe tbody tr th {\n",
       "        vertical-align: top;\n",
       "    }\n",
       "\n",
       "    .dataframe thead th {\n",
       "        text-align: right;\n",
       "    }\n",
       "</style>\n",
       "<table border=\"1\" class=\"dataframe\">\n",
       "  <thead>\n",
       "    <tr style=\"text-align: right;\">\n",
       "      <th></th>\n",
       "      <th>Year</th>\n",
       "      <th>Month</th>\n",
       "      <th>is_funded</th>\n",
       "      <th>SubVertical_3D Printing Solutions for Edu space</th>\n",
       "      <th>SubVertical_3D printed experimental Human Liver tissue creator</th>\n",
       "      <th>SubVertical_A Doctor-Patient Engagement Platform</th>\n",
       "      <th>SubVertical_A Local Discovery App For Dining-Out, Party, Leisure and Events</th>\n",
       "      <th>SubVertical_AI Based Expense Management Platform</th>\n",
       "      <th>SubVertical_AI Based Personal Assistant</th>\n",
       "      <th>SubVertical_AI Based Solutions Platform</th>\n",
       "      <th>...</th>\n",
       "      <th>InvestmentType_Cleaned_Equity</th>\n",
       "      <th>InvestmentType_Cleaned_Other</th>\n",
       "      <th>InvestmentType_Cleaned_Pre-Series A</th>\n",
       "      <th>InvestmentType_Cleaned_Private Equity</th>\n",
       "      <th>InvestmentType_Cleaned_Seed</th>\n",
       "      <th>InvestmentType_Cleaned_Series A</th>\n",
       "      <th>InvestmentType_Cleaned_Series B</th>\n",
       "      <th>InvestmentType_Cleaned_Series C</th>\n",
       "      <th>InvestmentType_Cleaned_Series D+</th>\n",
       "      <th>InvestmentType_Cleaned_Venture</th>\n",
       "    </tr>\n",
       "  </thead>\n",
       "  <tbody>\n",
       "    <tr>\n",
       "      <th>0</th>\n",
       "      <td>2020</td>\n",
       "      <td>1</td>\n",
       "      <td>1</td>\n",
       "      <td>False</td>\n",
       "      <td>False</td>\n",
       "      <td>False</td>\n",
       "      <td>False</td>\n",
       "      <td>False</td>\n",
       "      <td>False</td>\n",
       "      <td>False</td>\n",
       "      <td>...</td>\n",
       "      <td>False</td>\n",
       "      <td>False</td>\n",
       "      <td>False</td>\n",
       "      <td>True</td>\n",
       "      <td>False</td>\n",
       "      <td>False</td>\n",
       "      <td>False</td>\n",
       "      <td>False</td>\n",
       "      <td>False</td>\n",
       "      <td>False</td>\n",
       "    </tr>\n",
       "    <tr>\n",
       "      <th>1</th>\n",
       "      <td>2020</td>\n",
       "      <td>1</td>\n",
       "      <td>1</td>\n",
       "      <td>False</td>\n",
       "      <td>False</td>\n",
       "      <td>False</td>\n",
       "      <td>False</td>\n",
       "      <td>False</td>\n",
       "      <td>False</td>\n",
       "      <td>False</td>\n",
       "      <td>...</td>\n",
       "      <td>False</td>\n",
       "      <td>False</td>\n",
       "      <td>False</td>\n",
       "      <td>False</td>\n",
       "      <td>False</td>\n",
       "      <td>False</td>\n",
       "      <td>False</td>\n",
       "      <td>True</td>\n",
       "      <td>False</td>\n",
       "      <td>False</td>\n",
       "    </tr>\n",
       "    <tr>\n",
       "      <th>2</th>\n",
       "      <td>2020</td>\n",
       "      <td>1</td>\n",
       "      <td>1</td>\n",
       "      <td>False</td>\n",
       "      <td>False</td>\n",
       "      <td>False</td>\n",
       "      <td>False</td>\n",
       "      <td>False</td>\n",
       "      <td>False</td>\n",
       "      <td>False</td>\n",
       "      <td>...</td>\n",
       "      <td>False</td>\n",
       "      <td>False</td>\n",
       "      <td>False</td>\n",
       "      <td>False</td>\n",
       "      <td>False</td>\n",
       "      <td>False</td>\n",
       "      <td>True</td>\n",
       "      <td>False</td>\n",
       "      <td>False</td>\n",
       "      <td>False</td>\n",
       "    </tr>\n",
       "    <tr>\n",
       "      <th>3</th>\n",
       "      <td>2020</td>\n",
       "      <td>1</td>\n",
       "      <td>1</td>\n",
       "      <td>False</td>\n",
       "      <td>False</td>\n",
       "      <td>False</td>\n",
       "      <td>False</td>\n",
       "      <td>False</td>\n",
       "      <td>False</td>\n",
       "      <td>False</td>\n",
       "      <td>...</td>\n",
       "      <td>False</td>\n",
       "      <td>False</td>\n",
       "      <td>True</td>\n",
       "      <td>False</td>\n",
       "      <td>False</td>\n",
       "      <td>False</td>\n",
       "      <td>False</td>\n",
       "      <td>False</td>\n",
       "      <td>False</td>\n",
       "      <td>False</td>\n",
       "    </tr>\n",
       "    <tr>\n",
       "      <th>4</th>\n",
       "      <td>2020</td>\n",
       "      <td>1</td>\n",
       "      <td>1</td>\n",
       "      <td>False</td>\n",
       "      <td>False</td>\n",
       "      <td>False</td>\n",
       "      <td>False</td>\n",
       "      <td>False</td>\n",
       "      <td>False</td>\n",
       "      <td>False</td>\n",
       "      <td>...</td>\n",
       "      <td>False</td>\n",
       "      <td>False</td>\n",
       "      <td>False</td>\n",
       "      <td>False</td>\n",
       "      <td>True</td>\n",
       "      <td>False</td>\n",
       "      <td>False</td>\n",
       "      <td>False</td>\n",
       "      <td>False</td>\n",
       "      <td>False</td>\n",
       "    </tr>\n",
       "    <tr>\n",
       "      <th>...</th>\n",
       "      <td>...</td>\n",
       "      <td>...</td>\n",
       "      <td>...</td>\n",
       "      <td>...</td>\n",
       "      <td>...</td>\n",
       "      <td>...</td>\n",
       "      <td>...</td>\n",
       "      <td>...</td>\n",
       "      <td>...</td>\n",
       "      <td>...</td>\n",
       "      <td>...</td>\n",
       "      <td>...</td>\n",
       "      <td>...</td>\n",
       "      <td>...</td>\n",
       "      <td>...</td>\n",
       "      <td>...</td>\n",
       "      <td>...</td>\n",
       "      <td>...</td>\n",
       "      <td>...</td>\n",
       "      <td>...</td>\n",
       "      <td>...</td>\n",
       "    </tr>\n",
       "    <tr>\n",
       "      <th>3039</th>\n",
       "      <td>2015</td>\n",
       "      <td>1</td>\n",
       "      <td>1</td>\n",
       "      <td>False</td>\n",
       "      <td>False</td>\n",
       "      <td>False</td>\n",
       "      <td>False</td>\n",
       "      <td>False</td>\n",
       "      <td>False</td>\n",
       "      <td>False</td>\n",
       "      <td>...</td>\n",
       "      <td>False</td>\n",
       "      <td>False</td>\n",
       "      <td>False</td>\n",
       "      <td>True</td>\n",
       "      <td>False</td>\n",
       "      <td>False</td>\n",
       "      <td>False</td>\n",
       "      <td>False</td>\n",
       "      <td>False</td>\n",
       "      <td>False</td>\n",
       "    </tr>\n",
       "    <tr>\n",
       "      <th>3040</th>\n",
       "      <td>2015</td>\n",
       "      <td>1</td>\n",
       "      <td>1</td>\n",
       "      <td>False</td>\n",
       "      <td>False</td>\n",
       "      <td>False</td>\n",
       "      <td>False</td>\n",
       "      <td>False</td>\n",
       "      <td>False</td>\n",
       "      <td>False</td>\n",
       "      <td>...</td>\n",
       "      <td>False</td>\n",
       "      <td>False</td>\n",
       "      <td>False</td>\n",
       "      <td>True</td>\n",
       "      <td>False</td>\n",
       "      <td>False</td>\n",
       "      <td>False</td>\n",
       "      <td>False</td>\n",
       "      <td>False</td>\n",
       "      <td>False</td>\n",
       "    </tr>\n",
       "    <tr>\n",
       "      <th>3041</th>\n",
       "      <td>2015</td>\n",
       "      <td>1</td>\n",
       "      <td>1</td>\n",
       "      <td>False</td>\n",
       "      <td>False</td>\n",
       "      <td>False</td>\n",
       "      <td>False</td>\n",
       "      <td>False</td>\n",
       "      <td>False</td>\n",
       "      <td>False</td>\n",
       "      <td>...</td>\n",
       "      <td>False</td>\n",
       "      <td>False</td>\n",
       "      <td>False</td>\n",
       "      <td>True</td>\n",
       "      <td>False</td>\n",
       "      <td>False</td>\n",
       "      <td>False</td>\n",
       "      <td>False</td>\n",
       "      <td>False</td>\n",
       "      <td>False</td>\n",
       "    </tr>\n",
       "    <tr>\n",
       "      <th>3042</th>\n",
       "      <td>2015</td>\n",
       "      <td>1</td>\n",
       "      <td>0</td>\n",
       "      <td>False</td>\n",
       "      <td>False</td>\n",
       "      <td>False</td>\n",
       "      <td>False</td>\n",
       "      <td>False</td>\n",
       "      <td>False</td>\n",
       "      <td>False</td>\n",
       "      <td>...</td>\n",
       "      <td>False</td>\n",
       "      <td>False</td>\n",
       "      <td>False</td>\n",
       "      <td>True</td>\n",
       "      <td>False</td>\n",
       "      <td>False</td>\n",
       "      <td>False</td>\n",
       "      <td>False</td>\n",
       "      <td>False</td>\n",
       "      <td>False</td>\n",
       "    </tr>\n",
       "    <tr>\n",
       "      <th>3043</th>\n",
       "      <td>2015</td>\n",
       "      <td>1</td>\n",
       "      <td>1</td>\n",
       "      <td>False</td>\n",
       "      <td>False</td>\n",
       "      <td>False</td>\n",
       "      <td>False</td>\n",
       "      <td>False</td>\n",
       "      <td>False</td>\n",
       "      <td>False</td>\n",
       "      <td>...</td>\n",
       "      <td>False</td>\n",
       "      <td>False</td>\n",
       "      <td>False</td>\n",
       "      <td>False</td>\n",
       "      <td>True</td>\n",
       "      <td>False</td>\n",
       "      <td>False</td>\n",
       "      <td>False</td>\n",
       "      <td>False</td>\n",
       "      <td>False</td>\n",
       "    </tr>\n",
       "  </tbody>\n",
       "</table>\n",
       "<p>3044 rows × 2077 columns</p>\n",
       "</div>"
      ],
      "text/plain": [
       "      Year  Month  is_funded  SubVertical_3D Printing Solutions for Edu space  \\\n",
       "0     2020      1          1                                            False   \n",
       "1     2020      1          1                                            False   \n",
       "2     2020      1          1                                            False   \n",
       "3     2020      1          1                                            False   \n",
       "4     2020      1          1                                            False   \n",
       "...    ...    ...        ...                                              ...   \n",
       "3039  2015      1          1                                            False   \n",
       "3040  2015      1          1                                            False   \n",
       "3041  2015      1          1                                            False   \n",
       "3042  2015      1          0                                            False   \n",
       "3043  2015      1          1                                            False   \n",
       "\n",
       "      SubVertical_3D printed experimental Human Liver tissue creator  \\\n",
       "0                                                 False                \n",
       "1                                                 False                \n",
       "2                                                 False                \n",
       "3                                                 False                \n",
       "4                                                 False                \n",
       "...                                                 ...                \n",
       "3039                                              False                \n",
       "3040                                              False                \n",
       "3041                                              False                \n",
       "3042                                              False                \n",
       "3043                                              False                \n",
       "\n",
       "      SubVertical_A Doctor-Patient Engagement Platform  \\\n",
       "0                                                False   \n",
       "1                                                False   \n",
       "2                                                False   \n",
       "3                                                False   \n",
       "4                                                False   \n",
       "...                                                ...   \n",
       "3039                                             False   \n",
       "3040                                             False   \n",
       "3041                                             False   \n",
       "3042                                             False   \n",
       "3043                                             False   \n",
       "\n",
       "      SubVertical_A Local Discovery App For Dining-Out, Party, Leisure and Events  \\\n",
       "0                                                 False                             \n",
       "1                                                 False                             \n",
       "2                                                 False                             \n",
       "3                                                 False                             \n",
       "4                                                 False                             \n",
       "...                                                 ...                             \n",
       "3039                                              False                             \n",
       "3040                                              False                             \n",
       "3041                                              False                             \n",
       "3042                                              False                             \n",
       "3043                                              False                             \n",
       "\n",
       "      SubVertical_AI Based Expense Management Platform  \\\n",
       "0                                                False   \n",
       "1                                                False   \n",
       "2                                                False   \n",
       "3                                                False   \n",
       "4                                                False   \n",
       "...                                                ...   \n",
       "3039                                             False   \n",
       "3040                                             False   \n",
       "3041                                             False   \n",
       "3042                                             False   \n",
       "3043                                             False   \n",
       "\n",
       "      SubVertical_AI Based Personal Assistant  \\\n",
       "0                                       False   \n",
       "1                                       False   \n",
       "2                                       False   \n",
       "3                                       False   \n",
       "4                                       False   \n",
       "...                                       ...   \n",
       "3039                                    False   \n",
       "3040                                    False   \n",
       "3041                                    False   \n",
       "3042                                    False   \n",
       "3043                                    False   \n",
       "\n",
       "      SubVertical_AI Based Solutions Platform  ...  \\\n",
       "0                                       False  ...   \n",
       "1                                       False  ...   \n",
       "2                                       False  ...   \n",
       "3                                       False  ...   \n",
       "4                                       False  ...   \n",
       "...                                       ...  ...   \n",
       "3039                                    False  ...   \n",
       "3040                                    False  ...   \n",
       "3041                                    False  ...   \n",
       "3042                                    False  ...   \n",
       "3043                                    False  ...   \n",
       "\n",
       "      InvestmentType_Cleaned_Equity  InvestmentType_Cleaned_Other  \\\n",
       "0                             False                         False   \n",
       "1                             False                         False   \n",
       "2                             False                         False   \n",
       "3                             False                         False   \n",
       "4                             False                         False   \n",
       "...                             ...                           ...   \n",
       "3039                          False                         False   \n",
       "3040                          False                         False   \n",
       "3041                          False                         False   \n",
       "3042                          False                         False   \n",
       "3043                          False                         False   \n",
       "\n",
       "      InvestmentType_Cleaned_Pre-Series A  \\\n",
       "0                                   False   \n",
       "1                                   False   \n",
       "2                                   False   \n",
       "3                                    True   \n",
       "4                                   False   \n",
       "...                                   ...   \n",
       "3039                                False   \n",
       "3040                                False   \n",
       "3041                                False   \n",
       "3042                                False   \n",
       "3043                                False   \n",
       "\n",
       "      InvestmentType_Cleaned_Private Equity  InvestmentType_Cleaned_Seed  \\\n",
       "0                                      True                        False   \n",
       "1                                     False                        False   \n",
       "2                                     False                        False   \n",
       "3                                     False                        False   \n",
       "4                                     False                         True   \n",
       "...                                     ...                          ...   \n",
       "3039                                   True                        False   \n",
       "3040                                   True                        False   \n",
       "3041                                   True                        False   \n",
       "3042                                   True                        False   \n",
       "3043                                  False                         True   \n",
       "\n",
       "      InvestmentType_Cleaned_Series A  InvestmentType_Cleaned_Series B  \\\n",
       "0                               False                            False   \n",
       "1                               False                            False   \n",
       "2                               False                             True   \n",
       "3                               False                            False   \n",
       "4                               False                            False   \n",
       "...                               ...                              ...   \n",
       "3039                            False                            False   \n",
       "3040                            False                            False   \n",
       "3041                            False                            False   \n",
       "3042                            False                            False   \n",
       "3043                            False                            False   \n",
       "\n",
       "      InvestmentType_Cleaned_Series C  InvestmentType_Cleaned_Series D+  \\\n",
       "0                               False                             False   \n",
       "1                                True                             False   \n",
       "2                               False                             False   \n",
       "3                               False                             False   \n",
       "4                               False                             False   \n",
       "...                               ...                               ...   \n",
       "3039                            False                             False   \n",
       "3040                            False                             False   \n",
       "3041                            False                             False   \n",
       "3042                            False                             False   \n",
       "3043                            False                             False   \n",
       "\n",
       "      InvestmentType_Cleaned_Venture  \n",
       "0                              False  \n",
       "1                              False  \n",
       "2                              False  \n",
       "3                              False  \n",
       "4                              False  \n",
       "...                              ...  \n",
       "3039                           False  \n",
       "3040                           False  \n",
       "3041                           False  \n",
       "3042                           False  \n",
       "3043                           False  \n",
       "\n",
       "[3044 rows x 2077 columns]"
      ]
     },
     "execution_count": 92,
     "metadata": {},
     "output_type": "execute_result"
    }
   ],
   "source": [
    "df_encoded"
   ]
  },
  {
   "cell_type": "code",
   "execution_count": 93,
   "id": "ba52af63",
   "metadata": {},
   "outputs": [
    {
     "data": {
      "text/html": [
       "<div>\n",
       "<style scoped>\n",
       "    .dataframe tbody tr th:only-of-type {\n",
       "        vertical-align: middle;\n",
       "    }\n",
       "\n",
       "    .dataframe tbody tr th {\n",
       "        vertical-align: top;\n",
       "    }\n",
       "\n",
       "    .dataframe thead th {\n",
       "        text-align: right;\n",
       "    }\n",
       "</style>\n",
       "<table border=\"1\" class=\"dataframe\">\n",
       "  <thead>\n",
       "    <tr style=\"text-align: right;\">\n",
       "      <th></th>\n",
       "      <th>Year</th>\n",
       "      <th>Month</th>\n",
       "      <th>is_funded</th>\n",
       "      <th>SubVertical_3D Printing Solutions for Edu space</th>\n",
       "      <th>SubVertical_3D printed experimental Human Liver tissue creator</th>\n",
       "      <th>SubVertical_A Doctor-Patient Engagement Platform</th>\n",
       "      <th>SubVertical_A Local Discovery App For Dining-Out, Party, Leisure and Events</th>\n",
       "      <th>SubVertical_AI Based Expense Management Platform</th>\n",
       "      <th>SubVertical_AI Based Personal Assistant</th>\n",
       "      <th>SubVertical_AI Based Solutions Platform</th>\n",
       "      <th>...</th>\n",
       "      <th>InvestmentType_Cleaned_Equity</th>\n",
       "      <th>InvestmentType_Cleaned_Other</th>\n",
       "      <th>InvestmentType_Cleaned_Pre-Series A</th>\n",
       "      <th>InvestmentType_Cleaned_Private Equity</th>\n",
       "      <th>InvestmentType_Cleaned_Seed</th>\n",
       "      <th>InvestmentType_Cleaned_Series A</th>\n",
       "      <th>InvestmentType_Cleaned_Series B</th>\n",
       "      <th>InvestmentType_Cleaned_Series C</th>\n",
       "      <th>InvestmentType_Cleaned_Series D+</th>\n",
       "      <th>InvestmentType_Cleaned_Venture</th>\n",
       "    </tr>\n",
       "  </thead>\n",
       "  <tbody>\n",
       "    <tr>\n",
       "      <th>0</th>\n",
       "      <td>2020</td>\n",
       "      <td>1</td>\n",
       "      <td>1</td>\n",
       "      <td>False</td>\n",
       "      <td>False</td>\n",
       "      <td>False</td>\n",
       "      <td>False</td>\n",
       "      <td>False</td>\n",
       "      <td>False</td>\n",
       "      <td>False</td>\n",
       "      <td>...</td>\n",
       "      <td>False</td>\n",
       "      <td>False</td>\n",
       "      <td>False</td>\n",
       "      <td>True</td>\n",
       "      <td>False</td>\n",
       "      <td>False</td>\n",
       "      <td>False</td>\n",
       "      <td>False</td>\n",
       "      <td>False</td>\n",
       "      <td>False</td>\n",
       "    </tr>\n",
       "    <tr>\n",
       "      <th>1</th>\n",
       "      <td>2020</td>\n",
       "      <td>1</td>\n",
       "      <td>1</td>\n",
       "      <td>False</td>\n",
       "      <td>False</td>\n",
       "      <td>False</td>\n",
       "      <td>False</td>\n",
       "      <td>False</td>\n",
       "      <td>False</td>\n",
       "      <td>False</td>\n",
       "      <td>...</td>\n",
       "      <td>False</td>\n",
       "      <td>False</td>\n",
       "      <td>False</td>\n",
       "      <td>False</td>\n",
       "      <td>False</td>\n",
       "      <td>False</td>\n",
       "      <td>False</td>\n",
       "      <td>True</td>\n",
       "      <td>False</td>\n",
       "      <td>False</td>\n",
       "    </tr>\n",
       "    <tr>\n",
       "      <th>2</th>\n",
       "      <td>2020</td>\n",
       "      <td>1</td>\n",
       "      <td>1</td>\n",
       "      <td>False</td>\n",
       "      <td>False</td>\n",
       "      <td>False</td>\n",
       "      <td>False</td>\n",
       "      <td>False</td>\n",
       "      <td>False</td>\n",
       "      <td>False</td>\n",
       "      <td>...</td>\n",
       "      <td>False</td>\n",
       "      <td>False</td>\n",
       "      <td>False</td>\n",
       "      <td>False</td>\n",
       "      <td>False</td>\n",
       "      <td>False</td>\n",
       "      <td>True</td>\n",
       "      <td>False</td>\n",
       "      <td>False</td>\n",
       "      <td>False</td>\n",
       "    </tr>\n",
       "    <tr>\n",
       "      <th>3</th>\n",
       "      <td>2020</td>\n",
       "      <td>1</td>\n",
       "      <td>1</td>\n",
       "      <td>False</td>\n",
       "      <td>False</td>\n",
       "      <td>False</td>\n",
       "      <td>False</td>\n",
       "      <td>False</td>\n",
       "      <td>False</td>\n",
       "      <td>False</td>\n",
       "      <td>...</td>\n",
       "      <td>False</td>\n",
       "      <td>False</td>\n",
       "      <td>True</td>\n",
       "      <td>False</td>\n",
       "      <td>False</td>\n",
       "      <td>False</td>\n",
       "      <td>False</td>\n",
       "      <td>False</td>\n",
       "      <td>False</td>\n",
       "      <td>False</td>\n",
       "    </tr>\n",
       "    <tr>\n",
       "      <th>4</th>\n",
       "      <td>2020</td>\n",
       "      <td>1</td>\n",
       "      <td>1</td>\n",
       "      <td>False</td>\n",
       "      <td>False</td>\n",
       "      <td>False</td>\n",
       "      <td>False</td>\n",
       "      <td>False</td>\n",
       "      <td>False</td>\n",
       "      <td>False</td>\n",
       "      <td>...</td>\n",
       "      <td>False</td>\n",
       "      <td>False</td>\n",
       "      <td>False</td>\n",
       "      <td>False</td>\n",
       "      <td>True</td>\n",
       "      <td>False</td>\n",
       "      <td>False</td>\n",
       "      <td>False</td>\n",
       "      <td>False</td>\n",
       "      <td>False</td>\n",
       "    </tr>\n",
       "    <tr>\n",
       "      <th>...</th>\n",
       "      <td>...</td>\n",
       "      <td>...</td>\n",
       "      <td>...</td>\n",
       "      <td>...</td>\n",
       "      <td>...</td>\n",
       "      <td>...</td>\n",
       "      <td>...</td>\n",
       "      <td>...</td>\n",
       "      <td>...</td>\n",
       "      <td>...</td>\n",
       "      <td>...</td>\n",
       "      <td>...</td>\n",
       "      <td>...</td>\n",
       "      <td>...</td>\n",
       "      <td>...</td>\n",
       "      <td>...</td>\n",
       "      <td>...</td>\n",
       "      <td>...</td>\n",
       "      <td>...</td>\n",
       "      <td>...</td>\n",
       "      <td>...</td>\n",
       "    </tr>\n",
       "    <tr>\n",
       "      <th>3039</th>\n",
       "      <td>2015</td>\n",
       "      <td>1</td>\n",
       "      <td>1</td>\n",
       "      <td>False</td>\n",
       "      <td>False</td>\n",
       "      <td>False</td>\n",
       "      <td>False</td>\n",
       "      <td>False</td>\n",
       "      <td>False</td>\n",
       "      <td>False</td>\n",
       "      <td>...</td>\n",
       "      <td>False</td>\n",
       "      <td>False</td>\n",
       "      <td>False</td>\n",
       "      <td>True</td>\n",
       "      <td>False</td>\n",
       "      <td>False</td>\n",
       "      <td>False</td>\n",
       "      <td>False</td>\n",
       "      <td>False</td>\n",
       "      <td>False</td>\n",
       "    </tr>\n",
       "    <tr>\n",
       "      <th>3040</th>\n",
       "      <td>2015</td>\n",
       "      <td>1</td>\n",
       "      <td>1</td>\n",
       "      <td>False</td>\n",
       "      <td>False</td>\n",
       "      <td>False</td>\n",
       "      <td>False</td>\n",
       "      <td>False</td>\n",
       "      <td>False</td>\n",
       "      <td>False</td>\n",
       "      <td>...</td>\n",
       "      <td>False</td>\n",
       "      <td>False</td>\n",
       "      <td>False</td>\n",
       "      <td>True</td>\n",
       "      <td>False</td>\n",
       "      <td>False</td>\n",
       "      <td>False</td>\n",
       "      <td>False</td>\n",
       "      <td>False</td>\n",
       "      <td>False</td>\n",
       "    </tr>\n",
       "    <tr>\n",
       "      <th>3041</th>\n",
       "      <td>2015</td>\n",
       "      <td>1</td>\n",
       "      <td>1</td>\n",
       "      <td>False</td>\n",
       "      <td>False</td>\n",
       "      <td>False</td>\n",
       "      <td>False</td>\n",
       "      <td>False</td>\n",
       "      <td>False</td>\n",
       "      <td>False</td>\n",
       "      <td>...</td>\n",
       "      <td>False</td>\n",
       "      <td>False</td>\n",
       "      <td>False</td>\n",
       "      <td>True</td>\n",
       "      <td>False</td>\n",
       "      <td>False</td>\n",
       "      <td>False</td>\n",
       "      <td>False</td>\n",
       "      <td>False</td>\n",
       "      <td>False</td>\n",
       "    </tr>\n",
       "    <tr>\n",
       "      <th>3042</th>\n",
       "      <td>2015</td>\n",
       "      <td>1</td>\n",
       "      <td>0</td>\n",
       "      <td>False</td>\n",
       "      <td>False</td>\n",
       "      <td>False</td>\n",
       "      <td>False</td>\n",
       "      <td>False</td>\n",
       "      <td>False</td>\n",
       "      <td>False</td>\n",
       "      <td>...</td>\n",
       "      <td>False</td>\n",
       "      <td>False</td>\n",
       "      <td>False</td>\n",
       "      <td>True</td>\n",
       "      <td>False</td>\n",
       "      <td>False</td>\n",
       "      <td>False</td>\n",
       "      <td>False</td>\n",
       "      <td>False</td>\n",
       "      <td>False</td>\n",
       "    </tr>\n",
       "    <tr>\n",
       "      <th>3043</th>\n",
       "      <td>2015</td>\n",
       "      <td>1</td>\n",
       "      <td>1</td>\n",
       "      <td>False</td>\n",
       "      <td>False</td>\n",
       "      <td>False</td>\n",
       "      <td>False</td>\n",
       "      <td>False</td>\n",
       "      <td>False</td>\n",
       "      <td>False</td>\n",
       "      <td>...</td>\n",
       "      <td>False</td>\n",
       "      <td>False</td>\n",
       "      <td>False</td>\n",
       "      <td>False</td>\n",
       "      <td>True</td>\n",
       "      <td>False</td>\n",
       "      <td>False</td>\n",
       "      <td>False</td>\n",
       "      <td>False</td>\n",
       "      <td>False</td>\n",
       "    </tr>\n",
       "  </tbody>\n",
       "</table>\n",
       "<p>3044 rows × 2077 columns</p>\n",
       "</div>"
      ],
      "text/plain": [
       "      Year  Month  is_funded  SubVertical_3D Printing Solutions for Edu space  \\\n",
       "0     2020      1          1                                            False   \n",
       "1     2020      1          1                                            False   \n",
       "2     2020      1          1                                            False   \n",
       "3     2020      1          1                                            False   \n",
       "4     2020      1          1                                            False   \n",
       "...    ...    ...        ...                                              ...   \n",
       "3039  2015      1          1                                            False   \n",
       "3040  2015      1          1                                            False   \n",
       "3041  2015      1          1                                            False   \n",
       "3042  2015      1          0                                            False   \n",
       "3043  2015      1          1                                            False   \n",
       "\n",
       "      SubVertical_3D printed experimental Human Liver tissue creator  \\\n",
       "0                                                 False                \n",
       "1                                                 False                \n",
       "2                                                 False                \n",
       "3                                                 False                \n",
       "4                                                 False                \n",
       "...                                                 ...                \n",
       "3039                                              False                \n",
       "3040                                              False                \n",
       "3041                                              False                \n",
       "3042                                              False                \n",
       "3043                                              False                \n",
       "\n",
       "      SubVertical_A Doctor-Patient Engagement Platform  \\\n",
       "0                                                False   \n",
       "1                                                False   \n",
       "2                                                False   \n",
       "3                                                False   \n",
       "4                                                False   \n",
       "...                                                ...   \n",
       "3039                                             False   \n",
       "3040                                             False   \n",
       "3041                                             False   \n",
       "3042                                             False   \n",
       "3043                                             False   \n",
       "\n",
       "      SubVertical_A Local Discovery App For Dining-Out, Party, Leisure and Events  \\\n",
       "0                                                 False                             \n",
       "1                                                 False                             \n",
       "2                                                 False                             \n",
       "3                                                 False                             \n",
       "4                                                 False                             \n",
       "...                                                 ...                             \n",
       "3039                                              False                             \n",
       "3040                                              False                             \n",
       "3041                                              False                             \n",
       "3042                                              False                             \n",
       "3043                                              False                             \n",
       "\n",
       "      SubVertical_AI Based Expense Management Platform  \\\n",
       "0                                                False   \n",
       "1                                                False   \n",
       "2                                                False   \n",
       "3                                                False   \n",
       "4                                                False   \n",
       "...                                                ...   \n",
       "3039                                             False   \n",
       "3040                                             False   \n",
       "3041                                             False   \n",
       "3042                                             False   \n",
       "3043                                             False   \n",
       "\n",
       "      SubVertical_AI Based Personal Assistant  \\\n",
       "0                                       False   \n",
       "1                                       False   \n",
       "2                                       False   \n",
       "3                                       False   \n",
       "4                                       False   \n",
       "...                                       ...   \n",
       "3039                                    False   \n",
       "3040                                    False   \n",
       "3041                                    False   \n",
       "3042                                    False   \n",
       "3043                                    False   \n",
       "\n",
       "      SubVertical_AI Based Solutions Platform  ...  \\\n",
       "0                                       False  ...   \n",
       "1                                       False  ...   \n",
       "2                                       False  ...   \n",
       "3                                       False  ...   \n",
       "4                                       False  ...   \n",
       "...                                       ...  ...   \n",
       "3039                                    False  ...   \n",
       "3040                                    False  ...   \n",
       "3041                                    False  ...   \n",
       "3042                                    False  ...   \n",
       "3043                                    False  ...   \n",
       "\n",
       "      InvestmentType_Cleaned_Equity  InvestmentType_Cleaned_Other  \\\n",
       "0                             False                         False   \n",
       "1                             False                         False   \n",
       "2                             False                         False   \n",
       "3                             False                         False   \n",
       "4                             False                         False   \n",
       "...                             ...                           ...   \n",
       "3039                          False                         False   \n",
       "3040                          False                         False   \n",
       "3041                          False                         False   \n",
       "3042                          False                         False   \n",
       "3043                          False                         False   \n",
       "\n",
       "      InvestmentType_Cleaned_Pre-Series A  \\\n",
       "0                                   False   \n",
       "1                                   False   \n",
       "2                                   False   \n",
       "3                                    True   \n",
       "4                                   False   \n",
       "...                                   ...   \n",
       "3039                                False   \n",
       "3040                                False   \n",
       "3041                                False   \n",
       "3042                                False   \n",
       "3043                                False   \n",
       "\n",
       "      InvestmentType_Cleaned_Private Equity  InvestmentType_Cleaned_Seed  \\\n",
       "0                                      True                        False   \n",
       "1                                     False                        False   \n",
       "2                                     False                        False   \n",
       "3                                     False                        False   \n",
       "4                                     False                         True   \n",
       "...                                     ...                          ...   \n",
       "3039                                   True                        False   \n",
       "3040                                   True                        False   \n",
       "3041                                   True                        False   \n",
       "3042                                   True                        False   \n",
       "3043                                  False                         True   \n",
       "\n",
       "      InvestmentType_Cleaned_Series A  InvestmentType_Cleaned_Series B  \\\n",
       "0                               False                            False   \n",
       "1                               False                            False   \n",
       "2                               False                             True   \n",
       "3                               False                            False   \n",
       "4                               False                            False   \n",
       "...                               ...                              ...   \n",
       "3039                            False                            False   \n",
       "3040                            False                            False   \n",
       "3041                            False                            False   \n",
       "3042                            False                            False   \n",
       "3043                            False                            False   \n",
       "\n",
       "      InvestmentType_Cleaned_Series C  InvestmentType_Cleaned_Series D+  \\\n",
       "0                               False                             False   \n",
       "1                                True                             False   \n",
       "2                               False                             False   \n",
       "3                               False                             False   \n",
       "4                               False                             False   \n",
       "...                               ...                               ...   \n",
       "3039                            False                             False   \n",
       "3040                            False                             False   \n",
       "3041                            False                             False   \n",
       "3042                            False                             False   \n",
       "3043                            False                             False   \n",
       "\n",
       "      InvestmentType_Cleaned_Venture  \n",
       "0                              False  \n",
       "1                              False  \n",
       "2                              False  \n",
       "3                              False  \n",
       "4                              False  \n",
       "...                              ...  \n",
       "3039                           False  \n",
       "3040                           False  \n",
       "3041                           False  \n",
       "3042                           False  \n",
       "3043                           False  \n",
       "\n",
       "[3044 rows x 2077 columns]"
      ]
     },
     "execution_count": 93,
     "metadata": {},
     "output_type": "execute_result"
    }
   ],
   "source": [
    "df_encoded"
   ]
  },
  {
   "cell_type": "code",
   "execution_count": 94,
   "id": "c31f1943",
   "metadata": {},
   "outputs": [],
   "source": [
    "from sklearn.model_selection import train_test_split"
   ]
  },
  {
   "cell_type": "code",
   "execution_count": 95,
   "id": "fdd91bb2",
   "metadata": {},
   "outputs": [],
   "source": [
    "X=df_encoded.drop('is_funded',axis=1)\n",
    "y=df_encoded['is_funded']"
   ]
  },
  {
   "cell_type": "code",
   "execution_count": 96,
   "id": "23bd66e8",
   "metadata": {},
   "outputs": [],
   "source": [
    "X_train,X_test,y_train,y_test=train_test_split(X,y,test_size=0.2,random_state=42,stratify=y)"
   ]
  },
  {
   "cell_type": "markdown",
   "id": "c35f0f2c",
   "metadata": {},
   "source": [
    "--------------------------------------------------------------------------------------------"
   ]
  },
  {
   "cell_type": "markdown",
   "id": "bcb3694b",
   "metadata": {},
   "source": [
    "Using Logistic Regression"
   ]
  },
  {
   "cell_type": "code",
   "execution_count": 97,
   "id": "16d23c48",
   "metadata": {},
   "outputs": [],
   "source": [
    "from sklearn.linear_model import LogisticRegression"
   ]
  },
  {
   "cell_type": "code",
   "execution_count": 98,
   "id": "bd39f394",
   "metadata": {},
   "outputs": [
    {
     "data": {
      "text/plain": [
       "is_funded\n",
       "1    2065\n",
       "0     979\n",
       "Name: count, dtype: int64"
      ]
     },
     "execution_count": 98,
     "metadata": {},
     "output_type": "execute_result"
    }
   ],
   "source": [
    "df_encoded['is_funded'].value_counts()"
   ]
  },
  {
   "cell_type": "code",
   "execution_count": 99,
   "id": "5501ce09",
   "metadata": {},
   "outputs": [],
   "source": [
    "X_train=X_train.dropna()\n",
    "y_train=y_train.loc[X_train.index]"
   ]
  },
  {
   "cell_type": "code",
   "execution_count": 100,
   "id": "8e1e8979",
   "metadata": {},
   "outputs": [],
   "source": [
    "X_test=X_test.dropna()\n",
    "y_test=y_test.loc[X_test.index]"
   ]
  },
  {
   "cell_type": "code",
   "execution_count": 101,
   "id": "1184706e",
   "metadata": {},
   "outputs": [
    {
     "name": "stderr",
     "output_type": "stream",
     "text": [
      "c:\\Users\\Admin\\Desktop\\Madhu\\udemyproject\\passwordstrength\\drive-download-20250514T024323Z-1-001\\venv\\lib\\site-packages\\sklearn\\linear_model\\_logistic.py:465: ConvergenceWarning: lbfgs failed to converge (status=1):\n",
      "STOP: TOTAL NO. OF ITERATIONS REACHED LIMIT.\n",
      "\n",
      "Increase the number of iterations (max_iter) or scale the data as shown in:\n",
      "    https://scikit-learn.org/stable/modules/preprocessing.html\n",
      "Please also refer to the documentation for alternative solver options:\n",
      "    https://scikit-learn.org/stable/modules/linear_model.html#logistic-regression\n",
      "  n_iter_i = _check_optimize_result(\n"
     ]
    },
    {
     "data": {
      "text/html": [
       "<style>#sk-container-id-1 {\n",
       "  /* Definition of color scheme common for light and dark mode */\n",
       "  --sklearn-color-text: #000;\n",
       "  --sklearn-color-text-muted: #666;\n",
       "  --sklearn-color-line: gray;\n",
       "  /* Definition of color scheme for unfitted estimators */\n",
       "  --sklearn-color-unfitted-level-0: #fff5e6;\n",
       "  --sklearn-color-unfitted-level-1: #f6e4d2;\n",
       "  --sklearn-color-unfitted-level-2: #ffe0b3;\n",
       "  --sklearn-color-unfitted-level-3: chocolate;\n",
       "  /* Definition of color scheme for fitted estimators */\n",
       "  --sklearn-color-fitted-level-0: #f0f8ff;\n",
       "  --sklearn-color-fitted-level-1: #d4ebff;\n",
       "  --sklearn-color-fitted-level-2: #b3dbfd;\n",
       "  --sklearn-color-fitted-level-3: cornflowerblue;\n",
       "\n",
       "  /* Specific color for light theme */\n",
       "  --sklearn-color-text-on-default-background: var(--sg-text-color, var(--theme-code-foreground, var(--jp-content-font-color1, black)));\n",
       "  --sklearn-color-background: var(--sg-background-color, var(--theme-background, var(--jp-layout-color0, white)));\n",
       "  --sklearn-color-border-box: var(--sg-text-color, var(--theme-code-foreground, var(--jp-content-font-color1, black)));\n",
       "  --sklearn-color-icon: #696969;\n",
       "\n",
       "  @media (prefers-color-scheme: dark) {\n",
       "    /* Redefinition of color scheme for dark theme */\n",
       "    --sklearn-color-text-on-default-background: var(--sg-text-color, var(--theme-code-foreground, var(--jp-content-font-color1, white)));\n",
       "    --sklearn-color-background: var(--sg-background-color, var(--theme-background, var(--jp-layout-color0, #111)));\n",
       "    --sklearn-color-border-box: var(--sg-text-color, var(--theme-code-foreground, var(--jp-content-font-color1, white)));\n",
       "    --sklearn-color-icon: #878787;\n",
       "  }\n",
       "}\n",
       "\n",
       "#sk-container-id-1 {\n",
       "  color: var(--sklearn-color-text);\n",
       "}\n",
       "\n",
       "#sk-container-id-1 pre {\n",
       "  padding: 0;\n",
       "}\n",
       "\n",
       "#sk-container-id-1 input.sk-hidden--visually {\n",
       "  border: 0;\n",
       "  clip: rect(1px 1px 1px 1px);\n",
       "  clip: rect(1px, 1px, 1px, 1px);\n",
       "  height: 1px;\n",
       "  margin: -1px;\n",
       "  overflow: hidden;\n",
       "  padding: 0;\n",
       "  position: absolute;\n",
       "  width: 1px;\n",
       "}\n",
       "\n",
       "#sk-container-id-1 div.sk-dashed-wrapped {\n",
       "  border: 1px dashed var(--sklearn-color-line);\n",
       "  margin: 0 0.4em 0.5em 0.4em;\n",
       "  box-sizing: border-box;\n",
       "  padding-bottom: 0.4em;\n",
       "  background-color: var(--sklearn-color-background);\n",
       "}\n",
       "\n",
       "#sk-container-id-1 div.sk-container {\n",
       "  /* jupyter's `normalize.less` sets `[hidden] { display: none; }`\n",
       "     but bootstrap.min.css set `[hidden] { display: none !important; }`\n",
       "     so we also need the `!important` here to be able to override the\n",
       "     default hidden behavior on the sphinx rendered scikit-learn.org.\n",
       "     See: https://github.com/scikit-learn/scikit-learn/issues/21755 */\n",
       "  display: inline-block !important;\n",
       "  position: relative;\n",
       "}\n",
       "\n",
       "#sk-container-id-1 div.sk-text-repr-fallback {\n",
       "  display: none;\n",
       "}\n",
       "\n",
       "div.sk-parallel-item,\n",
       "div.sk-serial,\n",
       "div.sk-item {\n",
       "  /* draw centered vertical line to link estimators */\n",
       "  background-image: linear-gradient(var(--sklearn-color-text-on-default-background), var(--sklearn-color-text-on-default-background));\n",
       "  background-size: 2px 100%;\n",
       "  background-repeat: no-repeat;\n",
       "  background-position: center center;\n",
       "}\n",
       "\n",
       "/* Parallel-specific style estimator block */\n",
       "\n",
       "#sk-container-id-1 div.sk-parallel-item::after {\n",
       "  content: \"\";\n",
       "  width: 100%;\n",
       "  border-bottom: 2px solid var(--sklearn-color-text-on-default-background);\n",
       "  flex-grow: 1;\n",
       "}\n",
       "\n",
       "#sk-container-id-1 div.sk-parallel {\n",
       "  display: flex;\n",
       "  align-items: stretch;\n",
       "  justify-content: center;\n",
       "  background-color: var(--sklearn-color-background);\n",
       "  position: relative;\n",
       "}\n",
       "\n",
       "#sk-container-id-1 div.sk-parallel-item {\n",
       "  display: flex;\n",
       "  flex-direction: column;\n",
       "}\n",
       "\n",
       "#sk-container-id-1 div.sk-parallel-item:first-child::after {\n",
       "  align-self: flex-end;\n",
       "  width: 50%;\n",
       "}\n",
       "\n",
       "#sk-container-id-1 div.sk-parallel-item:last-child::after {\n",
       "  align-self: flex-start;\n",
       "  width: 50%;\n",
       "}\n",
       "\n",
       "#sk-container-id-1 div.sk-parallel-item:only-child::after {\n",
       "  width: 0;\n",
       "}\n",
       "\n",
       "/* Serial-specific style estimator block */\n",
       "\n",
       "#sk-container-id-1 div.sk-serial {\n",
       "  display: flex;\n",
       "  flex-direction: column;\n",
       "  align-items: center;\n",
       "  background-color: var(--sklearn-color-background);\n",
       "  padding-right: 1em;\n",
       "  padding-left: 1em;\n",
       "}\n",
       "\n",
       "\n",
       "/* Toggleable style: style used for estimator/Pipeline/ColumnTransformer box that is\n",
       "clickable and can be expanded/collapsed.\n",
       "- Pipeline and ColumnTransformer use this feature and define the default style\n",
       "- Estimators will overwrite some part of the style using the `sk-estimator` class\n",
       "*/\n",
       "\n",
       "/* Pipeline and ColumnTransformer style (default) */\n",
       "\n",
       "#sk-container-id-1 div.sk-toggleable {\n",
       "  /* Default theme specific background. It is overwritten whether we have a\n",
       "  specific estimator or a Pipeline/ColumnTransformer */\n",
       "  background-color: var(--sklearn-color-background);\n",
       "}\n",
       "\n",
       "/* Toggleable label */\n",
       "#sk-container-id-1 label.sk-toggleable__label {\n",
       "  cursor: pointer;\n",
       "  display: flex;\n",
       "  width: 100%;\n",
       "  margin-bottom: 0;\n",
       "  padding: 0.5em;\n",
       "  box-sizing: border-box;\n",
       "  text-align: center;\n",
       "  align-items: start;\n",
       "  justify-content: space-between;\n",
       "  gap: 0.5em;\n",
       "}\n",
       "\n",
       "#sk-container-id-1 label.sk-toggleable__label .caption {\n",
       "  font-size: 0.6rem;\n",
       "  font-weight: lighter;\n",
       "  color: var(--sklearn-color-text-muted);\n",
       "}\n",
       "\n",
       "#sk-container-id-1 label.sk-toggleable__label-arrow:before {\n",
       "  /* Arrow on the left of the label */\n",
       "  content: \"▸\";\n",
       "  float: left;\n",
       "  margin-right: 0.25em;\n",
       "  color: var(--sklearn-color-icon);\n",
       "}\n",
       "\n",
       "#sk-container-id-1 label.sk-toggleable__label-arrow:hover:before {\n",
       "  color: var(--sklearn-color-text);\n",
       "}\n",
       "\n",
       "/* Toggleable content - dropdown */\n",
       "\n",
       "#sk-container-id-1 div.sk-toggleable__content {\n",
       "  max-height: 0;\n",
       "  max-width: 0;\n",
       "  overflow: hidden;\n",
       "  text-align: left;\n",
       "  /* unfitted */\n",
       "  background-color: var(--sklearn-color-unfitted-level-0);\n",
       "}\n",
       "\n",
       "#sk-container-id-1 div.sk-toggleable__content.fitted {\n",
       "  /* fitted */\n",
       "  background-color: var(--sklearn-color-fitted-level-0);\n",
       "}\n",
       "\n",
       "#sk-container-id-1 div.sk-toggleable__content pre {\n",
       "  margin: 0.2em;\n",
       "  border-radius: 0.25em;\n",
       "  color: var(--sklearn-color-text);\n",
       "  /* unfitted */\n",
       "  background-color: var(--sklearn-color-unfitted-level-0);\n",
       "}\n",
       "\n",
       "#sk-container-id-1 div.sk-toggleable__content.fitted pre {\n",
       "  /* unfitted */\n",
       "  background-color: var(--sklearn-color-fitted-level-0);\n",
       "}\n",
       "\n",
       "#sk-container-id-1 input.sk-toggleable__control:checked~div.sk-toggleable__content {\n",
       "  /* Expand drop-down */\n",
       "  max-height: 200px;\n",
       "  max-width: 100%;\n",
       "  overflow: auto;\n",
       "}\n",
       "\n",
       "#sk-container-id-1 input.sk-toggleable__control:checked~label.sk-toggleable__label-arrow:before {\n",
       "  content: \"▾\";\n",
       "}\n",
       "\n",
       "/* Pipeline/ColumnTransformer-specific style */\n",
       "\n",
       "#sk-container-id-1 div.sk-label input.sk-toggleable__control:checked~label.sk-toggleable__label {\n",
       "  color: var(--sklearn-color-text);\n",
       "  background-color: var(--sklearn-color-unfitted-level-2);\n",
       "}\n",
       "\n",
       "#sk-container-id-1 div.sk-label.fitted input.sk-toggleable__control:checked~label.sk-toggleable__label {\n",
       "  background-color: var(--sklearn-color-fitted-level-2);\n",
       "}\n",
       "\n",
       "/* Estimator-specific style */\n",
       "\n",
       "/* Colorize estimator box */\n",
       "#sk-container-id-1 div.sk-estimator input.sk-toggleable__control:checked~label.sk-toggleable__label {\n",
       "  /* unfitted */\n",
       "  background-color: var(--sklearn-color-unfitted-level-2);\n",
       "}\n",
       "\n",
       "#sk-container-id-1 div.sk-estimator.fitted input.sk-toggleable__control:checked~label.sk-toggleable__label {\n",
       "  /* fitted */\n",
       "  background-color: var(--sklearn-color-fitted-level-2);\n",
       "}\n",
       "\n",
       "#sk-container-id-1 div.sk-label label.sk-toggleable__label,\n",
       "#sk-container-id-1 div.sk-label label {\n",
       "  /* The background is the default theme color */\n",
       "  color: var(--sklearn-color-text-on-default-background);\n",
       "}\n",
       "\n",
       "/* On hover, darken the color of the background */\n",
       "#sk-container-id-1 div.sk-label:hover label.sk-toggleable__label {\n",
       "  color: var(--sklearn-color-text);\n",
       "  background-color: var(--sklearn-color-unfitted-level-2);\n",
       "}\n",
       "\n",
       "/* Label box, darken color on hover, fitted */\n",
       "#sk-container-id-1 div.sk-label.fitted:hover label.sk-toggleable__label.fitted {\n",
       "  color: var(--sklearn-color-text);\n",
       "  background-color: var(--sklearn-color-fitted-level-2);\n",
       "}\n",
       "\n",
       "/* Estimator label */\n",
       "\n",
       "#sk-container-id-1 div.sk-label label {\n",
       "  font-family: monospace;\n",
       "  font-weight: bold;\n",
       "  display: inline-block;\n",
       "  line-height: 1.2em;\n",
       "}\n",
       "\n",
       "#sk-container-id-1 div.sk-label-container {\n",
       "  text-align: center;\n",
       "}\n",
       "\n",
       "/* Estimator-specific */\n",
       "#sk-container-id-1 div.sk-estimator {\n",
       "  font-family: monospace;\n",
       "  border: 1px dotted var(--sklearn-color-border-box);\n",
       "  border-radius: 0.25em;\n",
       "  box-sizing: border-box;\n",
       "  margin-bottom: 0.5em;\n",
       "  /* unfitted */\n",
       "  background-color: var(--sklearn-color-unfitted-level-0);\n",
       "}\n",
       "\n",
       "#sk-container-id-1 div.sk-estimator.fitted {\n",
       "  /* fitted */\n",
       "  background-color: var(--sklearn-color-fitted-level-0);\n",
       "}\n",
       "\n",
       "/* on hover */\n",
       "#sk-container-id-1 div.sk-estimator:hover {\n",
       "  /* unfitted */\n",
       "  background-color: var(--sklearn-color-unfitted-level-2);\n",
       "}\n",
       "\n",
       "#sk-container-id-1 div.sk-estimator.fitted:hover {\n",
       "  /* fitted */\n",
       "  background-color: var(--sklearn-color-fitted-level-2);\n",
       "}\n",
       "\n",
       "/* Specification for estimator info (e.g. \"i\" and \"?\") */\n",
       "\n",
       "/* Common style for \"i\" and \"?\" */\n",
       "\n",
       ".sk-estimator-doc-link,\n",
       "a:link.sk-estimator-doc-link,\n",
       "a:visited.sk-estimator-doc-link {\n",
       "  float: right;\n",
       "  font-size: smaller;\n",
       "  line-height: 1em;\n",
       "  font-family: monospace;\n",
       "  background-color: var(--sklearn-color-background);\n",
       "  border-radius: 1em;\n",
       "  height: 1em;\n",
       "  width: 1em;\n",
       "  text-decoration: none !important;\n",
       "  margin-left: 0.5em;\n",
       "  text-align: center;\n",
       "  /* unfitted */\n",
       "  border: var(--sklearn-color-unfitted-level-1) 1pt solid;\n",
       "  color: var(--sklearn-color-unfitted-level-1);\n",
       "}\n",
       "\n",
       ".sk-estimator-doc-link.fitted,\n",
       "a:link.sk-estimator-doc-link.fitted,\n",
       "a:visited.sk-estimator-doc-link.fitted {\n",
       "  /* fitted */\n",
       "  border: var(--sklearn-color-fitted-level-1) 1pt solid;\n",
       "  color: var(--sklearn-color-fitted-level-1);\n",
       "}\n",
       "\n",
       "/* On hover */\n",
       "div.sk-estimator:hover .sk-estimator-doc-link:hover,\n",
       ".sk-estimator-doc-link:hover,\n",
       "div.sk-label-container:hover .sk-estimator-doc-link:hover,\n",
       ".sk-estimator-doc-link:hover {\n",
       "  /* unfitted */\n",
       "  background-color: var(--sklearn-color-unfitted-level-3);\n",
       "  color: var(--sklearn-color-background);\n",
       "  text-decoration: none;\n",
       "}\n",
       "\n",
       "div.sk-estimator.fitted:hover .sk-estimator-doc-link.fitted:hover,\n",
       ".sk-estimator-doc-link.fitted:hover,\n",
       "div.sk-label-container:hover .sk-estimator-doc-link.fitted:hover,\n",
       ".sk-estimator-doc-link.fitted:hover {\n",
       "  /* fitted */\n",
       "  background-color: var(--sklearn-color-fitted-level-3);\n",
       "  color: var(--sklearn-color-background);\n",
       "  text-decoration: none;\n",
       "}\n",
       "\n",
       "/* Span, style for the box shown on hovering the info icon */\n",
       ".sk-estimator-doc-link span {\n",
       "  display: none;\n",
       "  z-index: 9999;\n",
       "  position: relative;\n",
       "  font-weight: normal;\n",
       "  right: .2ex;\n",
       "  padding: .5ex;\n",
       "  margin: .5ex;\n",
       "  width: min-content;\n",
       "  min-width: 20ex;\n",
       "  max-width: 50ex;\n",
       "  color: var(--sklearn-color-text);\n",
       "  box-shadow: 2pt 2pt 4pt #999;\n",
       "  /* unfitted */\n",
       "  background: var(--sklearn-color-unfitted-level-0);\n",
       "  border: .5pt solid var(--sklearn-color-unfitted-level-3);\n",
       "}\n",
       "\n",
       ".sk-estimator-doc-link.fitted span {\n",
       "  /* fitted */\n",
       "  background: var(--sklearn-color-fitted-level-0);\n",
       "  border: var(--sklearn-color-fitted-level-3);\n",
       "}\n",
       "\n",
       ".sk-estimator-doc-link:hover span {\n",
       "  display: block;\n",
       "}\n",
       "\n",
       "/* \"?\"-specific style due to the `<a>` HTML tag */\n",
       "\n",
       "#sk-container-id-1 a.estimator_doc_link {\n",
       "  float: right;\n",
       "  font-size: 1rem;\n",
       "  line-height: 1em;\n",
       "  font-family: monospace;\n",
       "  background-color: var(--sklearn-color-background);\n",
       "  border-radius: 1rem;\n",
       "  height: 1rem;\n",
       "  width: 1rem;\n",
       "  text-decoration: none;\n",
       "  /* unfitted */\n",
       "  color: var(--sklearn-color-unfitted-level-1);\n",
       "  border: var(--sklearn-color-unfitted-level-1) 1pt solid;\n",
       "}\n",
       "\n",
       "#sk-container-id-1 a.estimator_doc_link.fitted {\n",
       "  /* fitted */\n",
       "  border: var(--sklearn-color-fitted-level-1) 1pt solid;\n",
       "  color: var(--sklearn-color-fitted-level-1);\n",
       "}\n",
       "\n",
       "/* On hover */\n",
       "#sk-container-id-1 a.estimator_doc_link:hover {\n",
       "  /* unfitted */\n",
       "  background-color: var(--sklearn-color-unfitted-level-3);\n",
       "  color: var(--sklearn-color-background);\n",
       "  text-decoration: none;\n",
       "}\n",
       "\n",
       "#sk-container-id-1 a.estimator_doc_link.fitted:hover {\n",
       "  /* fitted */\n",
       "  background-color: var(--sklearn-color-fitted-level-3);\n",
       "}\n",
       "</style><div id=\"sk-container-id-1\" class=\"sk-top-container\"><div class=\"sk-text-repr-fallback\"><pre>LogisticRegression(max_iter=1000)</pre><b>In a Jupyter environment, please rerun this cell to show the HTML representation or trust the notebook. <br />On GitHub, the HTML representation is unable to render, please try loading this page with nbviewer.org.</b></div><div class=\"sk-container\" hidden><div class=\"sk-item\"><div class=\"sk-estimator fitted sk-toggleable\"><input class=\"sk-toggleable__control sk-hidden--visually\" id=\"sk-estimator-id-1\" type=\"checkbox\" checked><label for=\"sk-estimator-id-1\" class=\"sk-toggleable__label fitted sk-toggleable__label-arrow\"><div><div>LogisticRegression</div></div><div><a class=\"sk-estimator-doc-link fitted\" rel=\"noreferrer\" target=\"_blank\" href=\"https://scikit-learn.org/1.6/modules/generated/sklearn.linear_model.LogisticRegression.html\">?<span>Documentation for LogisticRegression</span></a><span class=\"sk-estimator-doc-link fitted\">i<span>Fitted</span></span></div></label><div class=\"sk-toggleable__content fitted\"><pre>LogisticRegression(max_iter=1000)</pre></div> </div></div></div></div>"
      ],
      "text/plain": [
       "LogisticRegression(max_iter=1000)"
      ]
     },
     "execution_count": 101,
     "metadata": {},
     "output_type": "execute_result"
    }
   ],
   "source": [
    "log_model=LogisticRegression(max_iter=1000)\n",
    "log_model.fit(X_train,y_train)"
   ]
  },
  {
   "cell_type": "code",
   "execution_count": 102,
   "id": "084e6119",
   "metadata": {},
   "outputs": [],
   "source": [
    "y_pred=log_model.predict(X_test)"
   ]
  },
  {
   "cell_type": "code",
   "execution_count": 103,
   "id": "e2d5b1ab",
   "metadata": {},
   "outputs": [
    {
     "data": {
      "text/plain": [
       "array([0, 1, 1, 1, 1, 1, 1, 1, 1, 1, 1, 1, 1, 1, 1, 1, 1, 1, 1, 1, 1, 1,\n",
       "       0, 1, 1, 1, 1, 1, 1, 1, 0, 1, 1, 1, 1, 1, 0, 1, 1, 1, 1, 1, 1, 1,\n",
       "       1, 1, 1, 0, 1, 1, 1, 0, 1, 1, 1, 1, 0, 1, 1, 1, 1, 1, 1, 0, 1, 1,\n",
       "       1, 0, 0, 1, 0, 1, 1, 1, 1, 0, 1, 1, 1, 1, 1, 1, 1, 1, 1, 1, 0, 1,\n",
       "       1, 1, 1, 1, 1, 1, 0, 1, 1, 1, 1, 1, 1, 1, 1, 1, 1, 1, 1, 1, 0, 1,\n",
       "       0, 1, 1, 1, 1, 1, 1, 1, 1, 1, 1, 1, 1, 0, 1, 1, 1, 1, 1, 1, 1, 1,\n",
       "       1, 1, 1, 1, 0, 1, 1, 0, 1, 1, 1, 0, 0, 1, 0, 1, 0, 1, 1, 1, 1, 1,\n",
       "       1, 1, 1, 1, 1, 1, 1, 1, 1, 1, 1, 1, 1, 1, 1, 1, 1, 0, 1, 1, 1, 0,\n",
       "       1, 1, 1, 0, 1, 1, 0, 1, 1, 1, 1, 1, 1, 1, 0, 1, 0, 1, 1, 0, 1, 1,\n",
       "       1, 1, 1, 1, 1, 1, 1, 1, 1, 1, 1, 0, 1, 1, 1, 0, 1, 1, 1, 1, 1, 1,\n",
       "       1, 1, 1, 1, 1, 1, 1, 1, 0, 1, 0, 1, 1, 1, 1, 1, 1, 1, 1, 1, 1, 1,\n",
       "       1, 1, 1, 1, 1, 1, 1, 1, 1, 1, 1, 1, 1, 1, 1, 1, 1, 0, 1, 1, 1, 1,\n",
       "       1, 1, 1, 1, 1, 1, 1, 1, 1, 1, 1, 1, 1, 1, 1, 1, 1, 1, 0, 0, 1, 1,\n",
       "       1, 0, 1, 1, 1, 1, 1, 1, 1, 1, 1, 1, 1, 1, 1, 0, 0, 1, 1, 0, 1, 1,\n",
       "       1, 1, 1, 1, 1, 1, 1, 1, 1, 1, 1, 1, 1, 1, 0, 1, 1, 1, 1, 0, 1, 1,\n",
       "       1, 1, 1, 1, 1, 0, 1, 0, 1, 1, 1, 1, 1, 1, 1, 1, 0, 1, 1, 1, 1, 1,\n",
       "       1, 0, 1, 1, 1, 1, 1, 1, 1, 1, 1, 1, 1, 1, 1, 1, 1, 1, 1, 1, 0, 1,\n",
       "       1, 1, 1, 1, 0, 1, 1, 1, 1, 1, 1, 1, 1, 1, 1, 1, 1, 0, 1, 1, 1, 1,\n",
       "       1, 1, 1, 1, 1, 1, 0, 0, 1, 1, 0, 1, 1, 1, 1, 1, 1, 1, 1, 1, 1, 1,\n",
       "       1, 1, 0, 0, 1, 1, 1, 1, 1, 1, 1, 1, 1, 1, 1, 1, 1, 1, 0, 1, 1, 1,\n",
       "       1, 1, 1, 1, 1, 1, 1, 1, 1, 0, 0, 1, 1, 1, 1, 1, 1, 1, 0, 0, 1, 1,\n",
       "       1, 1, 1, 0, 1, 1, 0, 0, 0, 0, 1, 1, 0, 1, 1, 1, 1, 1, 1, 1, 1, 1,\n",
       "       0, 1, 0, 1, 1, 1, 1, 1, 1, 1, 1, 1, 1, 1, 1, 1, 0, 1, 1, 1, 1, 1,\n",
       "       0, 1, 1, 1, 1, 1, 1, 1, 1, 1, 1, 1, 1, 1, 1, 1, 1, 1, 1, 1, 1, 1,\n",
       "       1, 1, 1, 1, 1, 1, 1, 1, 1, 1, 1, 1, 1, 1, 1, 1, 1, 1, 1, 1, 0, 1,\n",
       "       0, 1, 1, 1, 1, 1, 1, 1, 1, 0, 1, 1, 1, 1, 1, 0, 1, 0, 1, 1, 1, 1,\n",
       "       1, 1, 0, 1, 1, 1, 1, 1, 1, 0, 1, 1, 1, 1, 1, 1, 1, 1, 1, 1, 1, 1,\n",
       "       1, 1, 1, 1, 1, 1, 1, 1, 0, 1, 1, 1, 1])"
      ]
     },
     "execution_count": 103,
     "metadata": {},
     "output_type": "execute_result"
    }
   ],
   "source": [
    "y_pred"
   ]
  },
  {
   "cell_type": "code",
   "execution_count": 104,
   "id": "6b240a57",
   "metadata": {},
   "outputs": [],
   "source": [
    "from sklearn.metrics import accuracy_score,precision_score,recall_score,f1_score,confusion_matrix,classification_report\n"
   ]
  },
  {
   "cell_type": "code",
   "execution_count": 105,
   "id": "29ef560b",
   "metadata": {},
   "outputs": [],
   "source": [
    "acc=accuracy_score(y_test,y_pred)\n",
    "prec=precision_score(y_test,y_pred)\n",
    "recall=recall_score(y_test,y_pred)\n",
    "f1=f1_score(y_test,y_pred)\n",
    "class_report=classification_report(y_test,y_pred)"
   ]
  },
  {
   "cell_type": "code",
   "execution_count": 106,
   "id": "2ac5d583",
   "metadata": {},
   "outputs": [
    {
     "name": "stdout",
     "output_type": "stream",
     "text": [
      "0.6639209225700164\n",
      "0.6956521739130435\n",
      "0.8953771289537713\n",
      "0.7829787234042553\n",
      "              precision    recall  f1-score   support\n",
      "\n",
      "           0       0.45      0.18      0.26       196\n",
      "           1       0.70      0.90      0.78       411\n",
      "\n",
      "    accuracy                           0.66       607\n",
      "   macro avg       0.57      0.54      0.52       607\n",
      "weighted avg       0.62      0.66      0.61       607\n",
      "\n"
     ]
    }
   ],
   "source": [
    "print(acc)\n",
    "print(prec)\n",
    "print(recall)\n",
    "print(f1)\n",
    "print(class_report)"
   ]
  },
  {
   "cell_type": "code",
   "execution_count": 107,
   "id": "840be608",
   "metadata": {},
   "outputs": [
    {
     "name": "stdout",
     "output_type": "stream",
     "text": [
      "Fitting 3 folds for each of 20 candidates, totalling 60 fits\n",
      "Best params: {'C': np.float64(8.471801418819979), 'penalty': 'l1', 'solver': 'liblinear'}\n",
      "Best F1 score: 0.7661395884933538\n"
     ]
    }
   ],
   "source": [
    "from sklearn.model_selection import RandomizedSearchCV\n",
    "from sklearn.linear_model import LogisticRegression\n",
    "import scipy.stats as stats\n",
    "\n",
    "param_dist = {\n",
    "    'penalty': ['l1', 'l2'],\n",
    "    'C': stats.loguniform(0.01, 100),\n",
    "    'solver': ['liblinear', 'saga']\n",
    "}\n",
    "\n",
    "log_reg = LogisticRegression(max_iter=1000,class_weight='balanced')\n",
    "\n",
    "random_search = RandomizedSearchCV(log_reg, param_dist, n_iter=20, cv=3, scoring='f1', n_jobs=-1, random_state=42, verbose=3)\n",
    "random_search.fit(X_train, y_train)\n",
    "\n",
    "print(\"Best params:\", random_search.best_params_)\n",
    "print(\"Best F1 score:\", random_search.best_score_)\n",
    "\n",
    "best_log_reg = random_search.best_estimator_\n"
   ]
  },
  {
   "cell_type": "code",
   "execution_count": 108,
   "id": "417f027f",
   "metadata": {},
   "outputs": [],
   "source": [
    "y_pred_log_cv=random_search.predict(X_test)"
   ]
  },
  {
   "cell_type": "code",
   "execution_count": 109,
   "id": "cf4afd45",
   "metadata": {},
   "outputs": [],
   "source": [
    "acc_logcv=accuracy_score(y_test,y_pred_log_cv)\n",
    "prec_logcv=precision_score(y_test,y_pred_log_cv)\n",
    "recall_logcv=recall_score(y_test,y_pred_log_cv)\n",
    "f1_logcv=f1_score(y_test,y_pred_log_cv)\n",
    "class_report_logcv=classification_report(y_test,y_pred_log_cv)"
   ]
  },
  {
   "cell_type": "code",
   "execution_count": 110,
   "id": "ec18c159",
   "metadata": {},
   "outputs": [
    {
     "name": "stdout",
     "output_type": "stream",
     "text": [
      "0.6293245469522241\n",
      "0.6852589641434262\n",
      "0.8369829683698297\n",
      "0.7535596933187295\n",
      "              precision    recall  f1-score   support\n",
      "\n",
      "           0       0.36      0.19      0.25       196\n",
      "           1       0.69      0.84      0.75       411\n",
      "\n",
      "    accuracy                           0.63       607\n",
      "   macro avg       0.52      0.52      0.50       607\n",
      "weighted avg       0.58      0.63      0.59       607\n",
      "\n"
     ]
    }
   ],
   "source": [
    "print(acc_logcv)\n",
    "print(prec_logcv)\n",
    "print(recall_logcv)\n",
    "print(f1_logcv)\n",
    "print(class_report_logcv)"
   ]
  },
  {
   "cell_type": "markdown",
   "id": "6e556976",
   "metadata": {},
   "source": [
    "Using Random Forest Classifier"
   ]
  },
  {
   "cell_type": "code",
   "execution_count": 111,
   "id": "b468ea56",
   "metadata": {},
   "outputs": [
    {
     "name": "stdout",
     "output_type": "stream",
     "text": [
      "0.6589785831960461\n"
     ]
    }
   ],
   "source": [
    "from sklearn.ensemble import RandomForestClassifier\n",
    "\n",
    "rf_model=RandomForestClassifier(random_state=42)\n",
    "rf_model.fit(X_train,y_train)\n",
    "y_pred_rf=rf_model.predict(X_test)\n",
    "\n",
    "acc_rf=accuracy_score(y_test,y_pred_rf)\n",
    "print(acc_rf)"
   ]
  },
  {
   "cell_type": "code",
   "execution_count": 112,
   "id": "cd0b64d5",
   "metadata": {},
   "outputs": [
    {
     "name": "stderr",
     "output_type": "stream",
     "text": [
      "c:\\Users\\Admin\\Desktop\\Madhu\\udemyproject\\passwordstrength\\drive-download-20250514T024323Z-1-001\\venv\\lib\\site-packages\\sklearn\\model_selection\\_validation.py:528: FitFailedWarning: \n",
      "25 fits failed out of a total of 100.\n",
      "The score on these train-test partitions for these parameters will be set to nan.\n",
      "If these failures are not expected, you can try to debug them by setting error_score='raise'.\n",
      "\n",
      "Below are more details about the failures:\n",
      "--------------------------------------------------------------------------------\n",
      "7 fits failed with the following error:\n",
      "Traceback (most recent call last):\n",
      "  File \"c:\\Users\\Admin\\Desktop\\Madhu\\udemyproject\\passwordstrength\\drive-download-20250514T024323Z-1-001\\venv\\lib\\site-packages\\sklearn\\model_selection\\_validation.py\", line 866, in _fit_and_score\n",
      "    estimator.fit(X_train, y_train, **fit_params)\n",
      "  File \"c:\\Users\\Admin\\Desktop\\Madhu\\udemyproject\\passwordstrength\\drive-download-20250514T024323Z-1-001\\venv\\lib\\site-packages\\sklearn\\base.py\", line 1382, in wrapper\n",
      "    estimator._validate_params()\n",
      "  File \"c:\\Users\\Admin\\Desktop\\Madhu\\udemyproject\\passwordstrength\\drive-download-20250514T024323Z-1-001\\venv\\lib\\site-packages\\sklearn\\base.py\", line 436, in _validate_params\n",
      "    validate_parameter_constraints(\n",
      "  File \"c:\\Users\\Admin\\Desktop\\Madhu\\udemyproject\\passwordstrength\\drive-download-20250514T024323Z-1-001\\venv\\lib\\site-packages\\sklearn\\utils\\_param_validation.py\", line 98, in validate_parameter_constraints\n",
      "    raise InvalidParameterError(\n",
      "sklearn.utils._param_validation.InvalidParameterError: The 'max_features' parameter of RandomForestClassifier must be an int in the range [1, inf), a float in the range (0.0, 1.0], a str among {'log2', 'sqrt'} or None. Got 'auto' instead.\n",
      "\n",
      "--------------------------------------------------------------------------------\n",
      "18 fits failed with the following error:\n",
      "Traceback (most recent call last):\n",
      "  File \"c:\\Users\\Admin\\Desktop\\Madhu\\udemyproject\\passwordstrength\\drive-download-20250514T024323Z-1-001\\venv\\lib\\site-packages\\sklearn\\model_selection\\_validation.py\", line 866, in _fit_and_score\n",
      "    estimator.fit(X_train, y_train, **fit_params)\n",
      "  File \"c:\\Users\\Admin\\Desktop\\Madhu\\udemyproject\\passwordstrength\\drive-download-20250514T024323Z-1-001\\venv\\lib\\site-packages\\sklearn\\base.py\", line 1382, in wrapper\n",
      "    estimator._validate_params()\n",
      "  File \"c:\\Users\\Admin\\Desktop\\Madhu\\udemyproject\\passwordstrength\\drive-download-20250514T024323Z-1-001\\venv\\lib\\site-packages\\sklearn\\base.py\", line 436, in _validate_params\n",
      "    validate_parameter_constraints(\n",
      "  File \"c:\\Users\\Admin\\Desktop\\Madhu\\udemyproject\\passwordstrength\\drive-download-20250514T024323Z-1-001\\venv\\lib\\site-packages\\sklearn\\utils\\_param_validation.py\", line 98, in validate_parameter_constraints\n",
      "    raise InvalidParameterError(\n",
      "sklearn.utils._param_validation.InvalidParameterError: The 'max_features' parameter of RandomForestClassifier must be an int in the range [1, inf), a float in the range (0.0, 1.0], a str among {'sqrt', 'log2'} or None. Got 'auto' instead.\n",
      "\n",
      "  warnings.warn(some_fits_failed_message, FitFailedWarning)\n",
      "c:\\Users\\Admin\\Desktop\\Madhu\\udemyproject\\passwordstrength\\drive-download-20250514T024323Z-1-001\\venv\\lib\\site-packages\\sklearn\\model_selection\\_search.py:1108: UserWarning: One or more of the test scores are non-finite: [0.7160586  0.69793321 0.71856599        nan 0.70605711 0.71806193\n",
      " 0.70916464 0.73414659 0.73003435        nan 0.71350607 0.71461849\n",
      "        nan 0.72014955 0.70951033        nan        nan 0.70425149\n",
      " 0.69866851 0.71806193]\n",
      "  warnings.warn(\n"
     ]
    }
   ],
   "source": [
    "from sklearn.ensemble import RandomForestClassifier\n",
    "from sklearn.model_selection import RandomizedSearchCV\n",
    "import numpy as np\n",
    "\n",
    "param_dist = {\n",
    "    'n_estimators': [100, 200, 300, 400, 500],\n",
    "    'max_depth': [None, 10, 20, 30, 40, 50],\n",
    "    'min_samples_split': [2, 5, 10],\n",
    "    'min_samples_leaf': [1, 2, 4],\n",
    "    'max_features': ['auto', 'sqrt', 'log2']\n",
    "}\n",
    "\n",
    "rf = RandomForestClassifier(random_state=42,class_weight='balanced')\n",
    "\n",
    "rand_search = RandomizedSearchCV(rf, param_dist, n_iter=20, cv=5, scoring='f1', n_jobs=-1, random_state=42)\n",
    "rand_search.fit(X_train, y_train)\n",
    "\n",
    "\n",
    "\n",
    "best_rf = rand_search.best_estimator_\n"
   ]
  },
  {
   "cell_type": "code",
   "execution_count": 113,
   "id": "64aa0c8c",
   "metadata": {},
   "outputs": [
    {
     "name": "stdout",
     "output_type": "stream",
     "text": [
      "Best params: {'n_estimators': 200, 'min_samples_split': 10, 'min_samples_leaf': 1, 'max_features': 'sqrt', 'max_depth': 40}\n",
      "Best F1 score: 0.7341465863641365\n"
     ]
    }
   ],
   "source": [
    "print(\"Best params:\", rand_search.best_params_)\n",
    "print(\"Best F1 score:\", rand_search.best_score_)\n"
   ]
  },
  {
   "cell_type": "code",
   "execution_count": 114,
   "id": "be911743",
   "metadata": {},
   "outputs": [
    {
     "data": {
      "text/html": [
       "<style>#sk-container-id-2 {\n",
       "  /* Definition of color scheme common for light and dark mode */\n",
       "  --sklearn-color-text: #000;\n",
       "  --sklearn-color-text-muted: #666;\n",
       "  --sklearn-color-line: gray;\n",
       "  /* Definition of color scheme for unfitted estimators */\n",
       "  --sklearn-color-unfitted-level-0: #fff5e6;\n",
       "  --sklearn-color-unfitted-level-1: #f6e4d2;\n",
       "  --sklearn-color-unfitted-level-2: #ffe0b3;\n",
       "  --sklearn-color-unfitted-level-3: chocolate;\n",
       "  /* Definition of color scheme for fitted estimators */\n",
       "  --sklearn-color-fitted-level-0: #f0f8ff;\n",
       "  --sklearn-color-fitted-level-1: #d4ebff;\n",
       "  --sklearn-color-fitted-level-2: #b3dbfd;\n",
       "  --sklearn-color-fitted-level-3: cornflowerblue;\n",
       "\n",
       "  /* Specific color for light theme */\n",
       "  --sklearn-color-text-on-default-background: var(--sg-text-color, var(--theme-code-foreground, var(--jp-content-font-color1, black)));\n",
       "  --sklearn-color-background: var(--sg-background-color, var(--theme-background, var(--jp-layout-color0, white)));\n",
       "  --sklearn-color-border-box: var(--sg-text-color, var(--theme-code-foreground, var(--jp-content-font-color1, black)));\n",
       "  --sklearn-color-icon: #696969;\n",
       "\n",
       "  @media (prefers-color-scheme: dark) {\n",
       "    /* Redefinition of color scheme for dark theme */\n",
       "    --sklearn-color-text-on-default-background: var(--sg-text-color, var(--theme-code-foreground, var(--jp-content-font-color1, white)));\n",
       "    --sklearn-color-background: var(--sg-background-color, var(--theme-background, var(--jp-layout-color0, #111)));\n",
       "    --sklearn-color-border-box: var(--sg-text-color, var(--theme-code-foreground, var(--jp-content-font-color1, white)));\n",
       "    --sklearn-color-icon: #878787;\n",
       "  }\n",
       "}\n",
       "\n",
       "#sk-container-id-2 {\n",
       "  color: var(--sklearn-color-text);\n",
       "}\n",
       "\n",
       "#sk-container-id-2 pre {\n",
       "  padding: 0;\n",
       "}\n",
       "\n",
       "#sk-container-id-2 input.sk-hidden--visually {\n",
       "  border: 0;\n",
       "  clip: rect(1px 1px 1px 1px);\n",
       "  clip: rect(1px, 1px, 1px, 1px);\n",
       "  height: 1px;\n",
       "  margin: -1px;\n",
       "  overflow: hidden;\n",
       "  padding: 0;\n",
       "  position: absolute;\n",
       "  width: 1px;\n",
       "}\n",
       "\n",
       "#sk-container-id-2 div.sk-dashed-wrapped {\n",
       "  border: 1px dashed var(--sklearn-color-line);\n",
       "  margin: 0 0.4em 0.5em 0.4em;\n",
       "  box-sizing: border-box;\n",
       "  padding-bottom: 0.4em;\n",
       "  background-color: var(--sklearn-color-background);\n",
       "}\n",
       "\n",
       "#sk-container-id-2 div.sk-container {\n",
       "  /* jupyter's `normalize.less` sets `[hidden] { display: none; }`\n",
       "     but bootstrap.min.css set `[hidden] { display: none !important; }`\n",
       "     so we also need the `!important` here to be able to override the\n",
       "     default hidden behavior on the sphinx rendered scikit-learn.org.\n",
       "     See: https://github.com/scikit-learn/scikit-learn/issues/21755 */\n",
       "  display: inline-block !important;\n",
       "  position: relative;\n",
       "}\n",
       "\n",
       "#sk-container-id-2 div.sk-text-repr-fallback {\n",
       "  display: none;\n",
       "}\n",
       "\n",
       "div.sk-parallel-item,\n",
       "div.sk-serial,\n",
       "div.sk-item {\n",
       "  /* draw centered vertical line to link estimators */\n",
       "  background-image: linear-gradient(var(--sklearn-color-text-on-default-background), var(--sklearn-color-text-on-default-background));\n",
       "  background-size: 2px 100%;\n",
       "  background-repeat: no-repeat;\n",
       "  background-position: center center;\n",
       "}\n",
       "\n",
       "/* Parallel-specific style estimator block */\n",
       "\n",
       "#sk-container-id-2 div.sk-parallel-item::after {\n",
       "  content: \"\";\n",
       "  width: 100%;\n",
       "  border-bottom: 2px solid var(--sklearn-color-text-on-default-background);\n",
       "  flex-grow: 1;\n",
       "}\n",
       "\n",
       "#sk-container-id-2 div.sk-parallel {\n",
       "  display: flex;\n",
       "  align-items: stretch;\n",
       "  justify-content: center;\n",
       "  background-color: var(--sklearn-color-background);\n",
       "  position: relative;\n",
       "}\n",
       "\n",
       "#sk-container-id-2 div.sk-parallel-item {\n",
       "  display: flex;\n",
       "  flex-direction: column;\n",
       "}\n",
       "\n",
       "#sk-container-id-2 div.sk-parallel-item:first-child::after {\n",
       "  align-self: flex-end;\n",
       "  width: 50%;\n",
       "}\n",
       "\n",
       "#sk-container-id-2 div.sk-parallel-item:last-child::after {\n",
       "  align-self: flex-start;\n",
       "  width: 50%;\n",
       "}\n",
       "\n",
       "#sk-container-id-2 div.sk-parallel-item:only-child::after {\n",
       "  width: 0;\n",
       "}\n",
       "\n",
       "/* Serial-specific style estimator block */\n",
       "\n",
       "#sk-container-id-2 div.sk-serial {\n",
       "  display: flex;\n",
       "  flex-direction: column;\n",
       "  align-items: center;\n",
       "  background-color: var(--sklearn-color-background);\n",
       "  padding-right: 1em;\n",
       "  padding-left: 1em;\n",
       "}\n",
       "\n",
       "\n",
       "/* Toggleable style: style used for estimator/Pipeline/ColumnTransformer box that is\n",
       "clickable and can be expanded/collapsed.\n",
       "- Pipeline and ColumnTransformer use this feature and define the default style\n",
       "- Estimators will overwrite some part of the style using the `sk-estimator` class\n",
       "*/\n",
       "\n",
       "/* Pipeline and ColumnTransformer style (default) */\n",
       "\n",
       "#sk-container-id-2 div.sk-toggleable {\n",
       "  /* Default theme specific background. It is overwritten whether we have a\n",
       "  specific estimator or a Pipeline/ColumnTransformer */\n",
       "  background-color: var(--sklearn-color-background);\n",
       "}\n",
       "\n",
       "/* Toggleable label */\n",
       "#sk-container-id-2 label.sk-toggleable__label {\n",
       "  cursor: pointer;\n",
       "  display: flex;\n",
       "  width: 100%;\n",
       "  margin-bottom: 0;\n",
       "  padding: 0.5em;\n",
       "  box-sizing: border-box;\n",
       "  text-align: center;\n",
       "  align-items: start;\n",
       "  justify-content: space-between;\n",
       "  gap: 0.5em;\n",
       "}\n",
       "\n",
       "#sk-container-id-2 label.sk-toggleable__label .caption {\n",
       "  font-size: 0.6rem;\n",
       "  font-weight: lighter;\n",
       "  color: var(--sklearn-color-text-muted);\n",
       "}\n",
       "\n",
       "#sk-container-id-2 label.sk-toggleable__label-arrow:before {\n",
       "  /* Arrow on the left of the label */\n",
       "  content: \"▸\";\n",
       "  float: left;\n",
       "  margin-right: 0.25em;\n",
       "  color: var(--sklearn-color-icon);\n",
       "}\n",
       "\n",
       "#sk-container-id-2 label.sk-toggleable__label-arrow:hover:before {\n",
       "  color: var(--sklearn-color-text);\n",
       "}\n",
       "\n",
       "/* Toggleable content - dropdown */\n",
       "\n",
       "#sk-container-id-2 div.sk-toggleable__content {\n",
       "  max-height: 0;\n",
       "  max-width: 0;\n",
       "  overflow: hidden;\n",
       "  text-align: left;\n",
       "  /* unfitted */\n",
       "  background-color: var(--sklearn-color-unfitted-level-0);\n",
       "}\n",
       "\n",
       "#sk-container-id-2 div.sk-toggleable__content.fitted {\n",
       "  /* fitted */\n",
       "  background-color: var(--sklearn-color-fitted-level-0);\n",
       "}\n",
       "\n",
       "#sk-container-id-2 div.sk-toggleable__content pre {\n",
       "  margin: 0.2em;\n",
       "  border-radius: 0.25em;\n",
       "  color: var(--sklearn-color-text);\n",
       "  /* unfitted */\n",
       "  background-color: var(--sklearn-color-unfitted-level-0);\n",
       "}\n",
       "\n",
       "#sk-container-id-2 div.sk-toggleable__content.fitted pre {\n",
       "  /* unfitted */\n",
       "  background-color: var(--sklearn-color-fitted-level-0);\n",
       "}\n",
       "\n",
       "#sk-container-id-2 input.sk-toggleable__control:checked~div.sk-toggleable__content {\n",
       "  /* Expand drop-down */\n",
       "  max-height: 200px;\n",
       "  max-width: 100%;\n",
       "  overflow: auto;\n",
       "}\n",
       "\n",
       "#sk-container-id-2 input.sk-toggleable__control:checked~label.sk-toggleable__label-arrow:before {\n",
       "  content: \"▾\";\n",
       "}\n",
       "\n",
       "/* Pipeline/ColumnTransformer-specific style */\n",
       "\n",
       "#sk-container-id-2 div.sk-label input.sk-toggleable__control:checked~label.sk-toggleable__label {\n",
       "  color: var(--sklearn-color-text);\n",
       "  background-color: var(--sklearn-color-unfitted-level-2);\n",
       "}\n",
       "\n",
       "#sk-container-id-2 div.sk-label.fitted input.sk-toggleable__control:checked~label.sk-toggleable__label {\n",
       "  background-color: var(--sklearn-color-fitted-level-2);\n",
       "}\n",
       "\n",
       "/* Estimator-specific style */\n",
       "\n",
       "/* Colorize estimator box */\n",
       "#sk-container-id-2 div.sk-estimator input.sk-toggleable__control:checked~label.sk-toggleable__label {\n",
       "  /* unfitted */\n",
       "  background-color: var(--sklearn-color-unfitted-level-2);\n",
       "}\n",
       "\n",
       "#sk-container-id-2 div.sk-estimator.fitted input.sk-toggleable__control:checked~label.sk-toggleable__label {\n",
       "  /* fitted */\n",
       "  background-color: var(--sklearn-color-fitted-level-2);\n",
       "}\n",
       "\n",
       "#sk-container-id-2 div.sk-label label.sk-toggleable__label,\n",
       "#sk-container-id-2 div.sk-label label {\n",
       "  /* The background is the default theme color */\n",
       "  color: var(--sklearn-color-text-on-default-background);\n",
       "}\n",
       "\n",
       "/* On hover, darken the color of the background */\n",
       "#sk-container-id-2 div.sk-label:hover label.sk-toggleable__label {\n",
       "  color: var(--sklearn-color-text);\n",
       "  background-color: var(--sklearn-color-unfitted-level-2);\n",
       "}\n",
       "\n",
       "/* Label box, darken color on hover, fitted */\n",
       "#sk-container-id-2 div.sk-label.fitted:hover label.sk-toggleable__label.fitted {\n",
       "  color: var(--sklearn-color-text);\n",
       "  background-color: var(--sklearn-color-fitted-level-2);\n",
       "}\n",
       "\n",
       "/* Estimator label */\n",
       "\n",
       "#sk-container-id-2 div.sk-label label {\n",
       "  font-family: monospace;\n",
       "  font-weight: bold;\n",
       "  display: inline-block;\n",
       "  line-height: 1.2em;\n",
       "}\n",
       "\n",
       "#sk-container-id-2 div.sk-label-container {\n",
       "  text-align: center;\n",
       "}\n",
       "\n",
       "/* Estimator-specific */\n",
       "#sk-container-id-2 div.sk-estimator {\n",
       "  font-family: monospace;\n",
       "  border: 1px dotted var(--sklearn-color-border-box);\n",
       "  border-radius: 0.25em;\n",
       "  box-sizing: border-box;\n",
       "  margin-bottom: 0.5em;\n",
       "  /* unfitted */\n",
       "  background-color: var(--sklearn-color-unfitted-level-0);\n",
       "}\n",
       "\n",
       "#sk-container-id-2 div.sk-estimator.fitted {\n",
       "  /* fitted */\n",
       "  background-color: var(--sklearn-color-fitted-level-0);\n",
       "}\n",
       "\n",
       "/* on hover */\n",
       "#sk-container-id-2 div.sk-estimator:hover {\n",
       "  /* unfitted */\n",
       "  background-color: var(--sklearn-color-unfitted-level-2);\n",
       "}\n",
       "\n",
       "#sk-container-id-2 div.sk-estimator.fitted:hover {\n",
       "  /* fitted */\n",
       "  background-color: var(--sklearn-color-fitted-level-2);\n",
       "}\n",
       "\n",
       "/* Specification for estimator info (e.g. \"i\" and \"?\") */\n",
       "\n",
       "/* Common style for \"i\" and \"?\" */\n",
       "\n",
       ".sk-estimator-doc-link,\n",
       "a:link.sk-estimator-doc-link,\n",
       "a:visited.sk-estimator-doc-link {\n",
       "  float: right;\n",
       "  font-size: smaller;\n",
       "  line-height: 1em;\n",
       "  font-family: monospace;\n",
       "  background-color: var(--sklearn-color-background);\n",
       "  border-radius: 1em;\n",
       "  height: 1em;\n",
       "  width: 1em;\n",
       "  text-decoration: none !important;\n",
       "  margin-left: 0.5em;\n",
       "  text-align: center;\n",
       "  /* unfitted */\n",
       "  border: var(--sklearn-color-unfitted-level-1) 1pt solid;\n",
       "  color: var(--sklearn-color-unfitted-level-1);\n",
       "}\n",
       "\n",
       ".sk-estimator-doc-link.fitted,\n",
       "a:link.sk-estimator-doc-link.fitted,\n",
       "a:visited.sk-estimator-doc-link.fitted {\n",
       "  /* fitted */\n",
       "  border: var(--sklearn-color-fitted-level-1) 1pt solid;\n",
       "  color: var(--sklearn-color-fitted-level-1);\n",
       "}\n",
       "\n",
       "/* On hover */\n",
       "div.sk-estimator:hover .sk-estimator-doc-link:hover,\n",
       ".sk-estimator-doc-link:hover,\n",
       "div.sk-label-container:hover .sk-estimator-doc-link:hover,\n",
       ".sk-estimator-doc-link:hover {\n",
       "  /* unfitted */\n",
       "  background-color: var(--sklearn-color-unfitted-level-3);\n",
       "  color: var(--sklearn-color-background);\n",
       "  text-decoration: none;\n",
       "}\n",
       "\n",
       "div.sk-estimator.fitted:hover .sk-estimator-doc-link.fitted:hover,\n",
       ".sk-estimator-doc-link.fitted:hover,\n",
       "div.sk-label-container:hover .sk-estimator-doc-link.fitted:hover,\n",
       ".sk-estimator-doc-link.fitted:hover {\n",
       "  /* fitted */\n",
       "  background-color: var(--sklearn-color-fitted-level-3);\n",
       "  color: var(--sklearn-color-background);\n",
       "  text-decoration: none;\n",
       "}\n",
       "\n",
       "/* Span, style for the box shown on hovering the info icon */\n",
       ".sk-estimator-doc-link span {\n",
       "  display: none;\n",
       "  z-index: 9999;\n",
       "  position: relative;\n",
       "  font-weight: normal;\n",
       "  right: .2ex;\n",
       "  padding: .5ex;\n",
       "  margin: .5ex;\n",
       "  width: min-content;\n",
       "  min-width: 20ex;\n",
       "  max-width: 50ex;\n",
       "  color: var(--sklearn-color-text);\n",
       "  box-shadow: 2pt 2pt 4pt #999;\n",
       "  /* unfitted */\n",
       "  background: var(--sklearn-color-unfitted-level-0);\n",
       "  border: .5pt solid var(--sklearn-color-unfitted-level-3);\n",
       "}\n",
       "\n",
       ".sk-estimator-doc-link.fitted span {\n",
       "  /* fitted */\n",
       "  background: var(--sklearn-color-fitted-level-0);\n",
       "  border: var(--sklearn-color-fitted-level-3);\n",
       "}\n",
       "\n",
       ".sk-estimator-doc-link:hover span {\n",
       "  display: block;\n",
       "}\n",
       "\n",
       "/* \"?\"-specific style due to the `<a>` HTML tag */\n",
       "\n",
       "#sk-container-id-2 a.estimator_doc_link {\n",
       "  float: right;\n",
       "  font-size: 1rem;\n",
       "  line-height: 1em;\n",
       "  font-family: monospace;\n",
       "  background-color: var(--sklearn-color-background);\n",
       "  border-radius: 1rem;\n",
       "  height: 1rem;\n",
       "  width: 1rem;\n",
       "  text-decoration: none;\n",
       "  /* unfitted */\n",
       "  color: var(--sklearn-color-unfitted-level-1);\n",
       "  border: var(--sklearn-color-unfitted-level-1) 1pt solid;\n",
       "}\n",
       "\n",
       "#sk-container-id-2 a.estimator_doc_link.fitted {\n",
       "  /* fitted */\n",
       "  border: var(--sklearn-color-fitted-level-1) 1pt solid;\n",
       "  color: var(--sklearn-color-fitted-level-1);\n",
       "}\n",
       "\n",
       "/* On hover */\n",
       "#sk-container-id-2 a.estimator_doc_link:hover {\n",
       "  /* unfitted */\n",
       "  background-color: var(--sklearn-color-unfitted-level-3);\n",
       "  color: var(--sklearn-color-background);\n",
       "  text-decoration: none;\n",
       "}\n",
       "\n",
       "#sk-container-id-2 a.estimator_doc_link.fitted:hover {\n",
       "  /* fitted */\n",
       "  background-color: var(--sklearn-color-fitted-level-3);\n",
       "}\n",
       "</style><div id=\"sk-container-id-2\" class=\"sk-top-container\"><div class=\"sk-text-repr-fallback\"><pre>RandomForestClassifier(class_weight=&#x27;balanced&#x27;, max_depth=40,\n",
       "                       min_samples_split=10, n_estimators=200, random_state=42)</pre><b>In a Jupyter environment, please rerun this cell to show the HTML representation or trust the notebook. <br />On GitHub, the HTML representation is unable to render, please try loading this page with nbviewer.org.</b></div><div class=\"sk-container\" hidden><div class=\"sk-item\"><div class=\"sk-estimator fitted sk-toggleable\"><input class=\"sk-toggleable__control sk-hidden--visually\" id=\"sk-estimator-id-2\" type=\"checkbox\" checked><label for=\"sk-estimator-id-2\" class=\"sk-toggleable__label fitted sk-toggleable__label-arrow\"><div><div>RandomForestClassifier</div></div><div><a class=\"sk-estimator-doc-link fitted\" rel=\"noreferrer\" target=\"_blank\" href=\"https://scikit-learn.org/1.6/modules/generated/sklearn.ensemble.RandomForestClassifier.html\">?<span>Documentation for RandomForestClassifier</span></a><span class=\"sk-estimator-doc-link fitted\">i<span>Fitted</span></span></div></label><div class=\"sk-toggleable__content fitted\"><pre>RandomForestClassifier(class_weight=&#x27;balanced&#x27;, max_depth=40,\n",
       "                       min_samples_split=10, n_estimators=200, random_state=42)</pre></div> </div></div></div></div>"
      ],
      "text/plain": [
       "RandomForestClassifier(class_weight='balanced', max_depth=40,\n",
       "                       min_samples_split=10, n_estimators=200, random_state=42)"
      ]
     },
     "execution_count": 114,
     "metadata": {},
     "output_type": "execute_result"
    }
   ],
   "source": [
    "\n",
    "best_rf = rand_search.best_estimator_\n",
    "best_rf"
   ]
  },
  {
   "cell_type": "code",
   "execution_count": 115,
   "id": "dcb2cdd3",
   "metadata": {},
   "outputs": [],
   "source": [
    "y_pred_rf_cv=best_rf.predict(X_test)"
   ]
  },
  {
   "cell_type": "code",
   "execution_count": 116,
   "id": "17e524a4",
   "metadata": {},
   "outputs": [],
   "source": [
    "acc_rfcv=accuracy_score(y_test,y_pred_rf_cv)\n",
    "prec_rfcv=precision_score(y_test,y_pred_rf_cv)\n",
    "recall_rfcv=recall_score(y_test,y_pred_rf_cv)\n",
    "f1_rfcv=f1_score(y_test,y_pred_rf_cv)\n",
    "class_report_rfcv=classification_report(y_test,y_pred_rf_cv)"
   ]
  },
  {
   "cell_type": "code",
   "execution_count": 117,
   "id": "b021d7cc",
   "metadata": {},
   "outputs": [
    {
     "name": "stdout",
     "output_type": "stream",
     "text": [
      "0.627677100494234\n",
      "0.7650429799426934\n",
      "0.6496350364963503\n",
      "0.7026315789473684\n",
      "              precision    recall  f1-score   support\n",
      "\n",
      "           0       0.44      0.58      0.50       196\n",
      "           1       0.77      0.65      0.70       411\n",
      "\n",
      "    accuracy                           0.63       607\n",
      "   macro avg       0.60      0.62      0.60       607\n",
      "weighted avg       0.66      0.63      0.64       607\n",
      "\n"
     ]
    }
   ],
   "source": [
    "print(acc_rfcv)\n",
    "print(prec_rfcv)\n",
    "print(recall_rfcv)\n",
    "print(f1_rfcv)\n",
    "print(class_report_rfcv)"
   ]
  },
  {
   "cell_type": "markdown",
   "id": "d493d600",
   "metadata": {},
   "source": [
    "Even though Logistic Regression has higher class 1 recall, your real-world use case (e.g., predicting if a startup won't get funded) needs both classes to be handled well.\n",
    "\n",
    "-So balanced RandomForestClassifier might be best method so solve the problem\n"
   ]
  },
  {
   "cell_type": "code",
   "execution_count": 118,
   "id": "18de4649",
   "metadata": {},
   "outputs": [
    {
     "data": {
      "text/plain": [
       "Text(0.5, 1.0, 'confusion matrix - random forest')"
      ]
     },
     "execution_count": 118,
     "metadata": {},
     "output_type": "execute_result"
    },
    {
     "data": {
      "image/png": "[encoded data removed]",
      "text/plain": [
       "<Figure size 640x480 with 2 Axes>"
      ]
     },
     "metadata": {},
     "output_type": "display_data"
    }
   ],
   "source": [
    "from sklearn.metrics import ConfusionMatrixDisplay\n",
    "cm=confusion_matrix(y_test,y_pred_rf_cv)\n",
    "disp=ConfusionMatrixDisplay(confusion_matrix=cm, display_labels=best_rf.classes_)\n",
    "disp.plot(cmap='Blues')\n",
    "plt.title('confusion matrix - random forest')"
   ]
  },
  {
   "cell_type": "code",
   "execution_count": 119,
   "id": "30412bec",
   "metadata": {},
   "outputs": [
    {
     "data": {
      "text/plain": [
       "Text(0, 0.5, 'True Positive Rate')"
      ]
     },
     "execution_count": 119,
     "metadata": {},
     "output_type": "execute_result"
    },
    {
     "data": {
      "image/png": "[encoded data removed]",
      "text/plain": [
       "<Figure size 640x480 with 1 Axes>"
      ]
     },
     "metadata": {},
     "output_type": "display_data"
    }
   ],
   "source": [
    "from sklearn.metrics import roc_curve, auc\n",
    "\n",
    "y_probs = best_rf.predict_proba(X_test)[:, 1]  # Probability for class 1\n",
    "fpr, tpr, _ = roc_curve(y_test, y_probs)\n",
    "roc_auc = auc(fpr, tpr)\n",
    "\n",
    "plt.figure()\n",
    "plt.plot(fpr, tpr, color='darkorange', lw=2, label=f'ROC Curve (AUC = {roc_auc:.2f})')\n",
    "plt.plot([0, 1], [0, 1], color='navy', lw=2, linestyle='--', label='Chance Level (AUC = 0.5)')\n",
    "plt.xlabel('False Positive Rate')\n",
    "plt.ylabel('True Positive Rate')"
   ]
  },
  {
   "cell_type": "code",
   "execution_count": 120,
   "id": "1fdb1288",
   "metadata": {},
   "outputs": [
    {
     "data": {
      "text/plain": [
       "np.float64(0.6514970951884403)"
      ]
     },
     "execution_count": 120,
     "metadata": {},
     "output_type": "execute_result"
    }
   ],
   "source": [
    "roc_auc"
   ]
  },
  {
   "cell_type": "code",
   "execution_count": 121,
   "id": "86820b27",
   "metadata": {},
   "outputs": [],
   "source": [
    "#ROC — Receiver Operating Characteristic curve\n",
    "#AUC — Area Under the ROC Curve (0-1)\n",
    "\n",
    "#auc finds the area under the curve\n",
    "#The auc value is 0.65 fair but not good\n",
    "#smote method can be used to identify more on the model building part"
   ]
  },
  {
   "cell_type": "markdown",
   "id": "fb5d0102",
   "metadata": {},
   "source": [
    "Save model using joblib"
   ]
  },
  {
   "cell_type": "code",
   "execution_count": 122,
   "id": "7198da87",
   "metadata": {},
   "outputs": [
    {
     "data": {
      "text/plain": [
       "['startup_rf.pkl']"
      ]
     },
     "execution_count": 122,
     "metadata": {},
     "output_type": "execute_result"
    }
   ],
   "source": [
    "import joblib\n",
    "\n",
    "joblib.dump(best_rf,'startup_rf.pkl')"
   ]
  },
  {
   "cell_type": "markdown",
   "id": "7ba41356",
   "metadata": {},
   "source": [
    "lets make it representable using streamlit"
   ]
  },
  {
   "cell_type": "code",
   "execution_count": 123,
   "id": "51f67a48",
   "metadata": {},
   "outputs": [
    {
     "name": "stdout",
     "output_type": "stream",
     "text": [
      "<class 'pandas.core.frame.DataFrame'>\n",
      "RangeIndex: 3044 entries, 0 to 3043\n",
      "Data columns (total 11 columns):\n",
      " #   Column                     Non-Null Count  Dtype         \n",
      "---  ------                     --------------  -----         \n",
      " 0   Date                       3036 non-null   datetime64[ns]\n",
      " 1   Startup Name               3044 non-null   object        \n",
      " 2   SubVertical                3044 non-null   object        \n",
      " 3   City                       3044 non-null   object        \n",
      " 4   Amount                     2065 non-null   float64       \n",
      " 5   is_funded                  3044 non-null   int64         \n",
      " 6   Year                       3036 non-null   Int64         \n",
      " 7   Month                      3036 non-null   Int64         \n",
      " 8   Industry Vertical Cleaned  3044 non-null   object        \n",
      " 9   InvestmentType_Cleaned     3044 non-null   object        \n",
      " 10  Investors_Cleaned          3044 non-null   object        \n",
      "dtypes: Int64(2), datetime64[ns](1), float64(1), int64(1), object(6)\n",
      "memory usage: 267.7+ KB\n"
     ]
    }
   ],
   "source": [
    "df.info()"
   ]
  },
  {
   "cell_type": "code",
   "execution_count": 124,
   "id": "4fe5fb58",
   "metadata": {},
   "outputs": [
    {
     "name": "stdout",
     "output_type": "stream",
     "text": [
      "Requirement already satisfied: streamlit in c:\\users\\admin\\desktop\\madhu\\udemyproject\\passwordstrength\\drive-download-20250514t024323z-1-001\\venv\\lib\\site-packages (1.45.1)\n",
      "Requirement already satisfied: toml<2,>=0.10.1 in c:\\users\\admin\\desktop\\madhu\\udemyproject\\passwordstrength\\drive-download-20250514t024323z-1-001\\venv\\lib\\site-packages (from streamlit) (0.10.2)\n",
      "Requirement already satisfied: gitpython!=3.1.19,<4,>=3.0.7 in c:\\users\\admin\\desktop\\madhu\\udemyproject\\passwordstrength\\drive-download-20250514t024323z-1-001\\venv\\lib\\site-packages (from streamlit) (3.1.44)\n",
      "Requirement already satisfied: pydeck<1,>=0.8.0b4 in c:\\users\\admin\\desktop\\madhu\\udemyproject\\passwordstrength\\drive-download-20250514t024323z-1-001\\venv\\lib\\site-packages (from streamlit) (0.9.1)\n",
      "Requirement already satisfied: altair<6,>=4.0 in c:\\users\\admin\\desktop\\madhu\\udemyproject\\passwordstrength\\drive-download-20250514t024323z-1-001\\venv\\lib\\site-packages (from streamlit) (5.5.0)\n",
      "Requirement already satisfied: pillow<12,>=7.1.0 in c:\\users\\admin\\desktop\\madhu\\udemyproject\\passwordstrength\\drive-download-20250514t024323z-1-001\\venv\\lib\\site-packages (from streamlit) (11.2.1)\n",
      "Requirement already satisfied: cachetools<6,>=4.0 in c:\\users\\admin\\desktop\\madhu\\udemyproject\\passwordstrength\\drive-download-20250514t024323z-1-001\\venv\\lib\\site-packages (from streamlit) (5.5.2)\n",
      "Requirement already satisfied: pyarrow>=7.0 in c:\\users\\admin\\desktop\\madhu\\udemyproject\\passwordstrength\\drive-download-20250514t024323z-1-001\\venv\\lib\\site-packages (from streamlit) (20.0.0)\n",
      "Requirement already satisfied: watchdog<7,>=2.1.5 in c:\\users\\admin\\desktop\\madhu\\udemyproject\\passwordstrength\\drive-download-20250514t024323z-1-001\\venv\\lib\\site-packages (from streamlit) (6.0.0)\n",
      "Requirement already satisfied: blinker<2,>=1.5.0 in c:\\users\\admin\\desktop\\madhu\\udemyproject\\passwordstrength\\drive-download-20250514t024323z-1-001\\venv\\lib\\site-packages (from streamlit) (1.9.0)\n",
      "Requirement already satisfied: numpy<3,>=1.23 in c:\\users\\admin\\desktop\\madhu\\udemyproject\\passwordstrength\\drive-download-20250514t024323z-1-001\\venv\\lib\\site-packages (from streamlit) (2.2.6)\n",
      "Requirement already satisfied: click<9,>=7.0 in c:\\users\\admin\\desktop\\madhu\\udemyproject\\passwordstrength\\drive-download-20250514t024323z-1-001\\venv\\lib\\site-packages (from streamlit) (8.2.1)\n",
      "Requirement already satisfied: pandas<3,>=1.4.0 in c:\\users\\admin\\desktop\\madhu\\udemyproject\\passwordstrength\\drive-download-20250514t024323z-1-001\\venv\\lib\\site-packages (from streamlit) (2.2.3)\n",
      "Requirement already satisfied: tenacity<10,>=8.1.0 in c:\\users\\admin\\desktop\\madhu\\udemyproject\\passwordstrength\\drive-download-20250514t024323z-1-001\\venv\\lib\\site-packages (from streamlit) (9.1.2)\n",
      "Requirement already satisfied: typing-extensions<5,>=4.4.0 in c:\\users\\admin\\desktop\\madhu\\udemyproject\\passwordstrength\\drive-download-20250514t024323z-1-001\\venv\\lib\\site-packages (from streamlit) (4.13.2)\n",
      "Requirement already satisfied: packaging<25,>=20 in c:\\users\\admin\\desktop\\madhu\\udemyproject\\passwordstrength\\drive-download-20250514t024323z-1-001\\venv\\lib\\site-packages (from streamlit) (24.2)\n",
      "Requirement already satisfied: protobuf<7,>=3.20 in c:\\users\\admin\\desktop\\madhu\\udemyproject\\passwordstrength\\drive-download-20250514t024323z-1-001\\venv\\lib\\site-packages (from streamlit) (6.31.1)\n",
      "Requirement already satisfied: requests<3,>=2.27 in c:\\users\\admin\\desktop\\madhu\\udemyproject\\passwordstrength\\drive-download-20250514t024323z-1-001\\venv\\lib\\site-packages (from streamlit) (2.32.3)\n",
      "Requirement already satisfied: tornado<7,>=6.0.3 in c:\\users\\admin\\desktop\\madhu\\udemyproject\\passwordstrength\\drive-download-20250514t024323z-1-001\\venv\\lib\\site-packages (from streamlit) (6.5.1)\n",
      "Requirement already satisfied: jinja2 in c:\\users\\admin\\desktop\\madhu\\udemyproject\\passwordstrength\\drive-download-20250514t024323z-1-001\\venv\\lib\\site-packages (from altair<6,>=4.0->streamlit) (3.1.6)\n",
      "Requirement already satisfied: narwhals>=1.14.2 in c:\\users\\admin\\desktop\\madhu\\udemyproject\\passwordstrength\\drive-download-20250514t024323z-1-001\\venv\\lib\\site-packages (from altair<6,>=4.0->streamlit) (1.41.1)\n",
      "Requirement already satisfied: jsonschema>=3.0 in c:\\users\\admin\\desktop\\madhu\\udemyproject\\passwordstrength\\drive-download-20250514t024323z-1-001\\venv\\lib\\site-packages (from altair<6,>=4.0->streamlit) (4.24.0)\n",
      "Requirement already satisfied: colorama in c:\\users\\admin\\desktop\\madhu\\udemyproject\\passwordstrength\\drive-download-20250514t024323z-1-001\\venv\\lib\\site-packages (from click<9,>=7.0->streamlit) (0.4.6)\n",
      "Requirement already satisfied: gitdb<5,>=4.0.1 in c:\\users\\admin\\desktop\\madhu\\udemyproject\\passwordstrength\\drive-download-20250514t024323z-1-001\\venv\\lib\\site-packages (from gitpython!=3.1.19,<4,>=3.0.7->streamlit) (4.0.12)\n",
      "Requirement already satisfied: smmap<6,>=3.0.1 in c:\\users\\admin\\desktop\\madhu\\udemyproject\\passwordstrength\\drive-download-20250514t024323z-1-001\\venv\\lib\\site-packages (from gitdb<5,>=4.0.1->gitpython!=3.1.19,<4,>=3.0.7->streamlit) (5.0.2)\n",
      "Requirement already satisfied: attrs>=22.2.0 in c:\\users\\admin\\desktop\\madhu\\udemyproject\\passwordstrength\\drive-download-20250514t024323z-1-001\\venv\\lib\\site-packages (from jsonschema>=3.0->altair<6,>=4.0->streamlit) (25.3.0)\n",
      "Requirement already satisfied: referencing>=0.28.4 in c:\\users\\admin\\desktop\\madhu\\udemyproject\\passwordstrength\\drive-download-20250514t024323z-1-001\\venv\\lib\\site-packages (from jsonschema>=3.0->altair<6,>=4.0->streamlit) (0.36.2)\n",
      "Requirement already satisfied: rpds-py>=0.7.1 in c:\\users\\admin\\desktop\\madhu\\udemyproject\\passwordstrength\\drive-download-20250514t024323z-1-001\\venv\\lib\\site-packages (from jsonschema>=3.0->altair<6,>=4.0->streamlit) (0.25.1)\n",
      "Requirement already satisfied: jsonschema-specifications>=2023.03.6 in c:\\users\\admin\\desktop\\madhu\\udemyproject\\passwordstrength\\drive-download-20250514t024323z-1-001\\venv\\lib\\site-packages (from jsonschema>=3.0->altair<6,>=4.0->streamlit) (2025.4.1)\n",
      "Requirement already satisfied: tzdata>=2022.7 in c:\\users\\admin\\desktop\\madhu\\udemyproject\\passwordstrength\\drive-download-20250514t024323z-1-001\\venv\\lib\\site-packages (from pandas<3,>=1.4.0->streamlit) (2025.2)\n",
      "Requirement already satisfied: pytz>=2020.1 in c:\\users\\admin\\desktop\\madhu\\udemyproject\\passwordstrength\\drive-download-20250514t024323z-1-001\\venv\\lib\\site-packages (from pandas<3,>=1.4.0->streamlit) (2025.2)\n",
      "Requirement already satisfied: python-dateutil>=2.8.2 in c:\\users\\admin\\desktop\\madhu\\udemyproject\\passwordstrength\\drive-download-20250514t024323z-1-001\\venv\\lib\\site-packages (from pandas<3,>=1.4.0->streamlit) (2.9.0.post0)\n",
      "Requirement already satisfied: MarkupSafe>=2.0 in c:\\users\\admin\\desktop\\madhu\\udemyproject\\passwordstrength\\drive-download-20250514t024323z-1-001\\venv\\lib\\site-packages (from jinja2->altair<6,>=4.0->streamlit) (3.0.2)\n",
      "Requirement already satisfied: six>=1.5 in c:\\users\\admin\\desktop\\madhu\\udemyproject\\passwordstrength\\drive-download-20250514t024323z-1-001\\venv\\lib\\site-packages (from python-dateutil>=2.8.2->pandas<3,>=1.4.0->streamlit) (1.17.0)\n",
      "Requirement already satisfied: certifi>=2017.4.17 in c:\\users\\admin\\desktop\\madhu\\udemyproject\\passwordstrength\\drive-download-20250514t024323z-1-001\\venv\\lib\\site-packages (from requests<3,>=2.27->streamlit) (2025.4.26)\n",
      "Requirement already satisfied: urllib3<3,>=1.21.1 in c:\\users\\admin\\desktop\\madhu\\udemyproject\\passwordstrength\\drive-download-20250514t024323z-1-001\\venv\\lib\\site-packages (from requests<3,>=2.27->streamlit) (2.4.0)\n",
      "Requirement already satisfied: charset-normalizer<4,>=2 in c:\\users\\admin\\desktop\\madhu\\udemyproject\\passwordstrength\\drive-download-20250514t024323z-1-001\\venv\\lib\\site-packages (from requests<3,>=2.27->streamlit) (3.4.2)\n",
      "Requirement already satisfied: idna<4,>=2.5 in c:\\users\\admin\\desktop\\madhu\\udemyproject\\passwordstrength\\drive-download-20250514t024323z-1-001\\venv\\lib\\site-packages (from requests<3,>=2.27->streamlit) (3.10)\n"
     ]
    },
    {
     "name": "stderr",
     "output_type": "stream",
     "text": [
      "WARNING: You are using pip version 21.2.3; however, version 25.1.1 is available.\n",
      "You should consider upgrading via the 'C:\\Users\\Admin\\Desktop\\Madhu\\udemyproject\\passwordstrength\\drive-download-20250514T024323Z-1-001\\venv\\Scripts\\python.exe -m pip install --upgrade pip' command.\n"
     ]
    }
   ],
   "source": [
    "!pip install streamlit"
   ]
  },
  {
   "cell_type": "code",
   "execution_count": 125,
   "id": "8cf385a2",
   "metadata": {},
   "outputs": [],
   "source": [
    "df.to_csv('startup_cleaned.csv',index=False)"
   ]
  },
  {
   "cell_type": "code",
   "execution_count": 126,
   "id": "abf60b2d",
   "metadata": {},
   "outputs": [],
   "source": [
    "subvertical_options = df['SubVertical'].unique().tolist()\n",
    "city_options = df['City'].unique().tolist()\n",
    "industry_options = df['Industry Vertical Cleaned'].unique().tolist()\n",
    "investment_type_options = df['InvestmentType_Cleaned'].unique().tolist()\n"
   ]
  },
  {
   "cell_type": "markdown",
   "id": "bc6d1a74",
   "metadata": {},
   "source": [
    "Use SMOTE "
   ]
  },
  {
   "cell_type": "code",
   "execution_count": 129,
   "id": "bcbdfa33",
   "metadata": {},
   "outputs": [
    {
     "name": "stdout",
     "output_type": "stream",
     "text": [
      "Collecting imbalanced-learn\n",
      "  Using cached imbalanced_learn-0.13.0-py3-none-any.whl (238 kB)\n",
      "Requirement already satisfied: scikit-learn<2,>=1.3.2 in c:\\users\\admin\\desktop\\madhu\\udemyproject\\passwordstrength\\drive-download-20250514t024323z-1-001\\venv\\lib\\site-packages (from imbalanced-learn) (1.6.1)\n",
      "Collecting sklearn-compat<1,>=0.1\n",
      "  Using cached sklearn_compat-0.1.3-py3-none-any.whl (18 kB)\n",
      "Requirement already satisfied: threadpoolctl<4,>=2.0.0 in c:\\users\\admin\\desktop\\madhu\\udemyproject\\passwordstrength\\drive-download-20250514t024323z-1-001\\venv\\lib\\site-packages (from imbalanced-learn) (3.6.0)\n",
      "Requirement already satisfied: numpy<3,>=1.24.3 in c:\\users\\admin\\desktop\\madhu\\udemyproject\\passwordstrength\\drive-download-20250514t024323z-1-001\\venv\\lib\\site-packages (from imbalanced-learn) (2.2.6)\n",
      "Requirement already satisfied: joblib<2,>=1.1.1 in c:\\users\\admin\\desktop\\madhu\\udemyproject\\passwordstrength\\drive-download-20250514t024323z-1-001\\venv\\lib\\site-packages (from imbalanced-learn) (1.5.1)\n",
      "Requirement already satisfied: scipy<2,>=1.10.1 in c:\\users\\admin\\desktop\\madhu\\udemyproject\\passwordstrength\\drive-download-20250514t024323z-1-001\\venv\\lib\\site-packages (from imbalanced-learn) (1.15.3)\n",
      "Installing collected packages: sklearn-compat, imbalanced-learn\n",
      "Successfully installed imbalanced-learn-0.13.0 sklearn-compat-0.1.3\n"
     ]
    },
    {
     "name": "stderr",
     "output_type": "stream",
     "text": [
      "WARNING: You are using pip version 21.2.3; however, version 25.1.1 is available.\n",
      "You should consider upgrading via the 'C:\\Users\\Admin\\Desktop\\Madhu\\udemyproject\\passwordstrength\\drive-download-20250514T024323Z-1-001\\venv\\Scripts\\python.exe -m pip install --upgrade pip' command.\n"
     ]
    }
   ],
   "source": [
    "!pip install imbalanced-learn"
   ]
  },
  {
   "cell_type": "code",
   "execution_count": 131,
   "id": "4d1aa9f4",
   "metadata": {},
   "outputs": [
    {
     "data": {
      "text/plain": [
       "Year                                               6\n",
       "Month                                              6\n",
       "Industry Vertical Cleaned_media & entertainment    0\n",
       "Industry Vertical Cleaned_logistics                0\n",
       "SubVertical_AI based Fashion Search Portal         0\n",
       "dtype: int64"
      ]
     },
     "execution_count": 131,
     "metadata": {},
     "output_type": "execute_result"
    }
   ],
   "source": [
    "X_train.isnull().sum().sort_values(ascending=False).head()\n"
   ]
  },
  {
   "cell_type": "code",
   "execution_count": 132,
   "id": "09700047",
   "metadata": {},
   "outputs": [],
   "source": [
    "from sklearn.impute import SimpleImputer\n",
    "\n",
    "# Impute year and month only\n",
    "imputer = SimpleImputer(strategy='most_frequent')\n",
    "\n",
    "# Make sure you're only imputing year and month\n",
    "X_train[['Year', 'Month']] = imputer.fit_transform(X_train[['Year', 'Month']])\n"
   ]
  },
  {
   "cell_type": "code",
   "execution_count": 133,
   "id": "b09cf913",
   "metadata": {},
   "outputs": [
    {
     "data": {
      "text/plain": [
       "InvestmentType_Cleaned_Venture                                    0\n",
       "Year                                                              0\n",
       "Month                                                             0\n",
       "SubVertical_3D Printing Solutions for Edu space                   0\n",
       "SubVertical_3D printed experimental Human Liver tissue creator    0\n",
       "dtype: int64"
      ]
     },
     "execution_count": 133,
     "metadata": {},
     "output_type": "execute_result"
    }
   ],
   "source": [
    "X_train.isnull().sum().sort_values(ascending=False).head()\n"
   ]
  },
  {
   "cell_type": "code",
   "execution_count": 136,
   "id": "8d17eba4",
   "metadata": {},
   "outputs": [],
   "source": [
    "X_train = pd.DataFrame(imputer.fit_transform(X_train), columns=X_train.columns)\n"
   ]
  },
  {
   "cell_type": "code",
   "execution_count": 137,
   "id": "8a8b8712",
   "metadata": {},
   "outputs": [],
   "source": [
    "from imblearn.over_sampling import SMOTE\n",
    "\n",
    "smote = SMOTE(random_state=42)\n",
    "X_train_smote, y_train_smote = smote.fit_resample(X_train, y_train)\n"
   ]
  },
  {
   "cell_type": "code",
   "execution_count": 138,
   "id": "53b33970",
   "metadata": {},
   "outputs": [],
   "source": [
    "X_test_imputed = imputer.transform(X_test)\n",
    "X_test = pd.DataFrame(X_test_imputed, columns=X_test.columns)\n"
   ]
  },
  {
   "cell_type": "code",
   "execution_count": 139,
   "id": "1fbfcbf1",
   "metadata": {},
   "outputs": [
    {
     "data": {
      "text/html": [
       "<style>#sk-container-id-3 {\n",
       "  /* Definition of color scheme common for light and dark mode */\n",
       "  --sklearn-color-text: #000;\n",
       "  --sklearn-color-text-muted: #666;\n",
       "  --sklearn-color-line: gray;\n",
       "  /* Definition of color scheme for unfitted estimators */\n",
       "  --sklearn-color-unfitted-level-0: #fff5e6;\n",
       "  --sklearn-color-unfitted-level-1: #f6e4d2;\n",
       "  --sklearn-color-unfitted-level-2: #ffe0b3;\n",
       "  --sklearn-color-unfitted-level-3: chocolate;\n",
       "  /* Definition of color scheme for fitted estimators */\n",
       "  --sklearn-color-fitted-level-0: #f0f8ff;\n",
       "  --sklearn-color-fitted-level-1: #d4ebff;\n",
       "  --sklearn-color-fitted-level-2: #b3dbfd;\n",
       "  --sklearn-color-fitted-level-3: cornflowerblue;\n",
       "\n",
       "  /* Specific color for light theme */\n",
       "  --sklearn-color-text-on-default-background: var(--sg-text-color, var(--theme-code-foreground, var(--jp-content-font-color1, black)));\n",
       "  --sklearn-color-background: var(--sg-background-color, var(--theme-background, var(--jp-layout-color0, white)));\n",
       "  --sklearn-color-border-box: var(--sg-text-color, var(--theme-code-foreground, var(--jp-content-font-color1, black)));\n",
       "  --sklearn-color-icon: #696969;\n",
       "\n",
       "  @media (prefers-color-scheme: dark) {\n",
       "    /* Redefinition of color scheme for dark theme */\n",
       "    --sklearn-color-text-on-default-background: var(--sg-text-color, var(--theme-code-foreground, var(--jp-content-font-color1, white)));\n",
       "    --sklearn-color-background: var(--sg-background-color, var(--theme-background, var(--jp-layout-color0, #111)));\n",
       "    --sklearn-color-border-box: var(--sg-text-color, var(--theme-code-foreground, var(--jp-content-font-color1, white)));\n",
       "    --sklearn-color-icon: #878787;\n",
       "  }\n",
       "}\n",
       "\n",
       "#sk-container-id-3 {\n",
       "  color: var(--sklearn-color-text);\n",
       "}\n",
       "\n",
       "#sk-container-id-3 pre {\n",
       "  padding: 0;\n",
       "}\n",
       "\n",
       "#sk-container-id-3 input.sk-hidden--visually {\n",
       "  border: 0;\n",
       "  clip: rect(1px 1px 1px 1px);\n",
       "  clip: rect(1px, 1px, 1px, 1px);\n",
       "  height: 1px;\n",
       "  margin: -1px;\n",
       "  overflow: hidden;\n",
       "  padding: 0;\n",
       "  position: absolute;\n",
       "  width: 1px;\n",
       "}\n",
       "\n",
       "#sk-container-id-3 div.sk-dashed-wrapped {\n",
       "  border: 1px dashed var(--sklearn-color-line);\n",
       "  margin: 0 0.4em 0.5em 0.4em;\n",
       "  box-sizing: border-box;\n",
       "  padding-bottom: 0.4em;\n",
       "  background-color: var(--sklearn-color-background);\n",
       "}\n",
       "\n",
       "#sk-container-id-3 div.sk-container {\n",
       "  /* jupyter's `normalize.less` sets `[hidden] { display: none; }`\n",
       "     but bootstrap.min.css set `[hidden] { display: none !important; }`\n",
       "     so we also need the `!important` here to be able to override the\n",
       "     default hidden behavior on the sphinx rendered scikit-learn.org.\n",
       "     See: https://github.com/scikit-learn/scikit-learn/issues/21755 */\n",
       "  display: inline-block !important;\n",
       "  position: relative;\n",
       "}\n",
       "\n",
       "#sk-container-id-3 div.sk-text-repr-fallback {\n",
       "  display: none;\n",
       "}\n",
       "\n",
       "div.sk-parallel-item,\n",
       "div.sk-serial,\n",
       "div.sk-item {\n",
       "  /* draw centered vertical line to link estimators */\n",
       "  background-image: linear-gradient(var(--sklearn-color-text-on-default-background), var(--sklearn-color-text-on-default-background));\n",
       "  background-size: 2px 100%;\n",
       "  background-repeat: no-repeat;\n",
       "  background-position: center center;\n",
       "}\n",
       "\n",
       "/* Parallel-specific style estimator block */\n",
       "\n",
       "#sk-container-id-3 div.sk-parallel-item::after {\n",
       "  content: \"\";\n",
       "  width: 100%;\n",
       "  border-bottom: 2px solid var(--sklearn-color-text-on-default-background);\n",
       "  flex-grow: 1;\n",
       "}\n",
       "\n",
       "#sk-container-id-3 div.sk-parallel {\n",
       "  display: flex;\n",
       "  align-items: stretch;\n",
       "  justify-content: center;\n",
       "  background-color: var(--sklearn-color-background);\n",
       "  position: relative;\n",
       "}\n",
       "\n",
       "#sk-container-id-3 div.sk-parallel-item {\n",
       "  display: flex;\n",
       "  flex-direction: column;\n",
       "}\n",
       "\n",
       "#sk-container-id-3 div.sk-parallel-item:first-child::after {\n",
       "  align-self: flex-end;\n",
       "  width: 50%;\n",
       "}\n",
       "\n",
       "#sk-container-id-3 div.sk-parallel-item:last-child::after {\n",
       "  align-self: flex-start;\n",
       "  width: 50%;\n",
       "}\n",
       "\n",
       "#sk-container-id-3 div.sk-parallel-item:only-child::after {\n",
       "  width: 0;\n",
       "}\n",
       "\n",
       "/* Serial-specific style estimator block */\n",
       "\n",
       "#sk-container-id-3 div.sk-serial {\n",
       "  display: flex;\n",
       "  flex-direction: column;\n",
       "  align-items: center;\n",
       "  background-color: var(--sklearn-color-background);\n",
       "  padding-right: 1em;\n",
       "  padding-left: 1em;\n",
       "}\n",
       "\n",
       "\n",
       "/* Toggleable style: style used for estimator/Pipeline/ColumnTransformer box that is\n",
       "clickable and can be expanded/collapsed.\n",
       "- Pipeline and ColumnTransformer use this feature and define the default style\n",
       "- Estimators will overwrite some part of the style using the `sk-estimator` class\n",
       "*/\n",
       "\n",
       "/* Pipeline and ColumnTransformer style (default) */\n",
       "\n",
       "#sk-container-id-3 div.sk-toggleable {\n",
       "  /* Default theme specific background. It is overwritten whether we have a\n",
       "  specific estimator or a Pipeline/ColumnTransformer */\n",
       "  background-color: var(--sklearn-color-background);\n",
       "}\n",
       "\n",
       "/* Toggleable label */\n",
       "#sk-container-id-3 label.sk-toggleable__label {\n",
       "  cursor: pointer;\n",
       "  display: flex;\n",
       "  width: 100%;\n",
       "  margin-bottom: 0;\n",
       "  padding: 0.5em;\n",
       "  box-sizing: border-box;\n",
       "  text-align: center;\n",
       "  align-items: start;\n",
       "  justify-content: space-between;\n",
       "  gap: 0.5em;\n",
       "}\n",
       "\n",
       "#sk-container-id-3 label.sk-toggleable__label .caption {\n",
       "  font-size: 0.6rem;\n",
       "  font-weight: lighter;\n",
       "  color: var(--sklearn-color-text-muted);\n",
       "}\n",
       "\n",
       "#sk-container-id-3 label.sk-toggleable__label-arrow:before {\n",
       "  /* Arrow on the left of the label */\n",
       "  content: \"▸\";\n",
       "  float: left;\n",
       "  margin-right: 0.25em;\n",
       "  color: var(--sklearn-color-icon);\n",
       "}\n",
       "\n",
       "#sk-container-id-3 label.sk-toggleable__label-arrow:hover:before {\n",
       "  color: var(--sklearn-color-text);\n",
       "}\n",
       "\n",
       "/* Toggleable content - dropdown */\n",
       "\n",
       "#sk-container-id-3 div.sk-toggleable__content {\n",
       "  max-height: 0;\n",
       "  max-width: 0;\n",
       "  overflow: hidden;\n",
       "  text-align: left;\n",
       "  /* unfitted */\n",
       "  background-color: var(--sklearn-color-unfitted-level-0);\n",
       "}\n",
       "\n",
       "#sk-container-id-3 div.sk-toggleable__content.fitted {\n",
       "  /* fitted */\n",
       "  background-color: var(--sklearn-color-fitted-level-0);\n",
       "}\n",
       "\n",
       "#sk-container-id-3 div.sk-toggleable__content pre {\n",
       "  margin: 0.2em;\n",
       "  border-radius: 0.25em;\n",
       "  color: var(--sklearn-color-text);\n",
       "  /* unfitted */\n",
       "  background-color: var(--sklearn-color-unfitted-level-0);\n",
       "}\n",
       "\n",
       "#sk-container-id-3 div.sk-toggleable__content.fitted pre {\n",
       "  /* unfitted */\n",
       "  background-color: var(--sklearn-color-fitted-level-0);\n",
       "}\n",
       "\n",
       "#sk-container-id-3 input.sk-toggleable__control:checked~div.sk-toggleable__content {\n",
       "  /* Expand drop-down */\n",
       "  max-height: 200px;\n",
       "  max-width: 100%;\n",
       "  overflow: auto;\n",
       "}\n",
       "\n",
       "#sk-container-id-3 input.sk-toggleable__control:checked~label.sk-toggleable__label-arrow:before {\n",
       "  content: \"▾\";\n",
       "}\n",
       "\n",
       "/* Pipeline/ColumnTransformer-specific style */\n",
       "\n",
       "#sk-container-id-3 div.sk-label input.sk-toggleable__control:checked~label.sk-toggleable__label {\n",
       "  color: var(--sklearn-color-text);\n",
       "  background-color: var(--sklearn-color-unfitted-level-2);\n",
       "}\n",
       "\n",
       "#sk-container-id-3 div.sk-label.fitted input.sk-toggleable__control:checked~label.sk-toggleable__label {\n",
       "  background-color: var(--sklearn-color-fitted-level-2);\n",
       "}\n",
       "\n",
       "/* Estimator-specific style */\n",
       "\n",
       "/* Colorize estimator box */\n",
       "#sk-container-id-3 div.sk-estimator input.sk-toggleable__control:checked~label.sk-toggleable__label {\n",
       "  /* unfitted */\n",
       "  background-color: var(--sklearn-color-unfitted-level-2);\n",
       "}\n",
       "\n",
       "#sk-container-id-3 div.sk-estimator.fitted input.sk-toggleable__control:checked~label.sk-toggleable__label {\n",
       "  /* fitted */\n",
       "  background-color: var(--sklearn-color-fitted-level-2);\n",
       "}\n",
       "\n",
       "#sk-container-id-3 div.sk-label label.sk-toggleable__label,\n",
       "#sk-container-id-3 div.sk-label label {\n",
       "  /* The background is the default theme color */\n",
       "  color: var(--sklearn-color-text-on-default-background);\n",
       "}\n",
       "\n",
       "/* On hover, darken the color of the background */\n",
       "#sk-container-id-3 div.sk-label:hover label.sk-toggleable__label {\n",
       "  color: var(--sklearn-color-text);\n",
       "  background-color: var(--sklearn-color-unfitted-level-2);\n",
       "}\n",
       "\n",
       "/* Label box, darken color on hover, fitted */\n",
       "#sk-container-id-3 div.sk-label.fitted:hover label.sk-toggleable__label.fitted {\n",
       "  color: var(--sklearn-color-text);\n",
       "  background-color: var(--sklearn-color-fitted-level-2);\n",
       "}\n",
       "\n",
       "/* Estimator label */\n",
       "\n",
       "#sk-container-id-3 div.sk-label label {\n",
       "  font-family: monospace;\n",
       "  font-weight: bold;\n",
       "  display: inline-block;\n",
       "  line-height: 1.2em;\n",
       "}\n",
       "\n",
       "#sk-container-id-3 div.sk-label-container {\n",
       "  text-align: center;\n",
       "}\n",
       "\n",
       "/* Estimator-specific */\n",
       "#sk-container-id-3 div.sk-estimator {\n",
       "  font-family: monospace;\n",
       "  border: 1px dotted var(--sklearn-color-border-box);\n",
       "  border-radius: 0.25em;\n",
       "  box-sizing: border-box;\n",
       "  margin-bottom: 0.5em;\n",
       "  /* unfitted */\n",
       "  background-color: var(--sklearn-color-unfitted-level-0);\n",
       "}\n",
       "\n",
       "#sk-container-id-3 div.sk-estimator.fitted {\n",
       "  /* fitted */\n",
       "  background-color: var(--sklearn-color-fitted-level-0);\n",
       "}\n",
       "\n",
       "/* on hover */\n",
       "#sk-container-id-3 div.sk-estimator:hover {\n",
       "  /* unfitted */\n",
       "  background-color: var(--sklearn-color-unfitted-level-2);\n",
       "}\n",
       "\n",
       "#sk-container-id-3 div.sk-estimator.fitted:hover {\n",
       "  /* fitted */\n",
       "  background-color: var(--sklearn-color-fitted-level-2);\n",
       "}\n",
       "\n",
       "/* Specification for estimator info (e.g. \"i\" and \"?\") */\n",
       "\n",
       "/* Common style for \"i\" and \"?\" */\n",
       "\n",
       ".sk-estimator-doc-link,\n",
       "a:link.sk-estimator-doc-link,\n",
       "a:visited.sk-estimator-doc-link {\n",
       "  float: right;\n",
       "  font-size: smaller;\n",
       "  line-height: 1em;\n",
       "  font-family: monospace;\n",
       "  background-color: var(--sklearn-color-background);\n",
       "  border-radius: 1em;\n",
       "  height: 1em;\n",
       "  width: 1em;\n",
       "  text-decoration: none !important;\n",
       "  margin-left: 0.5em;\n",
       "  text-align: center;\n",
       "  /* unfitted */\n",
       "  border: var(--sklearn-color-unfitted-level-1) 1pt solid;\n",
       "  color: var(--sklearn-color-unfitted-level-1);\n",
       "}\n",
       "\n",
       ".sk-estimator-doc-link.fitted,\n",
       "a:link.sk-estimator-doc-link.fitted,\n",
       "a:visited.sk-estimator-doc-link.fitted {\n",
       "  /* fitted */\n",
       "  border: var(--sklearn-color-fitted-level-1) 1pt solid;\n",
       "  color: var(--sklearn-color-fitted-level-1);\n",
       "}\n",
       "\n",
       "/* On hover */\n",
       "div.sk-estimator:hover .sk-estimator-doc-link:hover,\n",
       ".sk-estimator-doc-link:hover,\n",
       "div.sk-label-container:hover .sk-estimator-doc-link:hover,\n",
       ".sk-estimator-doc-link:hover {\n",
       "  /* unfitted */\n",
       "  background-color: var(--sklearn-color-unfitted-level-3);\n",
       "  color: var(--sklearn-color-background);\n",
       "  text-decoration: none;\n",
       "}\n",
       "\n",
       "div.sk-estimator.fitted:hover .sk-estimator-doc-link.fitted:hover,\n",
       ".sk-estimator-doc-link.fitted:hover,\n",
       "div.sk-label-container:hover .sk-estimator-doc-link.fitted:hover,\n",
       ".sk-estimator-doc-link.fitted:hover {\n",
       "  /* fitted */\n",
       "  background-color: var(--sklearn-color-fitted-level-3);\n",
       "  color: var(--sklearn-color-background);\n",
       "  text-decoration: none;\n",
       "}\n",
       "\n",
       "/* Span, style for the box shown on hovering the info icon */\n",
       ".sk-estimator-doc-link span {\n",
       "  display: none;\n",
       "  z-index: 9999;\n",
       "  position: relative;\n",
       "  font-weight: normal;\n",
       "  right: .2ex;\n",
       "  padding: .5ex;\n",
       "  margin: .5ex;\n",
       "  width: min-content;\n",
       "  min-width: 20ex;\n",
       "  max-width: 50ex;\n",
       "  color: var(--sklearn-color-text);\n",
       "  box-shadow: 2pt 2pt 4pt #999;\n",
       "  /* unfitted */\n",
       "  background: var(--sklearn-color-unfitted-level-0);\n",
       "  border: .5pt solid var(--sklearn-color-unfitted-level-3);\n",
       "}\n",
       "\n",
       ".sk-estimator-doc-link.fitted span {\n",
       "  /* fitted */\n",
       "  background: var(--sklearn-color-fitted-level-0);\n",
       "  border: var(--sklearn-color-fitted-level-3);\n",
       "}\n",
       "\n",
       ".sk-estimator-doc-link:hover span {\n",
       "  display: block;\n",
       "}\n",
       "\n",
       "/* \"?\"-specific style due to the `<a>` HTML tag */\n",
       "\n",
       "#sk-container-id-3 a.estimator_doc_link {\n",
       "  float: right;\n",
       "  font-size: 1rem;\n",
       "  line-height: 1em;\n",
       "  font-family: monospace;\n",
       "  background-color: var(--sklearn-color-background);\n",
       "  border-radius: 1rem;\n",
       "  height: 1rem;\n",
       "  width: 1rem;\n",
       "  text-decoration: none;\n",
       "  /* unfitted */\n",
       "  color: var(--sklearn-color-unfitted-level-1);\n",
       "  border: var(--sklearn-color-unfitted-level-1) 1pt solid;\n",
       "}\n",
       "\n",
       "#sk-container-id-3 a.estimator_doc_link.fitted {\n",
       "  /* fitted */\n",
       "  border: var(--sklearn-color-fitted-level-1) 1pt solid;\n",
       "  color: var(--sklearn-color-fitted-level-1);\n",
       "}\n",
       "\n",
       "/* On hover */\n",
       "#sk-container-id-3 a.estimator_doc_link:hover {\n",
       "  /* unfitted */\n",
       "  background-color: var(--sklearn-color-unfitted-level-3);\n",
       "  color: var(--sklearn-color-background);\n",
       "  text-decoration: none;\n",
       "}\n",
       "\n",
       "#sk-container-id-3 a.estimator_doc_link.fitted:hover {\n",
       "  /* fitted */\n",
       "  background-color: var(--sklearn-color-fitted-level-3);\n",
       "}\n",
       "</style><div id=\"sk-container-id-3\" class=\"sk-top-container\"><div class=\"sk-text-repr-fallback\"><pre>RandomForestClassifier(random_state=42)</pre><b>In a Jupyter environment, please rerun this cell to show the HTML representation or trust the notebook. <br />On GitHub, the HTML representation is unable to render, please try loading this page with nbviewer.org.</b></div><div class=\"sk-container\" hidden><div class=\"sk-item\"><div class=\"sk-estimator fitted sk-toggleable\"><input class=\"sk-toggleable__control sk-hidden--visually\" id=\"sk-estimator-id-3\" type=\"checkbox\" checked><label for=\"sk-estimator-id-3\" class=\"sk-toggleable__label fitted sk-toggleable__label-arrow\"><div><div>RandomForestClassifier</div></div><div><a class=\"sk-estimator-doc-link fitted\" rel=\"noreferrer\" target=\"_blank\" href=\"https://scikit-learn.org/1.6/modules/generated/sklearn.ensemble.RandomForestClassifier.html\">?<span>Documentation for RandomForestClassifier</span></a><span class=\"sk-estimator-doc-link fitted\">i<span>Fitted</span></span></div></label><div class=\"sk-toggleable__content fitted\"><pre>RandomForestClassifier(random_state=42)</pre></div> </div></div></div></div>"
      ],
      "text/plain": [
       "RandomForestClassifier(random_state=42)"
      ]
     },
     "execution_count": 139,
     "metadata": {},
     "output_type": "execute_result"
    }
   ],
   "source": [
    "from sklearn.ensemble import RandomForestClassifier\n",
    "\n",
    "model_smote = RandomForestClassifier(random_state=42)\n",
    "model_smote.fit(X_train_smote, y_train_smote)\n"
   ]
  },
  {
   "cell_type": "code",
   "execution_count": 140,
   "id": "324f5c0f",
   "metadata": {},
   "outputs": [
    {
     "name": "stdout",
     "output_type": "stream",
     "text": [
      "Accuracy: 0.625615763546798\n",
      "              precision    recall  f1-score   support\n",
      "\n",
      "           0       0.44      0.58      0.50       196\n",
      "           1       0.77      0.65      0.70       413\n",
      "\n",
      "    accuracy                           0.63       609\n",
      "   macro avg       0.60      0.61      0.60       609\n",
      "weighted avg       0.66      0.63      0.64       609\n",
      "\n"
     ]
    }
   ],
   "source": [
    "from sklearn.metrics import classification_report, accuracy_score\n",
    "\n",
    "y_pred = model.predict(X_test)\n",
    "\n",
    "print(\"Accuracy:\", accuracy_score(y_test, y_pred))\n",
    "print(classification_report(y_test, y_pred))\n"
   ]
  },
  {
   "cell_type": "code",
   "execution_count": 141,
   "id": "d1e6514b",
   "metadata": {},
   "outputs": [
    {
     "data": {
      "text/plain": [
       "['encoded_columns.pkl']"
      ]
     },
     "execution_count": 141,
     "metadata": {},
     "output_type": "execute_result"
    }
   ],
   "source": [
    "import joblib\n",
    "\n",
    "joblib.dump(model, 'rf_model_smote.pkl')\n",
    "joblib.dump(X_train.columns, 'encoded_columns.pkl')  # for Streamlit input processing\n"
   ]
  },
  {
   "cell_type": "code",
   "execution_count": null,
   "id": "2446903a",
   "metadata": {},
   "outputs": [],
   "source": []
  }
 ],
 "metadata": {
  "kernelspec": {
   "display_name": "Python (venv)",
   "language": "python",
   "name": "venv"
  },
  "language_info": {
   "codemirror_mode": {
    "name": "ipython",
    "version": 3
   },
   "file_extension": ".py",
   "mimetype": "text/x-python",
   "name": "python",
   "nbconvert_exporter": "python",
   "pygments_lexer": "ipython3",
   "version": "3.10.0"
  }
 },
 "nbformat": 4,
 "nbformat_minor": 5
}
